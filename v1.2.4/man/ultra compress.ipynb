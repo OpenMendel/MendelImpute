{
 "cells": [
  {
   "cell_type": "markdown",
   "metadata": {},
   "source": [
    "# Ultra-compressed format\n",
    "\n",
    "One can optionally save/load ultra-compressed phased genotypes after imputation. Ultra-compression is nothing fancy. Instead of converting haplotype segments into genotypes, this protocol simply saves the starting position and the correct haplotype label. We put this result into our own data structure, and saving/loading is achieved by the [JLSO package](https://github.com/invenia/JLSO.jl). \n",
    "\n",
    "## Saving\n",
    "\n",
    "Appending `.jlso` to the output file name will signal MendelImpute to save data in ultra-compressed format. For admixture estimation, we require one to save in `.jlso` format."
   ]
  },
  {
   "cell_type": "code",
   "execution_count": 1,
   "metadata": {
    "collapsed": false
   },
   "outputs": [
    {
     "name": "stdout",
     "output_type": "stream",
     "text": [
      "Number of threads = 1\n",
      "Importing reference haplotype data...\n"
     ]
    },
    {
     "name": "stderr",
     "output_type": "stream",
     "text": [
      "\u001b[32mComputing optimal haplotypes...100%|████████████████████| Time: 0:00:23\u001b[39m\n",
      "\u001b[32mPhasing...100%|█████████████████████████████████████████| Time: 0:00:05\u001b[39m\n"
     ]
    },
    {
     "name": "stdout",
     "output_type": "stream",
     "text": [
      "Total windows = 1634, averaging ~ 508 unique haplotypes per window.\n",
      "\n",
      "Timings: \n",
      "    Data import                     = 13.5855 seconds\n",
      "        import target data             = 2.99557 seconds\n",
      "        import compressed haplotypes   = 10.5899 seconds\n",
      "    Computing haplotype pair        = 23.5138 seconds\n",
      "        BLAS3 mul! to get M and N      = 1.02228 seconds per thread\n",
      "        haplopair search               = 18.3673 seconds per thread\n",
      "        initializing missing           = 0.101495 seconds per thread\n",
      "        allocating and viewing         = 0.270367 seconds per thread\n",
      "        index conversion               = 0.0212053 seconds per thread\n",
      "    Phasing by win-win intersection = 5.17088 seconds\n",
      "        Window-by-window intersection  = 0.499549 seconds per thread\n",
      "        Breakpoint search              = 3.71212 seconds per thread\n",
      "        Recording result               = 0.00855205 seconds per thread\n",
      "    Imputation                     = 3.04347 seconds\n",
      "        Imputing missing               = 0.0513904 seconds\n",
      "        Writing to file                = 2.99208 seconds\n",
      "\n",
      "    Total time                      = 45.5041 seconds\n",
      "\n",
      " 60.231372 seconds (124.56 M allocations: 6.857 GiB, 5.31% gc time)\n"
     ]
    }
   ],
   "source": [
    "# first load all necessary packages\n",
    "using MendelImpute\n",
    "using VCFTools\n",
    "\n",
    "# compute each person's phase information\n",
    "tgtfile = \"target.chr22.typedOnly.masked.vcf.gz\"\n",
    "reffile = \"ref.chr22.maxd1000.excludeTarget.jlso\"\n",
    "outfile = \"mendel.imputed.jlso\" # output file name ends in jlso!\n",
    "@time phaseinfo = phase(tgtfile, reffile, outfile);"
   ]
  },
  {
   "cell_type": "markdown",
   "metadata": {},
   "source": [
    "The object saved to `mendel.imputed.jlso` is literally the `phaseinfo` variable. We can inspect its element:"
   ]
  },
  {
   "cell_type": "code",
   "execution_count": 2,
   "metadata": {
    "collapsed": false
   },
   "outputs": [
    {
     "data": {
      "text/plain": [
       "545×2 Array{Int64,2}:\n",
       "      1  4119\n",
       "    236   887\n",
       "    423   272\n",
       "    622    12\n",
       "    741   124\n",
       "    792     4\n",
       "    824    24\n",
       "    944  1282\n",
       "   1116  1741\n",
       "   1202  4543\n",
       "   1691  1198\n",
       "   3031    22\n",
       "   3521    18\n",
       "      ⋮  \n",
       " 411702   877\n",
       " 412185    74\n",
       " 413733  3849\n",
       " 413868   248\n",
       " 414371    31\n",
       " 414552  3187\n",
       " 414989  4481\n",
       " 415807     5\n",
       " 415965   143\n",
       " 416352  1276\n",
       " 416744    71\n",
       " 417014   311"
      ]
     },
     "execution_count": 2,
     "metadata": {},
     "output_type": "execute_result"
    }
   ],
   "source": [
    "# look at sample 1's haplotype segments\n",
    "haplotype_labels = phaseinfo[1].strand1.haplotypelabel # strand1\n",
    "haplotype_start = phaseinfo[1].strand1.start # strand1\n",
    "[haplotype_start haplotype_labels]"
   ]
  },
  {
   "cell_type": "markdown",
   "metadata": {},
   "source": [
    "## Loading\n",
    "\n",
    "The function [convert_compressed](https://OpenMendel.github.io/MendelImpute.jl/dev/man/api/#MendelImpute.convert_compressed) will load the ultra-compressed data into genotype matrices and the original `phaseinfo` data structure. \n",
    "\n",
    "**Note: Decompressing requires loading the original haplotype reference panel.** "
   ]
  },
  {
   "cell_type": "code",
   "execution_count": 3,
   "metadata": {
    "collapsed": false
   },
   "outputs": [
    {
     "name": "stderr",
     "output_type": "stream",
     "text": [
      "\u001b[32mimporting reference data...100%|████████████████████████| Time: 0:01:51\u001b[39m\n"
     ]
    }
   ],
   "source": [
    "tgtfile = \"mendel.imputed.jlso\" # ultra-compressed genotypes after phasing & imputation\n",
    "reffile = \"ref.chr22.excludeTarget.vcf.gz\" # original haplotype reference file\n",
    "X1, X2, phaseinfo, sampleID, H = convert_compressed(Float64, tgtfile, reffile);"
   ]
  },
  {
   "cell_type": "markdown",
   "metadata": {},
   "source": [
    "Check this compression protocol exhibit same error rate with [standard VCF compression](https://OpenMendel.github.io/MendelImpute.jl/dev/man/Phasing+and+Imputation/#Step-4:-%28only-for-simulated-data%29-check-imputation-accuracy). Note that `X1`, `X2`, and `H` are transposed. "
   ]
  },
  {
   "cell_type": "code",
   "execution_count": 4,
   "metadata": {
    "collapsed": false
   },
   "outputs": [
    {
     "name": "stdout",
     "output_type": "stream",
     "text": [
      "error overall = 0.00527504782243333\n"
     ]
    }
   ],
   "source": [
    "X_truth  = convert_gt(Float64, \"target.chr22.full.vcf.gz\") # import true genotypes\n",
    "X_mendel = (X1 + X2)' # transpose X1 and X2\n",
    "n, p = size(X_mendel)\n",
    "println(\"error overall = $(sum(X_mendel .!= X_truth) / n / p)\")"
   ]
  }
 ],
 "metadata": {
  "@webio": {
   "lastCommId": null,
   "lastKernelId": null
  },
  "kernelspec": {
   "display_name": "Julia 1.5.0",
   "language": "julia",
   "name": "julia-1.5"
  },
  "language_info": {
   "file_extension": ".jl",
   "mimetype": "application/julia",
   "name": "julia",
   "version": "1.5.0"
  }
 },
 "nbformat": 4,
 "nbformat_minor": 2
}
