{
 "cells": [
  {
   "cell_type": "markdown",
   "metadata": {},
   "source": [
    "# Preparing Target Data\n",
    "\n",
    "MendelImpute accepts [VCF](https://samtools.github.io/hts-specs/VCFv4.3.pdf), [PLINK (.bed/.bim/.fam)](https://www.cog-genomics.org/plink2/formats#bed), and [BGEN](https://www.well.ox.ac.uk/~gav/bgen_format/) files.  Please make sure the following are true:\n",
    "\n",
    "+ Missing data is allowed. Genotypes does not have to be phased. \n",
    "+ VCF file ends in `.vcf` or `.vcf.gz`\n",
    "+ BGEN file ends in `.bgen`. If available, index files should have the same prefix. (e.g. `genotypes.bgen` should have index file called `genotypes.bgen.bgi`. Sample identifiers may be either contained in the `.bgen` file or listed in an external `genotypes.sample` file.\n",
    "+ For PLINK files, all trios (`.bim`, `.bed`, `.fam`) are present in the same directory\n",
    "+ Each file contains only 1 (non-sex) chromosome\n",
    "+ Every record (SNP) in the imputation target is present in the reference panel. If this is untrue, you must [match markers in 2 VCF files](https://openmendel.github.io/VCFTools.jl/dev/man/conformgt/). \n",
    "+ Given a SNP, its CHROM, POS, REF, and  ALT fields are the same in target data and reference panel. MendelImpute use SNP position internally to align markers. \n",
    "+ The position of every SNP is unique: so multiallelic markers should be excluded instead of split (this requirement will eventually be lifted). "
   ]
  },
  {
   "cell_type": "markdown",
   "metadata": {},
   "source": [
    "!!! note\n",
    "\n",
    "    Currently only BGEN inputs support index files. Indexing support for VCF files coming soon..."
   ]
  },
  {
   "cell_type": "markdown",
   "metadata": {},
   "source": [
    "# Preparing Reference Haplotype Panel\n",
    "\n",
    "Reference samples must be in VCF (`.vcf` or `.vcf.gz`) or BGEN (`.bgen`) format, every record must be phased, and contain no missing genotypes. Reference panels must be compressed into `.jlso` format first using the [compress_haplotypes](https://OpenMendel.github.io/MendelImpute.jl/dev/man/api/#MendelImpute.compress_haplotypes) function. One must specify `d`: the maximum number of unique haplotypes per window. Larger `d` slows down computation, but increases accuracy. For most purposes, we recommend $d \\approx 1000$. \n",
    "\n",
    "# Detailed Example\n",
    "\n",
    "We use the [1000 genomes chromosome 22](http://bochet.gcc.biostat.washington.edu/beagle/1000_Genomes_phase3_v5a/b37.vcf/) as an example. As show below, this data contains 424147 SNPs and 2504 samples."
   ]
  },
  {
   "cell_type": "code",
   "execution_count": 1,
   "metadata": {
    "collapsed": false
   },
   "outputs": [
    {
     "name": "stderr",
     "output_type": "stream",
     "text": [
      "┌ Info: Precompiling MendelImpute [e47305d1-6a61-5370-bc5d-77554d143183]\n",
      "└ @ Base loading.jl:1317\n"
     ]
    },
    {
     "name": "stdout",
     "output_type": "stream",
     "text": [
      "nrecords(data) = 424147\n",
      "nsamples(data) = 2504\n"
     ]
    }
   ],
   "source": [
    "# load necessary packages in Julia\n",
    "using VCFTools\n",
    "using MendelImpute\n",
    "using VCFTools\n",
    "using Random\n",
    "\n",
    "# compute simple summary statistics\n",
    "data = \"chr22.1kg.phase3.v5a.vcf.gz\"\n",
    "@show nrecords(data)\n",
    "@show nsamples(data);"
   ]
  },
  {
   "cell_type": "markdown",
   "metadata": {},
   "source": [
    "More summary statistics can be computed using the [gtstats](https://openmendel.github.io/VCFTools.jl/dev/man/api/#VCFTools.gtstats) function in `VCFTools.jl`, with example usage [here](https://openmendel.github.io/VCFTools.jl/dev/man/summaryinfo/#Summary-statistics).\n",
    "\n",
    "## Step 1: generating realistic reference and target data \n",
    "\n",
    "First we generate a reference panel and imputation target based on the 1000 genomes data. Specifically, we divide the 1000 genomes chromosome 22 data so that \n",
    "+ 100 samples are randomly selected as imputation targets, where\n",
    "    - 100k SNPs with minor allele frequency $\\ge 0.05$ are randomly selected to be the typed positions. \n",
    "    - 0.1% of typed SNPs are masked (mimicking genotyping errors)\n",
    "    - Genotypes are unphased\n",
    "+ The remaining 2404 samples are used as reference haplotypes. \n",
    "+ SNPs with duplicate positions are filtered out.\n",
    "+ All multiallelic markers are filtered out.\n",
    "\n",
    "**Instruction: execute the code below in a Julia session or a Jupyter notebook:**"
   ]
  },
  {
   "cell_type": "code",
   "execution_count": 1,
   "metadata": {
    "collapsed": false
   },
   "outputs": [
    {
     "name": "stderr",
     "output_type": "stream",
     "text": [
      "┌ Info: Precompiling MendelImpute [e47305d1-6a61-5370-bc5d-77554d143183]\n",
      "└ @ Base loading.jl:1278\n",
      "\u001b[32mfinding duplicate markers...100%|███████████████████████| Time: 0:03:56\u001b[39m\n",
      "\u001b[32mfiltering vcf file...100%|██████████████████████████████| Time: 0:04:46\u001b[39m\n"
     ]
    },
    {
     "name": "stdout",
     "output_type": "stream",
     "text": [
      "292.131527 seconds (3.20 G allocations: 301.789 GiB, 7.89% gc time)\n"
     ]
    },
    {
     "name": "stderr",
     "output_type": "stream",
     "text": [
      "\u001b[32mProgress: 100%|█████████████████████████████████████████| Time: 0:04:02\u001b[39m\n",
      "\u001b[32mfiltering vcf file...100%|██████████████████████████████| Time: 0:03:59\u001b[39m\n"
     ]
    },
    {
     "name": "stdout",
     "output_type": "stream",
     "text": [
      "244.425505 seconds (3.18 G allocations: 301.694 GiB, 9.69% gc time)\n",
      "  1.935526 seconds (20.00 M allocations: 1.491 GiB, 6.33% gc time)\n"
     ]
    },
    {
     "name": "stderr",
     "output_type": "stream",
     "text": [
      "\u001b[32mfiltering vcf file...100%|██████████████████████████████| Time: 0:04:10\u001b[39m\n"
     ]
    },
    {
     "name": "stdout",
     "output_type": "stream",
     "text": [
      "255.505399 seconds (3.27 G allocations: 317.749 GiB, 9.95% gc time)\n"
     ]
    },
    {
     "name": "stderr",
     "output_type": "stream",
     "text": [
      "\u001b[32mfiltering vcf file...100%|██████████████████████████████| Time: 0:07:27\u001b[39m\n"
     ]
    },
    {
     "name": "stdout",
     "output_type": "stream",
     "text": [
      "453.383147 seconds (6.16 G allocations: 566.535 GiB, 10.16% gc time)\n"
     ]
    }
   ],
   "source": [
    "# set random seed for reproducibility\n",
    "Random.seed!(2020)\n",
    "\n",
    "# download example data \n",
    "data = \"chr22.1kg.phase3.v5a.vcf.gz\"\n",
    "if !isfile(data) \n",
    "    download(\"http://bochet.gcc.biostat.washington.edu/beagle/1000_Genomes_phase3_v5a/b37.vcf/chr22.1kg.phase3.v5a.vcf.gz\")\n",
    "end\n",
    "\n",
    "# remove SNPs with the same positions, keep all samples, save result into new file\n",
    "SNPs_to_keep = .!find_duplicate_marker(data) \n",
    "@time VCFTools.filter(data, SNPs_to_keep, 1:nsamples(data), des = \"chr22.uniqueSNPs.vcf.gz\")\n",
    "\n",
    "# summarize data\n",
    "total_snps, samples, _, _, _, maf_by_record, _ = gtstats(\"chr22.uniqueSNPs.vcf.gz\")\n",
    "\n",
    "# generate target file with 100 samples and 100k snps with maf>0.05\n",
    "n = 100\n",
    "p = 100000\n",
    "record_idx = falses(total_snps)\n",
    "large_maf = findall(x -> x > 0.05, maf_by_record)  \n",
    "Random.shuffle!(large_maf)\n",
    "record_idx[large_maf[1:p]] .= true\n",
    "sample_idx = falses(samples)\n",
    "sample_idx[1:n] .= true\n",
    "Random.shuffle!(sample_idx)\n",
    "@time VCFTools.filter(\"chr22.uniqueSNPs.vcf.gz\", record_idx, sample_idx, \n",
    "    des = \"target.chr22.typedOnly.vcf.gz\", allow_multiallelic=false)\n",
    "\n",
    "# unphase and mask 0.1% entries in target file\n",
    "masks = falses(p, n)\n",
    "missingprop = 0.001\n",
    "for j in 1:n, i in 1:p\n",
    "    rand() < missingprop && (masks[i, j] = true)\n",
    "end\n",
    "@time mask_gt(\"target.chr22.typedOnly.vcf.gz\", masks, \n",
    "    des=\"target.chr22.typedOnly.masked.vcf.gz\", unphase=true)\n",
    "\n",
    "# generate target panel with all snps (this file contains true phase and genotypes)\n",
    "@time VCFTools.filter(\"chr22.uniqueSNPs.vcf.gz\", 1:total_snps, \n",
    "    sample_idx, des = \"target.chr22.full.vcf.gz\", allow_multiallelic=false)\n",
    "\n",
    "# generate reference panel with 2404 samples\n",
    "@time VCFTools.filter(\"chr22.uniqueSNPs.vcf.gz\", 1:total_snps, .!sample_idx, \n",
    "    des = \"ref.chr22.excludeTarget.vcf.gz\", allow_multiallelic=false)"
   ]
  },
  {
   "cell_type": "markdown",
   "metadata": {},
   "source": [
    "### Output explanation:\n",
    "\n",
    "You just generated reference and target VCF files:\n",
    "\n",
    "+ `ref.chr22.excludeTarget.vcf.gz`: Reference haplotype panel with 2404 samples\n",
    "+ `target.chr22.typedOnly.masked.vcf.gz`: Imputation target file containing 100 samples at 100k SNPs. All genotypes are unphased and contains 0.1% missing data. \n",
    "\n",
    "You also generated/downloaded:\n",
    "\n",
    "+ `chr22.1kg.phase3.v5a.vcf.gz`: The original chromosome 22 data downloaded from Beagle's website.\n",
    "+ `chr22.uniqueSNPs.vcf.gz`: This is the original chromosome 22 data excluding duplicate records (SNPs) by checking marker positions. The first SNP is included but all subsequent SNPs are removed. \n",
    "+ `target.chr22.full.vcf.gz`: The complete data for imputation target, used for checking imputation accuracy. All genotypes are phased and non-missing. \n",
    "+ `target.chr22.typedOnly.vcf.gz`: Complete target data on just the typed SNPs. All genotypes are phased and non-missing. Just by-producted for generating other files; not used for anything downstream."
   ]
  },
  {
   "cell_type": "markdown",
   "metadata": {},
   "source": [
    "## Step 2: generating `.jlso` compressed reference panel\n",
    "\n",
    "MendelImpute requires one to pre-process the reference panel for faster reading. This is achieved via the [compress_haplotypes](https://openmendel.github.io/MendelImpute.jl/dev/man/api/#MendelImpute.compress_haplotypes) function."
   ]
  },
  {
   "cell_type": "code",
   "execution_count": 2,
   "metadata": {
    "collapsed": false
   },
   "outputs": [
    {
     "name": "stderr",
     "output_type": "stream",
     "text": [
      "\u001b[32mimporting reference data...100%|████████████████████████| Time: 0:02:00\u001b[39m\n"
     ]
    },
    {
     "name": "stdout",
     "output_type": "stream",
     "text": [
      "295.546081 seconds (2.09 G allocations: 209.215 GiB, 10.53% gc time)\n"
     ]
    }
   ],
   "source": [
    "# load necessary packages in Julia\n",
    "using MendelImpute\n",
    "\n",
    "max_d = 1000 # maximum number of unique haplotypes per window\n",
    "reffile = \"ref.chr22.excludeTarget.vcf.gz\"\n",
    "tgtfile = \"target.chr22.typedOnly.masked.vcf.gz\"\n",
    "outfile = \"ref.chr22.maxd1000.excludeTarget.jlso\"\n",
    "@time compress_haplotypes(reffile, tgtfile, outfile, max_d)"
   ]
  },
  {
   "cell_type": "markdown",
   "metadata": {},
   "source": [
    "## Step 3: Run imputation and phasing\n",
    "\n",
    "The [phase](https://openmendel.github.io/MendelImpute.jl/dev/man/api/#MendelImpute.phase) function will perform imputation and phasing. By default, all output genotypes will be phased and non-missing. A list of optional inputs can be found in the [API](https://openmendel.github.io/MendelImpute.jl/dev/man/api/#MendelImpute.phase)."
   ]
  },
  {
   "cell_type": "code",
   "execution_count": 2,
   "metadata": {
    "collapsed": false
   },
   "outputs": [
    {
     "name": "stdout",
     "output_type": "stream",
     "text": [
      "Number of threads = 1\n",
      "Importing reference haplotype data...\n"
     ]
    },
    {
     "name": "stderr",
     "output_type": "stream",
     "text": [
      "\u001b[32mComputing optimal haplotypes...100%|████████████████████| Time: 0:00:25\u001b[39m\n",
      "\u001b[32mPhasing...100%|█████████████████████████████████████████| Time: 0:00:05\u001b[39m\n"
     ]
    },
    {
     "name": "stdout",
     "output_type": "stream",
     "text": [
      "Total windows = 1634, averaging ~ 508 unique haplotypes per window.\n",
      "\n",
      "Timings: \n",
      "    Data import                     = 12.6331 seconds\n",
      "        import target data             = 3.54785 seconds\n",
      "        import compressed haplotypes   = 9.08523 seconds\n",
      "    Computing haplotype pair        = 25.8112 seconds\n",
      "        BLAS3 mul! to get M and N      = 1.14179 seconds per thread\n",
      "        haplopair search               = 19.8237 seconds per thread\n",
      "        initializing missing           = 0.11383 seconds per thread\n",
      "        allocating and viewing         = 0.183436 seconds per thread\n",
      "        index conversion               = 0.0146743 seconds per thread\n",
      "    Phasing by win-win intersection = 5.31061 seconds\n",
      "        Window-by-window intersection  = 0.56512 seconds per thread\n",
      "        Breakpoint search              = 3.4102 seconds per thread\n",
      "        Recording result               = 0.182498 seconds per thread\n",
      "    Imputation                     = 5.03281 seconds\n",
      "        Imputing missing               = 1.15402 seconds\n",
      "        Writing to file                = 3.87878 seconds\n",
      "\n",
      "    Total time                      = 48.9418 seconds\n",
      "\n"
     ]
    }
   ],
   "source": [
    "# note: run twice for more accurate timing\n",
    "reffile = \"ref.chr22.maxd1000.excludeTarget.jlso\" # jlso reference file\n",
    "tgtfile = \"target.chr22.typedOnly.masked.vcf.gz\"  # target genotype file\n",
    "outfile = \"mendel.imputed.chr22.vcf.gz\"           # output file name\n",
    "phase(tgtfile, reffile, outfile);"
   ]
  },
  {
   "cell_type": "markdown",
   "metadata": {},
   "source": [
    "The `;` hides the output, or else the screen will be too jammed. "
   ]
  },
  {
   "cell_type": "markdown",
   "metadata": {},
   "source": [
    "## Step 3.5: (only for simulated data) check imputation accuracy\n",
    "\n",
    "Since we simulated data, we can check imputation accuracy."
   ]
  },
  {
   "cell_type": "code",
   "execution_count": 3,
   "metadata": {
    "collapsed": false
   },
   "outputs": [
    {
     "name": "stdout",
     "output_type": "stream",
     "text": [
      "error overall = 0.005273994412137202\n"
     ]
    }
   ],
   "source": [
    "X_truth  = convert_gt(Float64, \"target.chr22.full.vcf.gz\")    # import true genotypes\n",
    "X_mendel = convert_gt(Float64, \"mendel.imputed.chr22.vcf.gz\") # import imputed genotypes\n",
    "n, p = size(X_mendel)\n",
    "println(\"error overall = \", sum(X_mendel .!= X_truth) / n / p)"
   ]
  },
  {
   "cell_type": "markdown",
   "metadata": {},
   "source": [
    "Thus, we are looking at about 5 imputation error out of every 1000 SNPs. "
   ]
  },
  {
   "cell_type": "markdown",
   "metadata": {},
   "source": [
    "## Post-imputation: per-SNP Imputation Quality Score\n",
    "\n",
    "Consider the observed genotype $x_{ij} \\in [0, 2] \\cup \\{missing\\}$ at SNP $i$ of sample $j$ and the corresponding imputed genotype $g_{ij}$ derived from the two extended haplotypes of $j$. If $S_i$ denotes the set of individuals with observed genotypes at the SNP, then MendelImpute's quality score $q_i$ for the SNP is defined as\n",
    "\n",
    "$$q_i = 1 - \\frac{1}{|S_i|}\\sum_{j \\in S_i} \\left(\\frac{x_{ij} - g_{ij}}{2}\\right)^2.$$\n",
    "\n",
    "Note that $0 \\le q_i \\le 1$ and that the larger the quality score, the more confidence in the imputed values. Because $q_i$ can only be computed for the typed SNPs, an untyped SNP is assigned the average of the quality scores for its two closest flanking typed SNPs.\n",
    "\n",
    "To extract this score from a VCF file, one can do:"
   ]
  },
  {
   "cell_type": "code",
   "execution_count": 6,
   "metadata": {
    "collapsed": false
   },
   "outputs": [
    {
     "data": {
      "image/svg+xml": [
       "<?xml version=\"1.0\" encoding=\"utf-8\"?>\n",
       "<svg xmlns=\"http://www.w3.org/2000/svg\" xmlns:xlink=\"http://www.w3.org/1999/xlink\" width=\"600\" height=\"400\" viewBox=\"0 0 2400 1600\">\n",
       "<defs>\n",
       "  <clipPath id=\"clip090\">\n",
       "    <rect x=\"0\" y=\"0\" width=\"2400\" height=\"1600\"/>\n",
       "  </clipPath>\n",
       "</defs>\n",
       "<path clip-path=\"url(#clip090)\" d=\"\n",
       "M0 1600 L2400 1600 L2400 0 L0 0  Z\n",
       "  \" fill=\"#ffffff\" fill-rule=\"evenodd\" fill-opacity=\"1\"/>\n",
       "<defs>\n",
       "  <clipPath id=\"clip091\">\n",
       "    <rect x=\"480\" y=\"0\" width=\"1681\" height=\"1600\"/>\n",
       "  </clipPath>\n",
       "</defs>\n",
       "<path clip-path=\"url(#clip090)\" d=\"\n",
       "M337.247 1423.18 L2352.76 1423.18 L2352.76 47.2441 L337.247 47.2441  Z\n",
       "  \" fill=\"#ffffff\" fill-rule=\"evenodd\" fill-opacity=\"1\"/>\n",
       "<defs>\n",
       "  <clipPath id=\"clip092\">\n",
       "    <rect x=\"337\" y=\"47\" width=\"2017\" height=\"1377\"/>\n",
       "  </clipPath>\n",
       "</defs>\n",
       "<polyline clip-path=\"url(#clip092)\" style=\"stroke:#000000; stroke-width:2; stroke-opacity:0.1; fill:none\" points=\"\n",
       "  679.561,1423.18 679.561,47.2441 \n",
       "  \"/>\n",
       "<polyline clip-path=\"url(#clip092)\" style=\"stroke:#000000; stroke-width:2; stroke-opacity:0.1; fill:none\" points=\"\n",
       "  1026.75,1423.18 1026.75,47.2441 \n",
       "  \"/>\n",
       "<polyline clip-path=\"url(#clip092)\" style=\"stroke:#000000; stroke-width:2; stroke-opacity:0.1; fill:none\" points=\"\n",
       "  1373.93,1423.18 1373.93,47.2441 \n",
       "  \"/>\n",
       "<polyline clip-path=\"url(#clip092)\" style=\"stroke:#000000; stroke-width:2; stroke-opacity:0.1; fill:none\" points=\"\n",
       "  1721.12,1423.18 1721.12,47.2441 \n",
       "  \"/>\n",
       "<polyline clip-path=\"url(#clip092)\" style=\"stroke:#000000; stroke-width:2; stroke-opacity:0.1; fill:none\" points=\"\n",
       "  2068.31,1423.18 2068.31,47.2441 \n",
       "  \"/>\n",
       "<polyline clip-path=\"url(#clip090)\" style=\"stroke:#000000; stroke-width:4; stroke-opacity:1; fill:none\" points=\"\n",
       "  337.247,1423.18 2352.76,1423.18 \n",
       "  \"/>\n",
       "<polyline clip-path=\"url(#clip090)\" style=\"stroke:#000000; stroke-width:4; stroke-opacity:1; fill:none\" points=\"\n",
       "  679.561,1423.18 679.561,1406.67 \n",
       "  \"/>\n",
       "<polyline clip-path=\"url(#clip090)\" style=\"stroke:#000000; stroke-width:4; stroke-opacity:1; fill:none\" points=\"\n",
       "  1026.75,1423.18 1026.75,1406.67 \n",
       "  \"/>\n",
       "<polyline clip-path=\"url(#clip090)\" style=\"stroke:#000000; stroke-width:4; stroke-opacity:1; fill:none\" points=\"\n",
       "  1373.93,1423.18 1373.93,1406.67 \n",
       "  \"/>\n",
       "<polyline clip-path=\"url(#clip090)\" style=\"stroke:#000000; stroke-width:4; stroke-opacity:1; fill:none\" points=\"\n",
       "  1721.12,1423.18 1721.12,1406.67 \n",
       "  \"/>\n",
       "<polyline clip-path=\"url(#clip090)\" style=\"stroke:#000000; stroke-width:4; stroke-opacity:1; fill:none\" points=\"\n",
       "  2068.31,1423.18 2068.31,1406.67 \n",
       "  \"/>\n",
       "<path clip-path=\"url(#clip090)\" d=\"M 0 0 M627.235 1452.37 Q623.624 1452.37 621.795 1455.94 Q619.99 1459.48 619.99 1466.61 Q619.99 1473.71 621.795 1477.28 Q623.624 1480.82 627.235 1480.82 Q630.869 1480.82 632.675 1477.28 Q634.503 1473.71 634.503 1466.61 Q634.503 1459.48 632.675 1455.94 Q630.869 1452.37 627.235 1452.37 M627.235 1448.67 Q633.045 1448.67 636.101 1453.27 Q639.179 1457.86 639.179 1466.61 Q639.179 1475.33 636.101 1479.94 Q633.045 1484.52 627.235 1484.52 Q621.425 1484.52 618.346 1479.94 Q615.291 1475.33 615.291 1466.61 Q615.291 1457.86 618.346 1453.27 Q621.425 1448.67 627.235 1448.67 Z\" fill=\"#000000\" fill-rule=\"evenodd\" fill-opacity=\"1\" /><path clip-path=\"url(#clip090)\" d=\"M 0 0 M647.397 1477.97 L652.281 1477.97 L652.281 1483.85 L647.397 1483.85 L647.397 1477.97 Z\" fill=\"#000000\" fill-rule=\"evenodd\" fill-opacity=\"1\" /><path clip-path=\"url(#clip090)\" d=\"M 0 0 M662.605 1483.13 L662.605 1478.88 Q664.364 1479.71 666.17 1480.15 Q667.976 1480.59 669.712 1480.59 Q674.341 1480.59 676.772 1477.49 Q679.225 1474.36 679.573 1468.02 Q678.23 1470.01 676.17 1471.07 Q674.11 1472.14 671.61 1472.14 Q666.425 1472.14 663.392 1469.01 Q660.383 1465.87 660.383 1460.43 Q660.383 1455.1 663.531 1451.88 Q666.679 1448.67 671.911 1448.67 Q677.906 1448.67 681.054 1453.27 Q684.225 1457.86 684.225 1466.61 Q684.225 1474.78 680.337 1479.66 Q676.471 1484.52 669.92 1484.52 Q668.161 1484.52 666.355 1484.18 Q664.55 1483.83 662.605 1483.13 M671.911 1468.48 Q675.059 1468.48 676.887 1466.33 Q678.739 1464.18 678.739 1460.43 Q678.739 1456.7 676.887 1454.55 Q675.059 1452.37 671.911 1452.37 Q668.763 1452.37 666.911 1454.55 Q665.082 1456.7 665.082 1460.43 Q665.082 1464.18 666.911 1466.33 Q668.763 1468.48 671.911 1468.48 Z\" fill=\"#000000\" fill-rule=\"evenodd\" fill-opacity=\"1\" /><path clip-path=\"url(#clip090)\" d=\"M 0 0 M702.628 1467.44 Q699.295 1467.44 697.374 1469.22 Q695.475 1471 695.475 1474.13 Q695.475 1477.25 697.374 1479.04 Q699.295 1480.82 702.628 1480.82 Q705.961 1480.82 707.883 1479.04 Q709.804 1477.23 709.804 1474.13 Q709.804 1471 707.883 1469.22 Q705.985 1467.44 702.628 1467.44 M697.952 1465.45 Q694.943 1464.71 693.253 1462.65 Q691.586 1460.59 691.586 1457.63 Q691.586 1453.48 694.526 1451.07 Q697.489 1448.67 702.628 1448.67 Q707.79 1448.67 710.73 1451.07 Q713.67 1453.48 713.67 1457.63 Q713.67 1460.59 711.98 1462.65 Q710.313 1464.71 707.327 1465.45 Q710.707 1466.24 712.582 1468.53 Q714.48 1470.82 714.48 1474.13 Q714.48 1479.15 711.401 1481.84 Q708.346 1484.52 702.628 1484.52 Q696.911 1484.52 693.832 1481.84 Q690.776 1479.15 690.776 1474.13 Q690.776 1470.82 692.674 1468.53 Q694.573 1466.24 697.952 1465.45 M696.239 1458.06 Q696.239 1460.75 697.906 1462.25 Q699.596 1463.76 702.628 1463.76 Q705.637 1463.76 707.327 1462.25 Q709.04 1460.75 709.04 1458.06 Q709.04 1455.38 707.327 1453.88 Q705.637 1452.37 702.628 1452.37 Q699.596 1452.37 697.906 1453.88 Q696.239 1455.38 696.239 1458.06 Z\" fill=\"#000000\" fill-rule=\"evenodd\" fill-opacity=\"1\" /><path clip-path=\"url(#clip090)\" d=\"M 0 0 M721.609 1449.29 L743.832 1449.29 L743.832 1451.28 L731.285 1483.85 L726.401 1483.85 L738.207 1453.23 L721.609 1453.23 L721.609 1449.29 Z\" fill=\"#000000\" fill-rule=\"evenodd\" fill-opacity=\"1\" /><path clip-path=\"url(#clip090)\" d=\"M 0 0 M973.97 1452.37 Q970.359 1452.37 968.53 1455.94 Q966.725 1459.48 966.725 1466.61 Q966.725 1473.71 968.53 1477.28 Q970.359 1480.82 973.97 1480.82 Q977.604 1480.82 979.41 1477.28 Q981.238 1473.71 981.238 1466.61 Q981.238 1459.48 979.41 1455.94 Q977.604 1452.37 973.97 1452.37 M973.97 1448.67 Q979.78 1448.67 982.836 1453.27 Q985.914 1457.86 985.914 1466.61 Q985.914 1475.33 982.836 1479.94 Q979.78 1484.52 973.97 1484.52 Q968.16 1484.52 965.081 1479.94 Q962.025 1475.33 962.025 1466.61 Q962.025 1457.86 965.081 1453.27 Q968.16 1448.67 973.97 1448.67 Z\" fill=\"#000000\" fill-rule=\"evenodd\" fill-opacity=\"1\" /><path clip-path=\"url(#clip090)\" d=\"M 0 0 M994.132 1477.97 L999.016 1477.97 L999.016 1483.85 L994.132 1483.85 L994.132 1477.97 Z\" fill=\"#000000\" fill-rule=\"evenodd\" fill-opacity=\"1\" /><path clip-path=\"url(#clip090)\" d=\"M 0 0 M1009.34 1483.13 L1009.34 1478.88 Q1011.1 1479.71 1012.9 1480.15 Q1014.71 1480.59 1016.45 1480.59 Q1021.08 1480.59 1023.51 1477.49 Q1025.96 1474.36 1026.31 1468.02 Q1024.96 1470.01 1022.9 1471.07 Q1020.84 1472.14 1018.34 1472.14 Q1013.16 1472.14 1010.13 1469.01 Q1007.12 1465.87 1007.12 1460.43 Q1007.12 1455.1 1010.27 1451.88 Q1013.41 1448.67 1018.65 1448.67 Q1024.64 1448.67 1027.79 1453.27 Q1030.96 1457.86 1030.96 1466.61 Q1030.96 1474.78 1027.07 1479.66 Q1023.21 1484.52 1016.65 1484.52 Q1014.9 1484.52 1013.09 1484.18 Q1011.28 1483.83 1009.34 1483.13 M1018.65 1468.48 Q1021.79 1468.48 1023.62 1466.33 Q1025.47 1464.18 1025.47 1460.43 Q1025.47 1456.7 1023.62 1454.55 Q1021.79 1452.37 1018.65 1452.37 Q1015.5 1452.37 1013.65 1454.55 Q1011.82 1456.7 1011.82 1460.43 Q1011.82 1464.18 1013.65 1466.33 Q1015.5 1468.48 1018.65 1468.48 Z\" fill=\"#000000\" fill-rule=\"evenodd\" fill-opacity=\"1\" /><path clip-path=\"url(#clip090)\" d=\"M 0 0 M1039.5 1483.13 L1039.5 1478.88 Q1041.26 1479.71 1043.07 1480.15 Q1044.87 1480.59 1046.61 1480.59 Q1051.24 1480.59 1053.67 1477.49 Q1056.12 1474.36 1056.47 1468.02 Q1055.13 1470.01 1053.07 1471.07 Q1051.01 1472.14 1048.51 1472.14 Q1043.32 1472.14 1040.29 1469.01 Q1037.28 1465.87 1037.28 1460.43 Q1037.28 1455.1 1040.43 1451.88 Q1043.58 1448.67 1048.81 1448.67 Q1054.8 1448.67 1057.95 1453.27 Q1061.12 1457.86 1061.12 1466.61 Q1061.12 1474.78 1057.23 1479.66 Q1053.37 1484.52 1046.82 1484.52 Q1045.06 1484.52 1043.25 1484.18 Q1041.45 1483.83 1039.5 1483.13 M1048.81 1468.48 Q1051.96 1468.48 1053.78 1466.33 Q1055.64 1464.18 1055.64 1460.43 Q1055.64 1456.7 1053.78 1454.55 Q1051.96 1452.37 1048.81 1452.37 Q1045.66 1452.37 1043.81 1454.55 Q1041.98 1456.7 1041.98 1460.43 Q1041.98 1464.18 1043.81 1466.33 Q1045.66 1468.48 1048.81 1468.48 Z\" fill=\"#000000\" fill-rule=\"evenodd\" fill-opacity=\"1\" /><path clip-path=\"url(#clip090)\" d=\"M 0 0 M1079.52 1452.37 Q1075.91 1452.37 1074.09 1455.94 Q1072.28 1459.48 1072.28 1466.61 Q1072.28 1473.71 1074.09 1477.28 Q1075.91 1480.82 1079.52 1480.82 Q1083.16 1480.82 1084.96 1477.28 Q1086.79 1473.71 1086.79 1466.61 Q1086.79 1459.48 1084.96 1455.94 Q1083.16 1452.37 1079.52 1452.37 M1079.52 1448.67 Q1085.34 1448.67 1088.39 1453.27 Q1091.47 1457.86 1091.47 1466.61 Q1091.47 1475.33 1088.39 1479.94 Q1085.34 1484.52 1079.52 1484.52 Q1073.71 1484.52 1070.64 1479.94 Q1067.58 1475.33 1067.58 1466.61 Q1067.58 1457.86 1070.64 1453.27 Q1073.71 1448.67 1079.52 1448.67 Z\" fill=\"#000000\" fill-rule=\"evenodd\" fill-opacity=\"1\" /><path clip-path=\"url(#clip090)\" d=\"M 0 0 M1321.48 1452.37 Q1317.87 1452.37 1316.04 1455.94 Q1314.23 1459.48 1314.23 1466.61 Q1314.23 1473.71 1316.04 1477.28 Q1317.87 1480.82 1321.48 1480.82 Q1325.11 1480.82 1326.92 1477.28 Q1328.75 1473.71 1328.75 1466.61 Q1328.75 1459.48 1326.92 1455.94 Q1325.11 1452.37 1321.48 1452.37 M1321.48 1448.67 Q1327.29 1448.67 1330.35 1453.27 Q1333.42 1457.86 1333.42 1466.61 Q1333.42 1475.33 1330.35 1479.94 Q1327.29 1484.52 1321.48 1484.52 Q1315.67 1484.52 1312.59 1479.94 Q1309.54 1475.33 1309.54 1466.61 Q1309.54 1457.86 1312.59 1453.27 Q1315.67 1448.67 1321.48 1448.67 Z\" fill=\"#000000\" fill-rule=\"evenodd\" fill-opacity=\"1\" /><path clip-path=\"url(#clip090)\" d=\"M 0 0 M1341.64 1477.97 L1346.53 1477.97 L1346.53 1483.85 L1341.64 1483.85 L1341.64 1477.97 Z\" fill=\"#000000\" fill-rule=\"evenodd\" fill-opacity=\"1\" /><path clip-path=\"url(#clip090)\" d=\"M 0 0 M1356.85 1483.13 L1356.85 1478.88 Q1358.61 1479.71 1360.42 1480.15 Q1362.22 1480.59 1363.96 1480.59 Q1368.59 1480.59 1371.02 1477.49 Q1373.47 1474.36 1373.82 1468.02 Q1372.48 1470.01 1370.42 1471.07 Q1368.35 1472.14 1365.85 1472.14 Q1360.67 1472.14 1357.64 1469.01 Q1354.63 1465.87 1354.63 1460.43 Q1354.63 1455.1 1357.78 1451.88 Q1360.92 1448.67 1366.16 1448.67 Q1372.15 1448.67 1375.3 1453.27 Q1378.47 1457.86 1378.47 1466.61 Q1378.47 1474.78 1374.58 1479.66 Q1370.72 1484.52 1364.17 1484.52 Q1362.41 1484.52 1360.6 1484.18 Q1358.79 1483.83 1356.85 1483.13 M1366.16 1468.48 Q1369.3 1468.48 1371.13 1466.33 Q1372.98 1464.18 1372.98 1460.43 Q1372.98 1456.7 1371.13 1454.55 Q1369.3 1452.37 1366.16 1452.37 Q1363.01 1452.37 1361.16 1454.55 Q1359.33 1456.7 1359.33 1460.43 Q1359.33 1464.18 1361.16 1466.33 Q1363.01 1468.48 1366.16 1468.48 Z\" fill=\"#000000\" fill-rule=\"evenodd\" fill-opacity=\"1\" /><path clip-path=\"url(#clip090)\" d=\"M 0 0 M1387.01 1483.13 L1387.01 1478.88 Q1388.77 1479.71 1390.58 1480.15 Q1392.38 1480.59 1394.12 1480.59 Q1398.75 1480.59 1401.18 1477.49 Q1403.63 1474.36 1403.98 1468.02 Q1402.64 1470.01 1400.58 1471.07 Q1398.52 1472.14 1396.02 1472.14 Q1390.83 1472.14 1387.8 1469.01 Q1384.79 1465.87 1384.79 1460.43 Q1384.79 1455.1 1387.94 1451.88 Q1391.09 1448.67 1396.32 1448.67 Q1402.31 1448.67 1405.46 1453.27 Q1408.63 1457.86 1408.63 1466.61 Q1408.63 1474.78 1404.74 1479.66 Q1400.88 1484.52 1394.33 1484.52 Q1392.57 1484.52 1390.76 1484.18 Q1388.96 1483.83 1387.01 1483.13 M1396.32 1468.48 Q1399.47 1468.48 1401.29 1466.33 Q1403.15 1464.18 1403.15 1460.43 Q1403.15 1456.7 1401.29 1454.55 Q1399.47 1452.37 1396.32 1452.37 Q1393.17 1452.37 1391.32 1454.55 Q1389.49 1456.7 1389.49 1460.43 Q1389.49 1464.18 1391.32 1466.33 Q1393.17 1468.48 1396.32 1468.48 Z\" fill=\"#000000\" fill-rule=\"evenodd\" fill-opacity=\"1\" /><path clip-path=\"url(#clip090)\" d=\"M 0 0 M1431.2 1465.22 Q1434.56 1465.94 1436.43 1468.2 Q1438.33 1470.47 1438.33 1473.81 Q1438.33 1478.92 1434.81 1481.72 Q1431.29 1484.52 1424.81 1484.52 Q1422.64 1484.52 1420.32 1484.08 Q1418.03 1483.67 1415.58 1482.81 L1415.58 1478.3 Q1417.52 1479.43 1419.84 1480.01 Q1422.15 1480.59 1424.67 1480.59 Q1429.07 1480.59 1431.36 1478.85 Q1433.68 1477.12 1433.68 1473.81 Q1433.68 1470.75 1431.53 1469.04 Q1429.4 1467.3 1425.58 1467.3 L1421.55 1467.3 L1421.55 1463.46 L1425.76 1463.46 Q1429.21 1463.46 1431.04 1462.09 Q1432.87 1460.7 1432.87 1458.11 Q1432.87 1455.45 1430.97 1454.04 Q1429.1 1452.6 1425.58 1452.6 Q1423.66 1452.6 1421.46 1453.02 Q1419.26 1453.44 1416.62 1454.31 L1416.62 1450.15 Q1419.28 1449.41 1421.6 1449.04 Q1423.93 1448.67 1425.99 1448.67 Q1431.32 1448.67 1434.42 1451.1 Q1437.52 1453.5 1437.52 1457.63 Q1437.52 1460.5 1435.88 1462.49 Q1434.23 1464.45 1431.2 1465.22 Z\" fill=\"#000000\" fill-rule=\"evenodd\" fill-opacity=\"1\" /><path clip-path=\"url(#clip090)\" d=\"M 0 0 M1668.26 1452.37 Q1664.65 1452.37 1662.82 1455.94 Q1661.02 1459.48 1661.02 1466.61 Q1661.02 1473.71 1662.82 1477.28 Q1664.65 1480.82 1668.26 1480.82 Q1671.9 1480.82 1673.7 1477.28 Q1675.53 1473.71 1675.53 1466.61 Q1675.53 1459.48 1673.7 1455.94 Q1671.9 1452.37 1668.26 1452.37 M1668.26 1448.67 Q1674.07 1448.67 1677.13 1453.27 Q1680.21 1457.86 1680.21 1466.61 Q1680.21 1475.33 1677.13 1479.94 Q1674.07 1484.52 1668.26 1484.52 Q1662.45 1484.52 1659.37 1479.94 Q1656.32 1475.33 1656.32 1466.61 Q1656.32 1457.86 1659.37 1453.27 Q1662.45 1448.67 1668.26 1448.67 Z\" fill=\"#000000\" fill-rule=\"evenodd\" fill-opacity=\"1\" /><path clip-path=\"url(#clip090)\" d=\"M 0 0 M1688.42 1477.97 L1693.31 1477.97 L1693.31 1483.85 L1688.42 1483.85 L1688.42 1477.97 Z\" fill=\"#000000\" fill-rule=\"evenodd\" fill-opacity=\"1\" /><path clip-path=\"url(#clip090)\" d=\"M 0 0 M1703.63 1483.13 L1703.63 1478.88 Q1705.39 1479.71 1707.2 1480.15 Q1709 1480.59 1710.74 1480.59 Q1715.37 1480.59 1717.8 1477.49 Q1720.25 1474.36 1720.6 1468.02 Q1719.26 1470.01 1717.2 1471.07 Q1715.14 1472.14 1712.64 1472.14 Q1707.45 1472.14 1704.42 1469.01 Q1701.41 1465.87 1701.41 1460.43 Q1701.41 1455.1 1704.56 1451.88 Q1707.71 1448.67 1712.94 1448.67 Q1718.93 1448.67 1722.08 1453.27 Q1725.25 1457.86 1725.25 1466.61 Q1725.25 1474.78 1721.36 1479.66 Q1717.5 1484.52 1710.95 1484.52 Q1709.19 1484.52 1707.38 1484.18 Q1705.58 1483.83 1703.63 1483.13 M1712.94 1468.48 Q1716.09 1468.48 1717.91 1466.33 Q1719.77 1464.18 1719.77 1460.43 Q1719.77 1456.7 1717.91 1454.55 Q1716.09 1452.37 1712.94 1452.37 Q1709.79 1452.37 1707.94 1454.55 Q1706.11 1456.7 1706.11 1460.43 Q1706.11 1464.18 1707.94 1466.33 Q1709.79 1468.48 1712.94 1468.48 Z\" fill=\"#000000\" fill-rule=\"evenodd\" fill-opacity=\"1\" /><path clip-path=\"url(#clip090)\" d=\"M 0 0 M1733.79 1483.13 L1733.79 1478.88 Q1735.55 1479.71 1737.36 1480.15 Q1739.16 1480.59 1740.9 1480.59 Q1745.53 1480.59 1747.96 1477.49 Q1750.41 1474.36 1750.76 1468.02 Q1749.42 1470.01 1747.36 1471.07 Q1745.3 1472.14 1742.8 1472.14 Q1737.61 1472.14 1734.58 1469.01 Q1731.57 1465.87 1731.57 1460.43 Q1731.57 1455.1 1734.72 1451.88 Q1737.87 1448.67 1743.1 1448.67 Q1749.09 1448.67 1752.24 1453.27 Q1755.41 1457.86 1755.41 1466.61 Q1755.41 1474.78 1751.52 1479.66 Q1747.66 1484.52 1741.11 1484.52 Q1739.35 1484.52 1737.54 1484.18 Q1735.74 1483.83 1733.79 1483.13 M1743.1 1468.48 Q1746.25 1468.48 1748.08 1466.33 Q1749.93 1464.18 1749.93 1460.43 Q1749.93 1456.7 1748.08 1454.55 Q1746.25 1452.37 1743.1 1452.37 Q1739.95 1452.37 1738.1 1454.55 Q1736.27 1456.7 1736.27 1460.43 Q1736.27 1464.18 1738.1 1466.33 Q1739.95 1468.48 1743.1 1468.48 Z\" fill=\"#000000\" fill-rule=\"evenodd\" fill-opacity=\"1\" /><path clip-path=\"url(#clip090)\" d=\"M 0 0 M1774.4 1464.71 Q1771.25 1464.71 1769.4 1466.86 Q1767.57 1469.01 1767.57 1472.76 Q1767.57 1476.49 1769.4 1478.67 Q1771.25 1480.82 1774.4 1480.82 Q1777.54 1480.82 1779.37 1478.67 Q1781.22 1476.49 1781.22 1472.76 Q1781.22 1469.01 1779.37 1466.86 Q1777.54 1464.71 1774.4 1464.71 M1783.68 1450.06 L1783.68 1454.31 Q1781.92 1453.48 1780.11 1453.04 Q1778.33 1452.6 1776.57 1452.6 Q1771.94 1452.6 1769.49 1455.73 Q1767.06 1458.85 1766.71 1465.17 Q1768.08 1463.16 1770.14 1462.09 Q1772.2 1461 1774.67 1461 Q1779.88 1461 1782.89 1464.18 Q1785.92 1467.32 1785.92 1472.76 Q1785.92 1478.09 1782.77 1481.31 Q1779.63 1484.52 1774.4 1484.52 Q1768.4 1484.52 1765.23 1479.94 Q1762.06 1475.33 1762.06 1466.61 Q1762.06 1458.41 1765.95 1453.55 Q1769.83 1448.67 1776.39 1448.67 Q1778.15 1448.67 1779.93 1449.01 Q1781.73 1449.36 1783.68 1450.06 Z\" fill=\"#000000\" fill-rule=\"evenodd\" fill-opacity=\"1\" /><path clip-path=\"url(#clip090)\" d=\"M 0 0 M2015.62 1452.37 Q2012.01 1452.37 2010.18 1455.94 Q2008.38 1459.48 2008.38 1466.61 Q2008.38 1473.71 2010.18 1477.28 Q2012.01 1480.82 2015.62 1480.82 Q2019.26 1480.82 2021.06 1477.28 Q2022.89 1473.71 2022.89 1466.61 Q2022.89 1459.48 2021.06 1455.94 Q2019.26 1452.37 2015.62 1452.37 M2015.62 1448.67 Q2021.43 1448.67 2024.49 1453.27 Q2027.57 1457.86 2027.57 1466.61 Q2027.57 1475.33 2024.49 1479.94 Q2021.43 1484.52 2015.62 1484.52 Q2009.81 1484.52 2006.73 1479.94 Q2003.68 1475.33 2003.68 1466.61 Q2003.68 1457.86 2006.73 1453.27 Q2009.81 1448.67 2015.62 1448.67 Z\" fill=\"#000000\" fill-rule=\"evenodd\" fill-opacity=\"1\" /><path clip-path=\"url(#clip090)\" d=\"M 0 0 M2035.78 1477.97 L2040.67 1477.97 L2040.67 1483.85 L2035.78 1483.85 L2035.78 1477.97 Z\" fill=\"#000000\" fill-rule=\"evenodd\" fill-opacity=\"1\" /><path clip-path=\"url(#clip090)\" d=\"M 0 0 M2050.99 1483.13 L2050.99 1478.88 Q2052.75 1479.71 2054.56 1480.15 Q2056.36 1480.59 2058.1 1480.59 Q2062.73 1480.59 2065.16 1477.49 Q2067.61 1474.36 2067.96 1468.02 Q2066.62 1470.01 2064.56 1471.07 Q2062.5 1472.14 2060 1472.14 Q2054.81 1472.14 2051.78 1469.01 Q2048.77 1465.87 2048.77 1460.43 Q2048.77 1455.1 2051.92 1451.88 Q2055.07 1448.67 2060.3 1448.67 Q2066.29 1448.67 2069.44 1453.27 Q2072.61 1457.86 2072.61 1466.61 Q2072.61 1474.78 2068.72 1479.66 Q2064.86 1484.52 2058.31 1484.52 Q2056.55 1484.52 2054.74 1484.18 Q2052.94 1483.83 2050.99 1483.13 M2060.3 1468.48 Q2063.45 1468.48 2065.27 1466.33 Q2067.13 1464.18 2067.13 1460.43 Q2067.13 1456.7 2065.27 1454.55 Q2063.45 1452.37 2060.3 1452.37 Q2057.15 1452.37 2055.3 1454.55 Q2053.47 1456.7 2053.47 1460.43 Q2053.47 1464.18 2055.3 1466.33 Q2057.15 1468.48 2060.3 1468.48 Z\" fill=\"#000000\" fill-rule=\"evenodd\" fill-opacity=\"1\" /><path clip-path=\"url(#clip090)\" d=\"M 0 0 M2081.15 1483.13 L2081.15 1478.88 Q2082.91 1479.71 2084.72 1480.15 Q2086.52 1480.59 2088.26 1480.59 Q2092.89 1480.59 2095.32 1477.49 Q2097.77 1474.36 2098.12 1468.02 Q2096.78 1470.01 2094.72 1471.07 Q2092.66 1472.14 2090.16 1472.14 Q2084.97 1472.14 2081.94 1469.01 Q2078.93 1465.87 2078.93 1460.43 Q2078.93 1455.1 2082.08 1451.88 Q2085.23 1448.67 2090.46 1448.67 Q2096.45 1448.67 2099.6 1453.27 Q2102.77 1457.86 2102.77 1466.61 Q2102.77 1474.78 2098.88 1479.66 Q2095.02 1484.52 2088.47 1484.52 Q2086.71 1484.52 2084.9 1484.18 Q2083.1 1483.83 2081.15 1483.13 M2090.46 1468.48 Q2093.61 1468.48 2095.44 1466.33 Q2097.29 1464.18 2097.29 1460.43 Q2097.29 1456.7 2095.44 1454.55 Q2093.61 1452.37 2090.46 1452.37 Q2087.31 1452.37 2085.46 1454.55 Q2083.63 1456.7 2083.63 1460.43 Q2083.63 1464.18 2085.46 1466.33 Q2087.31 1468.48 2090.46 1468.48 Z\" fill=\"#000000\" fill-rule=\"evenodd\" fill-opacity=\"1\" /><path clip-path=\"url(#clip090)\" d=\"M 0 0 M2111.32 1483.13 L2111.32 1478.88 Q2113.07 1479.71 2114.88 1480.15 Q2116.69 1480.59 2118.42 1480.59 Q2123.05 1480.59 2125.48 1477.49 Q2127.94 1474.36 2128.28 1468.02 Q2126.94 1470.01 2124.88 1471.07 Q2122.82 1472.14 2120.32 1472.14 Q2115.13 1472.14 2112.1 1469.01 Q2109.09 1465.87 2109.09 1460.43 Q2109.09 1455.1 2112.24 1451.88 Q2115.39 1448.67 2120.62 1448.67 Q2126.62 1448.67 2129.76 1453.27 Q2132.94 1457.86 2132.94 1466.61 Q2132.94 1474.78 2129.05 1479.66 Q2125.18 1484.52 2118.63 1484.52 Q2116.87 1484.52 2115.07 1484.18 Q2113.26 1483.83 2111.32 1483.13 M2120.62 1468.48 Q2123.77 1468.48 2125.6 1466.33 Q2127.45 1464.18 2127.45 1460.43 Q2127.45 1456.7 2125.6 1454.55 Q2123.77 1452.37 2120.62 1452.37 Q2117.47 1452.37 2115.62 1454.55 Q2113.79 1456.7 2113.79 1460.43 Q2113.79 1464.18 2115.62 1466.33 Q2117.47 1468.48 2120.62 1468.48 Z\" fill=\"#000000\" fill-rule=\"evenodd\" fill-opacity=\"1\" /><path clip-path=\"url(#clip090)\" d=\"M 0 0 M1007.25 1562.7 L1007.25 1581.6 L1001.36 1581.6 L1001.36 1532.4 L1007.25 1532.4 L1007.25 1537.81 Q1009.1 1534.62 1011.9 1533.1 Q1014.73 1531.54 1018.65 1531.54 Q1025.14 1531.54 1029.18 1536.69 Q1033.26 1541.85 1033.26 1550.25 Q1033.26 1558.65 1029.18 1563.81 Q1025.14 1568.97 1018.65 1568.97 Q1014.73 1568.97 1011.9 1567.44 Q1009.1 1565.88 1007.25 1562.7 M1027.18 1550.25 Q1027.18 1543.79 1024.5 1540.13 Q1021.86 1536.44 1017.22 1536.44 Q1012.57 1536.44 1009.89 1540.13 Q1007.25 1543.79 1007.25 1550.25 Q1007.25 1556.71 1009.89 1560.4 Q1012.57 1564.07 1017.22 1564.07 Q1021.86 1564.07 1024.5 1560.4 Q1027.18 1556.71 1027.18 1550.25 Z\" fill=\"#000000\" fill-rule=\"evenodd\" fill-opacity=\"1\" /><path clip-path=\"url(#clip090)\" d=\"M 0 0 M1073.46 1548.76 L1073.46 1551.62 L1046.53 1551.62 Q1046.91 1557.67 1050.16 1560.85 Q1053.44 1564 1059.26 1564 Q1062.63 1564 1065.79 1563.17 Q1068.97 1562.35 1072.09 1560.69 L1072.09 1566.23 Q1068.94 1567.57 1065.63 1568.27 Q1062.32 1568.97 1058.91 1568.97 Q1050.38 1568.97 1045.38 1564 Q1040.42 1559.04 1040.42 1550.57 Q1040.42 1541.82 1045.13 1536.69 Q1049.87 1531.54 1057.89 1531.54 Q1065.09 1531.54 1069.25 1536.18 Q1073.46 1540.8 1073.46 1548.76 M1067.6 1547.04 Q1067.54 1542.23 1064.89 1539.37 Q1062.28 1536.5 1057.96 1536.5 Q1053.05 1536.5 1050.09 1539.27 Q1047.17 1542.04 1046.72 1547.07 L1067.6 1547.04 Z\" fill=\"#000000\" fill-rule=\"evenodd\" fill-opacity=\"1\" /><path clip-path=\"url(#clip090)\" d=\"M 0 0 M1103.73 1537.87 Q1102.74 1537.3 1101.56 1537.04 Q1100.42 1536.76 1099.01 1536.76 Q1094.05 1536.76 1091.38 1540 Q1088.73 1543.22 1088.73 1549.27 L1088.73 1568.04 L1082.85 1568.04 L1082.85 1532.4 L1088.73 1532.4 L1088.73 1537.93 Q1090.58 1534.69 1093.54 1533.13 Q1096.5 1531.54 1100.73 1531.54 Q1101.34 1531.54 1102.07 1531.63 Q1102.8 1531.7 1103.69 1531.85 L1103.73 1537.87 Z\" fill=\"#000000\" fill-rule=\"evenodd\" fill-opacity=\"1\" /><path clip-path=\"url(#clip090)\" d=\"M 0 0 M1102.74 1547.58 L1119.89 1547.58 L1119.89 1552.8 L1102.74 1552.8 L1102.74 1547.58 Z\" fill=\"#000000\" fill-rule=\"evenodd\" fill-opacity=\"1\" /><path clip-path=\"url(#clip090)\" d=\"M 0 0 M1157.96 1522.08 L1157.96 1528.35 Q1154.3 1526.6 1151.05 1525.74 Q1147.81 1524.88 1144.78 1524.88 Q1139.53 1524.88 1136.67 1526.92 Q1133.84 1528.96 1133.84 1532.71 Q1133.84 1535.87 1135.71 1537.49 Q1137.62 1539.08 1142.91 1540.07 L1146.79 1540.86 Q1153.98 1542.23 1157.39 1545.7 Q1160.83 1549.14 1160.83 1554.93 Q1160.83 1561.84 1156.18 1565.4 Q1151.56 1568.97 1142.62 1568.97 Q1139.25 1568.97 1135.43 1568.2 Q1131.64 1567.44 1127.56 1565.94 L1127.56 1559.32 Q1131.48 1561.52 1135.24 1562.63 Q1138.99 1563.75 1142.62 1563.75 Q1148.13 1563.75 1151.12 1561.58 Q1154.11 1559.42 1154.11 1555.41 Q1154.11 1551.91 1151.95 1549.93 Q1149.81 1547.96 1144.91 1546.97 L1141 1546.21 Q1133.8 1544.78 1130.59 1541.72 Q1127.37 1538.67 1127.37 1533.22 Q1127.37 1526.92 1131.8 1523.29 Q1136.25 1519.66 1144.05 1519.66 Q1147.39 1519.66 1150.86 1520.27 Q1154.33 1520.87 1157.96 1522.08 Z\" fill=\"#000000\" fill-rule=\"evenodd\" fill-opacity=\"1\" /><path clip-path=\"url(#clip090)\" d=\"M 0 0 M1170.85 1520.52 L1179.51 1520.52 L1200.58 1560.28 L1200.58 1520.52 L1206.82 1520.52 L1206.82 1568.04 L1198.16 1568.04 L1177.09 1528.29 L1177.09 1568.04 L1170.85 1568.04 L1170.85 1520.52 Z\" fill=\"#000000\" fill-rule=\"evenodd\" fill-opacity=\"1\" /><path clip-path=\"url(#clip090)\" d=\"M 0 0 M1226.04 1525.81 L1226.04 1543.66 L1234.13 1543.66 Q1238.61 1543.66 1241.07 1541.34 Q1243.52 1539.02 1243.52 1534.72 Q1243.52 1530.45 1241.07 1528.13 Q1238.61 1525.81 1234.13 1525.81 L1226.04 1525.81 M1219.61 1520.52 L1234.13 1520.52 Q1242.12 1520.52 1246.19 1524.15 Q1250.3 1527.75 1250.3 1534.72 Q1250.3 1541.75 1246.19 1545.35 Q1242.12 1548.95 1234.13 1548.95 L1226.04 1548.95 L1226.04 1568.04 L1219.61 1568.04 L1219.61 1520.52 Z\" fill=\"#000000\" fill-rule=\"evenodd\" fill-opacity=\"1\" /><path clip-path=\"url(#clip090)\" d=\"M 0 0 M1282.89 1550.25 Q1282.89 1556.71 1285.53 1560.4 Q1288.2 1564.07 1292.85 1564.07 Q1297.5 1564.07 1300.17 1560.4 Q1302.84 1556.71 1302.84 1550.25 Q1302.84 1543.79 1300.17 1540.13 Q1297.5 1536.44 1292.85 1536.44 Q1288.2 1536.44 1285.53 1540.13 Q1282.89 1543.79 1282.89 1550.25 M1302.84 1562.7 Q1301 1565.88 1298.17 1567.44 Q1295.36 1568.97 1291.42 1568.97 Q1284.96 1568.97 1280.88 1563.81 Q1276.84 1558.65 1276.84 1550.25 Q1276.84 1541.85 1280.88 1536.69 Q1284.96 1531.54 1291.42 1531.54 Q1295.36 1531.54 1298.17 1533.1 Q1301 1534.62 1302.84 1537.81 L1302.84 1532.4 L1308.7 1532.4 L1308.7 1581.6 L1302.84 1581.6 L1302.84 1562.7 Z\" fill=\"#000000\" fill-rule=\"evenodd\" fill-opacity=\"1\" /><path clip-path=\"url(#clip090)\" d=\"M 0 0 M1320.16 1553.98 L1320.16 1532.4 L1326.02 1532.4 L1326.02 1553.75 Q1326.02 1558.81 1327.99 1561.36 Q1329.96 1563.87 1333.91 1563.87 Q1338.65 1563.87 1341.39 1560.85 Q1344.16 1557.83 1344.16 1552.61 L1344.16 1532.4 L1350.01 1532.4 L1350.01 1568.04 L1344.16 1568.04 L1344.16 1562.57 Q1342.03 1565.82 1339.19 1567.41 Q1336.39 1568.97 1332.67 1568.97 Q1326.52 1568.97 1323.34 1565.15 Q1320.16 1561.33 1320.16 1553.98 M1334.9 1531.54 L1334.9 1531.54 Z\" fill=\"#000000\" fill-rule=\"evenodd\" fill-opacity=\"1\" /><path clip-path=\"url(#clip090)\" d=\"M 0 0 M1378.28 1550.12 Q1371.18 1550.12 1368.44 1551.75 Q1365.71 1553.37 1365.71 1557.29 Q1365.71 1560.4 1367.74 1562.25 Q1369.81 1564.07 1373.34 1564.07 Q1378.21 1564.07 1381.14 1560.63 Q1384.1 1557.16 1384.1 1551.43 L1384.1 1550.12 L1378.28 1550.12 M1389.96 1547.71 L1389.96 1568.04 L1384.1 1568.04 L1384.1 1562.63 Q1382.1 1565.88 1379.11 1567.44 Q1376.11 1568.97 1371.79 1568.97 Q1366.31 1568.97 1363.06 1565.91 Q1359.85 1562.82 1359.85 1557.67 Q1359.85 1551.65 1363.86 1548.6 Q1367.9 1545.54 1375.89 1545.54 L1384.1 1545.54 L1384.1 1544.97 Q1384.1 1540.93 1381.43 1538.73 Q1378.79 1536.5 1373.98 1536.5 Q1370.93 1536.5 1368.03 1537.23 Q1365.13 1537.97 1362.46 1539.43 L1362.46 1534.02 Q1365.67 1532.78 1368.7 1532.17 Q1371.72 1531.54 1374.59 1531.54 Q1382.32 1531.54 1386.14 1535.55 Q1389.96 1539.56 1389.96 1547.71 Z\" fill=\"#000000\" fill-rule=\"evenodd\" fill-opacity=\"1\" /><path clip-path=\"url(#clip090)\" d=\"M 0 0 M1402.02 1518.52 L1407.88 1518.52 L1407.88 1568.04 L1402.02 1568.04 L1402.02 1518.52 Z\" fill=\"#000000\" fill-rule=\"evenodd\" fill-opacity=\"1\" /><path clip-path=\"url(#clip090)\" d=\"M 0 0 M1420.13 1532.4 L1425.99 1532.4 L1425.99 1568.04 L1420.13 1568.04 L1420.13 1532.4 M1420.13 1518.52 L1425.99 1518.52 L1425.99 1525.93 L1420.13 1525.93 L1420.13 1518.52 Z\" fill=\"#000000\" fill-rule=\"evenodd\" fill-opacity=\"1\" /><path clip-path=\"url(#clip090)\" d=\"M 0 0 M1444.04 1522.27 L1444.04 1532.4 L1456.1 1532.4 L1456.1 1536.95 L1444.04 1536.95 L1444.04 1556.3 Q1444.04 1560.66 1445.21 1561.9 Q1446.42 1563.14 1450.08 1563.14 L1456.1 1563.14 L1456.1 1568.04 L1450.08 1568.04 Q1443.3 1568.04 1440.73 1565.53 Q1438.15 1562.98 1438.15 1556.3 L1438.15 1536.95 L1433.85 1536.95 L1433.85 1532.4 L1438.15 1532.4 L1438.15 1522.27 L1444.04 1522.27 Z\" fill=\"#000000\" fill-rule=\"evenodd\" fill-opacity=\"1\" /><path clip-path=\"url(#clip090)\" d=\"M 0 0 M1478.63 1571.35 Q1476.15 1577.72 1473.8 1579.66 Q1471.44 1581.6 1467.49 1581.6 L1462.81 1581.6 L1462.81 1576.7 L1466.25 1576.7 Q1468.67 1576.7 1470.01 1575.56 Q1471.34 1574.41 1472.97 1570.14 L1474.02 1567.47 L1459.6 1532.4 L1465.81 1532.4 L1476.95 1560.28 L1488.09 1532.4 L1494.29 1532.4 L1478.63 1571.35 Z\" fill=\"#000000\" fill-rule=\"evenodd\" fill-opacity=\"1\" /><path clip-path=\"url(#clip090)\" d=\"M 0 0 M1545.82 1533.45 L1545.82 1538.98 Q1543.34 1537.71 1540.67 1537.07 Q1537.99 1536.44 1535.13 1536.44 Q1530.77 1536.44 1528.57 1537.77 Q1526.41 1539.11 1526.41 1541.79 Q1526.41 1543.82 1527.97 1545 Q1529.53 1546.15 1534.24 1547.2 L1536.24 1547.64 Q1542.48 1548.98 1545.09 1551.43 Q1547.73 1553.85 1547.73 1558.21 Q1547.73 1563.17 1543.79 1566.07 Q1539.87 1568.97 1533 1568.97 Q1530.13 1568.97 1527.01 1568.39 Q1523.93 1567.85 1520.49 1566.74 L1520.49 1560.69 Q1523.73 1562.38 1526.89 1563.24 Q1530.04 1564.07 1533.12 1564.07 Q1537.26 1564.07 1539.49 1562.66 Q1541.72 1561.23 1541.72 1558.65 Q1541.72 1556.27 1540.09 1554.99 Q1538.5 1553.72 1533.06 1552.54 L1531.02 1552.07 Q1525.58 1550.92 1523.16 1548.56 Q1520.74 1546.18 1520.74 1542.04 Q1520.74 1537.01 1524.31 1534.27 Q1527.87 1531.54 1534.43 1531.54 Q1537.68 1531.54 1540.54 1532.01 Q1543.4 1532.49 1545.82 1533.45 Z\" fill=\"#000000\" fill-rule=\"evenodd\" fill-opacity=\"1\" /><path clip-path=\"url(#clip090)\" d=\"M 0 0 M1582.71 1533.76 L1582.71 1539.24 Q1580.23 1537.87 1577.72 1537.2 Q1575.23 1536.5 1572.69 1536.5 Q1566.99 1536.5 1563.84 1540.13 Q1560.69 1543.73 1560.69 1550.25 Q1560.69 1556.78 1563.84 1560.4 Q1566.99 1564 1572.69 1564 Q1575.23 1564 1577.72 1563.33 Q1580.23 1562.63 1582.71 1561.26 L1582.71 1566.68 Q1580.26 1567.82 1577.62 1568.39 Q1575.01 1568.97 1572.05 1568.97 Q1564 1568.97 1559.26 1563.91 Q1554.51 1558.85 1554.51 1550.25 Q1554.51 1541.53 1559.29 1536.53 Q1564.09 1531.54 1572.43 1531.54 Q1575.14 1531.54 1577.72 1532.11 Q1580.29 1532.65 1582.71 1533.76 Z\" fill=\"#000000\" fill-rule=\"evenodd\" fill-opacity=\"1\" /><path clip-path=\"url(#clip090)\" d=\"M 0 0 M1606.71 1536.5 Q1602 1536.5 1599.26 1540.19 Q1596.53 1543.85 1596.53 1550.25 Q1596.53 1556.65 1599.23 1560.34 Q1601.97 1564 1606.71 1564 Q1611.39 1564 1614.13 1560.31 Q1616.86 1556.62 1616.86 1550.25 Q1616.86 1543.92 1614.13 1540.23 Q1611.39 1536.5 1606.71 1536.5 M1606.71 1531.54 Q1614.35 1531.54 1618.71 1536.5 Q1623.07 1541.47 1623.07 1550.25 Q1623.07 1559 1618.71 1564 Q1614.35 1568.97 1606.71 1568.97 Q1599.04 1568.97 1594.68 1564 Q1590.35 1559 1590.35 1550.25 Q1590.35 1541.47 1594.68 1536.5 Q1599.04 1531.54 1606.71 1531.54 Z\" fill=\"#000000\" fill-rule=\"evenodd\" fill-opacity=\"1\" /><path clip-path=\"url(#clip090)\" d=\"M 0 0 M1653.44 1537.87 Q1652.45 1537.3 1651.27 1537.04 Q1650.13 1536.76 1648.73 1536.76 Q1643.76 1536.76 1641.09 1540 Q1638.44 1543.22 1638.44 1549.27 L1638.44 1568.04 L1632.56 1568.04 L1632.56 1532.4 L1638.44 1532.4 L1638.44 1537.93 Q1640.29 1534.69 1643.25 1533.13 Q1646.21 1531.54 1650.44 1531.54 Q1651.05 1531.54 1651.78 1531.63 Q1652.51 1531.7 1653.4 1531.85 L1653.44 1537.87 Z\" fill=\"#000000\" fill-rule=\"evenodd\" fill-opacity=\"1\" /><path clip-path=\"url(#clip090)\" d=\"M 0 0 M1688.64 1548.76 L1688.64 1551.62 L1661.71 1551.62 Q1662.09 1557.67 1665.34 1560.85 Q1668.62 1564 1674.44 1564 Q1677.82 1564 1680.97 1563.17 Q1684.15 1562.35 1687.27 1560.69 L1687.27 1566.23 Q1684.12 1567.57 1680.81 1568.27 Q1677.5 1568.97 1674.09 1568.97 Q1665.56 1568.97 1660.57 1564 Q1655.6 1559.04 1655.6 1550.57 Q1655.6 1541.82 1660.31 1536.69 Q1665.05 1531.54 1673.07 1531.54 Q1680.27 1531.54 1684.44 1536.18 Q1688.64 1540.8 1688.64 1548.76 M1682.78 1547.04 Q1682.72 1542.23 1680.08 1539.37 Q1677.47 1536.5 1673.14 1536.5 Q1668.24 1536.5 1665.28 1539.27 Q1662.35 1542.04 1661.9 1547.07 L1682.78 1547.04 Z\" fill=\"#000000\" fill-rule=\"evenodd\" fill-opacity=\"1\" /><polyline clip-path=\"url(#clip092)\" style=\"stroke:#000000; stroke-width:2; stroke-opacity:0.1; fill:none\" points=\"\n",
       "  337.247,1384.24 2352.76,1384.24 \n",
       "  \"/>\n",
       "<polyline clip-path=\"url(#clip092)\" style=\"stroke:#000000; stroke-width:2; stroke-opacity:0.1; fill:none\" points=\"\n",
       "  337.247,992.234 2352.76,992.234 \n",
       "  \"/>\n",
       "<polyline clip-path=\"url(#clip092)\" style=\"stroke:#000000; stroke-width:2; stroke-opacity:0.1; fill:none\" points=\"\n",
       "  337.247,600.229 2352.76,600.229 \n",
       "  \"/>\n",
       "<polyline clip-path=\"url(#clip092)\" style=\"stroke:#000000; stroke-width:2; stroke-opacity:0.1; fill:none\" points=\"\n",
       "  337.247,208.225 2352.76,208.225 \n",
       "  \"/>\n",
       "<polyline clip-path=\"url(#clip090)\" style=\"stroke:#000000; stroke-width:4; stroke-opacity:1; fill:none\" points=\"\n",
       "  337.247,1423.18 337.247,47.2441 \n",
       "  \"/>\n",
       "<polyline clip-path=\"url(#clip090)\" style=\"stroke:#000000; stroke-width:4; stroke-opacity:1; fill:none\" points=\"\n",
       "  337.247,1384.24 361.433,1384.24 \n",
       "  \"/>\n",
       "<polyline clip-path=\"url(#clip090)\" style=\"stroke:#000000; stroke-width:4; stroke-opacity:1; fill:none\" points=\"\n",
       "  337.247,992.234 361.433,992.234 \n",
       "  \"/>\n",
       "<polyline clip-path=\"url(#clip090)\" style=\"stroke:#000000; stroke-width:4; stroke-opacity:1; fill:none\" points=\"\n",
       "  337.247,600.229 361.433,600.229 \n",
       "  \"/>\n",
       "<polyline clip-path=\"url(#clip090)\" style=\"stroke:#000000; stroke-width:4; stroke-opacity:1; fill:none\" points=\"\n",
       "  337.247,208.225 361.433,208.225 \n",
       "  \"/>\n",
       "<path clip-path=\"url(#clip090)\" d=\"M 0 0 M289.303 1370.04 Q285.692 1370.04 283.863 1373.6 Q282.057 1377.14 282.057 1384.27 Q282.057 1391.38 283.863 1394.94 Q285.692 1398.49 289.303 1398.49 Q292.937 1398.49 294.742 1394.94 Q296.571 1391.38 296.571 1384.27 Q296.571 1377.14 294.742 1373.6 Q292.937 1370.04 289.303 1370.04 M289.303 1366.33 Q295.113 1366.33 298.168 1370.94 Q301.247 1375.52 301.247 1384.27 Q301.247 1393 298.168 1397.61 Q295.113 1402.19 289.303 1402.19 Q283.492 1402.19 280.414 1397.61 Q277.358 1393 277.358 1384.27 Q277.358 1375.52 280.414 1370.94 Q283.492 1366.33 289.303 1366.33 Z\" fill=\"#000000\" fill-rule=\"evenodd\" fill-opacity=\"1\" /><path clip-path=\"url(#clip090)\" d=\"M 0 0 M116.668 1012.03 L124.306 1012.03 L124.306 985.661 L115.996 987.327 L115.996 983.068 L124.26 981.401 L128.936 981.401 L128.936 1012.03 L136.575 1012.03 L136.575 1015.96 L116.668 1015.96 L116.668 1012.03 Z\" fill=\"#000000\" fill-rule=\"evenodd\" fill-opacity=\"1\" /><path clip-path=\"url(#clip090)\" d=\"M 0 0 M146.019 1010.08 L150.903 1010.08 L150.903 1015.96 L146.019 1015.96 L146.019 1010.08 Z\" fill=\"#000000\" fill-rule=\"evenodd\" fill-opacity=\"1\" /><path clip-path=\"url(#clip090)\" d=\"M 0 0 M171.089 984.48 Q167.477 984.48 165.649 988.045 Q163.843 991.586 163.843 998.716 Q163.843 1005.82 165.649 1009.39 Q167.477 1012.93 171.089 1012.93 Q174.723 1012.93 176.528 1009.39 Q178.357 1005.82 178.357 998.716 Q178.357 991.586 176.528 988.045 Q174.723 984.48 171.089 984.48 M171.089 980.776 Q176.899 980.776 179.954 985.383 Q183.033 989.966 183.033 998.716 Q183.033 1007.44 179.954 1012.05 Q176.899 1016.63 171.089 1016.63 Q165.278 1016.63 162.2 1012.05 Q159.144 1007.44 159.144 998.716 Q159.144 989.966 162.2 985.383 Q165.278 980.776 171.089 980.776 Z\" fill=\"#000000\" fill-rule=\"evenodd\" fill-opacity=\"1\" /><path clip-path=\"url(#clip090)\" d=\"M 0 0 M219.422 990.498 L208.843 1001.12 L219.422 1011.7 L216.667 1014.5 L206.042 1003.88 L195.417 1014.5 L192.686 1011.7 L203.241 1001.12 L192.686 990.498 L195.417 987.698 L206.042 998.322 L216.667 987.698 L219.422 990.498 Z\" fill=\"#000000\" fill-rule=\"evenodd\" fill-opacity=\"1\" /><path clip-path=\"url(#clip090)\" d=\"M 0 0 M231.783 1012.03 L239.422 1012.03 L239.422 985.661 L231.111 987.327 L231.111 983.068 L239.375 981.401 L244.051 981.401 L244.051 1012.03 L251.69 1012.03 L251.69 1015.96 L231.783 1015.96 L231.783 1012.03 Z\" fill=\"#000000\" fill-rule=\"evenodd\" fill-opacity=\"1\" /><path clip-path=\"url(#clip090)\" d=\"M 0 0 M271.134 984.48 Q267.523 984.48 265.695 988.045 Q263.889 991.586 263.889 998.716 Q263.889 1005.82 265.695 1009.39 Q267.523 1012.93 271.134 1012.93 Q274.769 1012.93 276.574 1009.39 Q278.403 1005.82 278.403 998.716 Q278.403 991.586 276.574 988.045 Q274.769 984.48 271.134 984.48 M271.134 980.776 Q276.944 980.776 280 985.383 Q283.079 989.966 283.079 998.716 Q283.079 1007.44 280 1012.05 Q276.944 1016.63 271.134 1016.63 Q265.324 1016.63 262.245 1012.05 Q259.19 1007.44 259.19 998.716 Q259.19 989.966 262.245 985.383 Q265.324 980.776 271.134 980.776 Z\" fill=\"#000000\" fill-rule=\"evenodd\" fill-opacity=\"1\" /><path clip-path=\"url(#clip090)\" d=\"M 0 0 M284.264 960.471 L299.178 960.471 L299.178 963.668 L287.743 963.668 L287.743 970.552 Q288.571 970.27 289.398 970.138 Q290.226 969.988 291.053 969.988 Q295.755 969.988 298.501 972.564 Q301.247 975.141 301.247 979.542 Q301.247 984.075 298.426 986.595 Q295.605 989.096 290.47 989.096 Q288.702 989.096 286.859 988.795 Q285.035 988.494 283.079 987.893 L283.079 984.075 Q284.771 984.996 286.577 985.448 Q288.382 985.899 290.395 985.899 Q293.649 985.899 295.548 984.187 Q297.448 982.476 297.448 979.542 Q297.448 976.608 295.548 974.896 Q293.649 973.185 290.395 973.185 Q288.871 973.185 287.348 973.523 Q285.843 973.862 284.264 974.577 L284.264 960.471 Z\" fill=\"#000000\" fill-rule=\"evenodd\" fill-opacity=\"1\" /><path clip-path=\"url(#clip090)\" d=\"M 0 0 M119.885 620.022 L136.204 620.022 L136.204 623.957 L114.26 623.957 L114.26 620.022 Q116.922 617.267 121.505 612.637 Q126.112 607.985 127.292 606.642 Q129.538 604.119 130.417 602.383 Q131.32 600.624 131.32 598.934 Q131.32 596.179 129.376 594.443 Q127.455 592.707 124.353 592.707 Q122.154 592.707 119.7 593.471 Q117.269 594.235 114.492 595.786 L114.492 591.063 Q117.316 589.929 119.769 589.35 Q122.223 588.772 124.26 588.772 Q129.63 588.772 132.825 591.457 Q136.019 594.142 136.019 598.633 Q136.019 600.762 135.209 602.684 Q134.422 604.582 132.316 607.174 Q131.737 607.846 128.635 611.063 Q125.533 614.258 119.885 620.022 Z\" fill=\"#000000\" fill-rule=\"evenodd\" fill-opacity=\"1\" /><path clip-path=\"url(#clip090)\" d=\"M 0 0 M146.019 618.077 L150.903 618.077 L150.903 623.957 L146.019 623.957 L146.019 618.077 Z\" fill=\"#000000\" fill-rule=\"evenodd\" fill-opacity=\"1\" /><path clip-path=\"url(#clip090)\" d=\"M 0 0 M171.089 592.475 Q167.477 592.475 165.649 596.04 Q163.843 599.582 163.843 606.711 Q163.843 613.818 165.649 617.383 Q167.477 620.924 171.089 620.924 Q174.723 620.924 176.528 617.383 Q178.357 613.818 178.357 606.711 Q178.357 599.582 176.528 596.04 Q174.723 592.475 171.089 592.475 M171.089 588.772 Q176.899 588.772 179.954 593.378 Q183.033 597.961 183.033 606.711 Q183.033 615.438 179.954 620.045 Q176.899 624.628 171.089 624.628 Q165.278 624.628 162.2 620.045 Q159.144 615.438 159.144 606.711 Q159.144 597.961 162.2 593.378 Q165.278 588.772 171.089 588.772 Z\" fill=\"#000000\" fill-rule=\"evenodd\" fill-opacity=\"1\" /><path clip-path=\"url(#clip090)\" d=\"M 0 0 M219.422 598.494 L208.843 609.119 L219.422 619.697 L216.667 622.498 L206.042 611.873 L195.417 622.498 L192.686 619.697 L203.241 609.119 L192.686 598.494 L195.417 595.693 L206.042 606.318 L216.667 595.693 L219.422 598.494 Z\" fill=\"#000000\" fill-rule=\"evenodd\" fill-opacity=\"1\" /><path clip-path=\"url(#clip090)\" d=\"M 0 0 M231.783 620.022 L239.422 620.022 L239.422 593.656 L231.111 595.323 L231.111 591.063 L239.375 589.397 L244.051 589.397 L244.051 620.022 L251.69 620.022 L251.69 623.957 L231.783 623.957 L231.783 620.022 Z\" fill=\"#000000\" fill-rule=\"evenodd\" fill-opacity=\"1\" /><path clip-path=\"url(#clip090)\" d=\"M 0 0 M271.134 592.475 Q267.523 592.475 265.695 596.04 Q263.889 599.582 263.889 606.711 Q263.889 613.818 265.695 617.383 Q267.523 620.924 271.134 620.924 Q274.769 620.924 276.574 617.383 Q278.403 613.818 278.403 606.711 Q278.403 599.582 276.574 596.04 Q274.769 592.475 271.134 592.475 M271.134 588.772 Q276.944 588.772 280 593.378 Q283.079 597.961 283.079 606.711 Q283.079 615.438 280 620.045 Q276.944 624.628 271.134 624.628 Q265.324 624.628 262.245 620.045 Q259.19 615.438 259.19 606.711 Q259.19 597.961 262.245 593.378 Q265.324 588.772 271.134 588.772 Z\" fill=\"#000000\" fill-rule=\"evenodd\" fill-opacity=\"1\" /><path clip-path=\"url(#clip090)\" d=\"M 0 0 M284.264 568.466 L299.178 568.466 L299.178 571.664 L287.743 571.664 L287.743 578.547 Q288.571 578.265 289.398 578.134 Q290.226 577.983 291.053 577.983 Q295.755 577.983 298.501 580.56 Q301.247 583.136 301.247 587.537 Q301.247 592.07 298.426 594.59 Q295.605 597.092 290.47 597.092 Q288.702 597.092 286.859 596.791 Q285.035 596.49 283.079 595.888 L283.079 592.07 Q284.771 592.992 286.577 593.443 Q288.382 593.894 290.395 593.894 Q293.649 593.894 295.548 592.183 Q297.448 590.471 297.448 587.537 Q297.448 584.603 295.548 582.892 Q293.649 581.18 290.395 581.18 Q288.871 581.18 287.348 581.519 Q285.843 581.857 284.264 582.572 L284.264 568.466 Z\" fill=\"#000000\" fill-rule=\"evenodd\" fill-opacity=\"1\" /><path clip-path=\"url(#clip090)\" d=\"M 0 0 M130.024 213.318 Q133.38 214.036 135.255 216.304 Q137.154 218.573 137.154 221.906 Q137.154 227.022 133.635 229.823 Q130.117 232.623 123.635 232.623 Q121.459 232.623 119.144 232.184 Q116.853 231.767 114.399 230.91 L114.399 226.397 Q116.343 227.531 118.658 228.11 Q120.973 228.688 123.496 228.688 Q127.894 228.688 130.186 226.952 Q132.501 225.216 132.501 221.906 Q132.501 218.85 130.348 217.137 Q128.218 215.401 124.399 215.401 L120.371 215.401 L120.371 211.559 L124.584 211.559 Q128.033 211.559 129.862 210.193 Q131.691 208.804 131.691 206.212 Q131.691 203.55 129.792 202.137 Q127.917 200.702 124.399 200.702 Q122.478 200.702 120.279 201.119 Q118.08 201.536 115.441 202.415 L115.441 198.249 Q118.103 197.508 120.418 197.138 Q122.755 196.767 124.816 196.767 Q130.14 196.767 133.242 199.198 Q136.343 201.605 136.343 205.725 Q136.343 208.596 134.7 210.587 Q133.056 212.554 130.024 213.318 Z\" fill=\"#000000\" fill-rule=\"evenodd\" fill-opacity=\"1\" /><path clip-path=\"url(#clip090)\" d=\"M 0 0 M146.019 226.073 L150.903 226.073 L150.903 231.952 L146.019 231.952 L146.019 226.073 Z\" fill=\"#000000\" fill-rule=\"evenodd\" fill-opacity=\"1\" /><path clip-path=\"url(#clip090)\" d=\"M 0 0 M171.089 200.471 Q167.477 200.471 165.649 204.036 Q163.843 207.577 163.843 214.707 Q163.843 221.813 165.649 225.378 Q167.477 228.92 171.089 228.92 Q174.723 228.92 176.528 225.378 Q178.357 221.813 178.357 214.707 Q178.357 207.577 176.528 204.036 Q174.723 200.471 171.089 200.471 M171.089 196.767 Q176.899 196.767 179.954 201.374 Q183.033 205.957 183.033 214.707 Q183.033 223.434 179.954 228.04 Q176.899 232.623 171.089 232.623 Q165.278 232.623 162.2 228.04 Q159.144 223.434 159.144 214.707 Q159.144 205.957 162.2 201.374 Q165.278 196.767 171.089 196.767 Z\" fill=\"#000000\" fill-rule=\"evenodd\" fill-opacity=\"1\" /><path clip-path=\"url(#clip090)\" d=\"M 0 0 M219.422 206.489 L208.843 217.114 L219.422 227.693 L216.667 230.494 L206.042 219.869 L195.417 230.494 L192.686 227.693 L203.241 217.114 L192.686 206.489 L195.417 203.688 L206.042 214.313 L216.667 203.688 L219.422 206.489 Z\" fill=\"#000000\" fill-rule=\"evenodd\" fill-opacity=\"1\" /><path clip-path=\"url(#clip090)\" d=\"M 0 0 M231.783 228.017 L239.422 228.017 L239.422 201.651 L231.111 203.318 L231.111 199.059 L239.375 197.392 L244.051 197.392 L244.051 228.017 L251.69 228.017 L251.69 231.952 L231.783 231.952 L231.783 228.017 Z\" fill=\"#000000\" fill-rule=\"evenodd\" fill-opacity=\"1\" /><path clip-path=\"url(#clip090)\" d=\"M 0 0 M271.134 200.471 Q267.523 200.471 265.695 204.036 Q263.889 207.577 263.889 214.707 Q263.889 221.813 265.695 225.378 Q267.523 228.92 271.134 228.92 Q274.769 228.92 276.574 225.378 Q278.403 221.813 278.403 214.707 Q278.403 207.577 276.574 204.036 Q274.769 200.471 271.134 200.471 M271.134 196.767 Q276.944 196.767 280 201.374 Q283.079 205.957 283.079 214.707 Q283.079 223.434 280 228.04 Q276.944 232.623 271.134 232.623 Q265.324 232.623 262.245 228.04 Q259.19 223.434 259.19 214.707 Q259.19 205.957 262.245 201.374 Q265.324 196.767 271.134 196.767 Z\" fill=\"#000000\" fill-rule=\"evenodd\" fill-opacity=\"1\" /><path clip-path=\"url(#clip090)\" d=\"M 0 0 M284.264 176.462 L299.178 176.462 L299.178 179.659 L287.743 179.659 L287.743 186.543 Q288.571 186.261 289.398 186.129 Q290.226 185.978 291.053 185.978 Q295.755 185.978 298.501 188.555 Q301.247 191.132 301.247 195.533 Q301.247 200.065 298.426 202.586 Q295.605 205.087 290.47 205.087 Q288.702 205.087 286.859 204.786 Q285.035 204.485 283.079 203.883 L283.079 200.065 Q284.771 200.987 286.577 201.438 Q288.382 201.89 290.395 201.89 Q293.649 201.89 295.548 200.178 Q297.448 198.467 297.448 195.533 Q297.448 192.599 295.548 190.887 Q293.649 189.176 290.395 189.176 Q288.871 189.176 287.348 189.514 Q285.843 189.853 284.264 190.568 L284.264 176.462 Z\" fill=\"#000000\" fill-rule=\"evenodd\" fill-opacity=\"1\" /><path clip-path=\"url(#clip090)\" d=\"M 0 0 M18.0438 884.902 L24.314 884.902 Q22.5634 888.562 21.704 891.808 Q20.8447 895.055 20.8447 898.079 Q20.8447 903.33 22.8817 906.195 Q24.9187 909.028 28.6745 909.028 Q31.8255 909.028 33.4488 907.15 Q35.0402 905.24 36.0269 899.956 L36.8226 896.073 Q38.1912 888.88 41.6605 885.474 Q45.098 882.037 50.8908 882.037 Q57.7976 882.037 61.3624 886.684 Q64.9272 891.299 64.9272 900.243 Q64.9272 903.617 64.1633 907.436 Q63.3994 911.224 61.9035 915.298 L55.2831 915.298 Q57.4793 911.383 58.5933 907.627 Q59.7073 903.871 59.7073 900.243 Q59.7073 894.737 57.543 891.745 Q55.3786 888.753 51.3682 888.753 Q47.8671 888.753 45.8937 890.917 Q43.9204 893.05 42.9337 897.951 L42.1698 901.866 Q40.7375 909.059 37.682 912.274 Q34.6264 915.489 29.1837 915.489 Q22.8817 915.489 19.2532 911.065 Q15.6248 906.609 15.6248 898.811 Q15.6248 895.469 16.2295 891.999 Q16.8343 888.53 18.0438 884.902 Z\" fill=\"#000000\" fill-rule=\"evenodd\" fill-opacity=\"1\" /><path clip-path=\"url(#clip090)\" d=\"M 0 0 M16.4842 872.011 L16.4842 863.354 L56.238 842.283 L16.4842 842.283 L16.4842 836.045 L64.0042 836.045 L64.0042 844.702 L24.2503 865.773 L64.0042 865.773 L64.0042 872.011 L16.4842 872.011 Z\" fill=\"#000000\" fill-rule=\"evenodd\" fill-opacity=\"1\" /><path clip-path=\"url(#clip090)\" d=\"M 0 0 M21.7677 816.82 L39.6235 816.82 L39.6235 808.736 Q39.6235 804.248 37.3 801.797 Q34.9765 799.346 30.6797 799.346 Q26.4147 799.346 24.0912 801.797 Q21.7677 804.248 21.7677 808.736 L21.7677 816.82 M16.4842 823.25 L16.4842 808.736 Q16.4842 800.747 20.1126 796.673 Q23.7092 792.567 30.6797 792.567 Q37.7138 792.567 41.3104 796.673 Q44.907 800.747 44.907 808.736 L44.907 816.82 L64.0042 816.82 L64.0042 823.25 L16.4842 823.25 Z\" fill=\"#000000\" fill-rule=\"evenodd\" fill-opacity=\"1\" /><path clip-path=\"url(#clip090)\" d=\"M 0 0 M29.7248 737.822 L35.1993 737.822 Q33.8307 740.305 33.1623 742.819 Q32.4621 745.302 32.4621 747.848 Q32.4621 753.545 36.0905 756.696 Q39.6872 759.847 46.212 759.847 Q52.7369 759.847 56.3653 756.696 Q59.9619 753.545 59.9619 747.848 Q59.9619 745.302 59.2935 742.819 Q58.5933 740.305 57.2247 737.822 L62.6355 737.822 Q63.7814 740.273 64.3543 742.914 Q64.9272 745.524 64.9272 748.484 Q64.9272 756.537 59.8664 761.28 Q54.8057 766.022 46.212 766.022 Q37.491 766.022 32.4939 761.248 Q27.4968 756.442 27.4968 748.103 Q27.4968 745.397 28.0697 742.819 Q28.6108 740.241 29.7248 737.822 Z\" fill=\"#000000\" fill-rule=\"evenodd\" fill-opacity=\"1\" /><path clip-path=\"url(#clip090)\" d=\"M 0 0 M32.4621 713.823 Q32.4621 718.534 36.1542 721.271 Q39.8145 724.008 46.212 724.008 Q52.6095 724.008 56.3017 721.303 Q59.9619 718.566 59.9619 713.823 Q59.9619 709.144 56.2698 706.407 Q52.5777 703.67 46.212 703.67 Q39.8781 703.67 36.186 706.407 Q32.4621 709.144 32.4621 713.823 M27.4968 713.823 Q27.4968 706.184 32.4621 701.824 Q37.4273 697.463 46.212 697.463 Q54.9649 697.463 59.9619 701.824 Q64.9272 706.184 64.9272 713.823 Q64.9272 721.494 59.9619 725.854 Q54.9649 730.183 46.212 730.183 Q37.4273 730.183 32.4621 725.854 Q27.4968 721.494 27.4968 713.823 Z\" fill=\"#000000\" fill-rule=\"evenodd\" fill-opacity=\"1\" /><path clip-path=\"url(#clip090)\" d=\"M 0 0 M49.9359 688.36 L28.3562 688.36 L28.3562 682.504 L49.7131 682.504 Q54.7739 682.504 57.3202 680.531 Q59.8346 678.557 59.8346 674.61 Q59.8346 669.868 56.8109 667.131 Q53.7872 664.362 48.5673 664.362 L28.3562 664.362 L28.3562 658.505 L64.0042 658.505 L64.0042 664.362 L58.5296 664.362 Q61.7762 666.494 63.3676 669.327 Q64.9272 672.128 64.9272 675.852 Q64.9272 681.995 61.1078 685.178 Q57.2883 688.36 49.9359 688.36 M27.4968 673.624 L27.4968 673.624 Z\" fill=\"#000000\" fill-rule=\"evenodd\" fill-opacity=\"1\" /><path clip-path=\"url(#clip090)\" d=\"M 0 0 M42.4881 616.81 L64.0042 616.81 L64.0042 622.666 L42.679 622.666 Q37.6183 622.666 35.1038 624.64 Q32.5894 626.613 32.5894 630.56 Q32.5894 635.302 35.6131 638.039 Q38.6368 640.777 43.8567 640.777 L64.0042 640.777 L64.0042 646.665 L28.3562 646.665 L28.3562 640.777 L33.8944 640.777 Q30.6797 638.676 29.0883 635.843 Q27.4968 632.979 27.4968 629.255 Q27.4968 623.112 31.3163 619.961 Q35.1038 616.81 42.4881 616.81 Z\" fill=\"#000000\" fill-rule=\"evenodd\" fill-opacity=\"1\" /><path clip-path=\"url(#clip090)\" d=\"M 0 0 M18.2347 599.336 L28.3562 599.336 L28.3562 587.273 L32.9077 587.273 L32.9077 599.336 L52.2594 599.336 Q56.6199 599.336 57.8613 598.158 Q59.1026 596.949 59.1026 593.289 L59.1026 587.273 L64.0042 587.273 L64.0042 593.289 Q64.0042 600.068 61.4897 602.646 Q58.9434 605.224 52.2594 605.224 L32.9077 605.224 L32.9077 609.521 L28.3562 609.521 L28.3562 605.224 L18.2347 605.224 L18.2347 599.336 Z\" fill=\"#000000\" fill-rule=\"evenodd\" fill-opacity=\"1\" /><path clip-path=\"url(#clip090)\" d=\"M 0 0 M29.4065 556.845 L34.9447 556.845 Q33.6716 559.327 33.035 562.001 Q32.3984 564.675 32.3984 567.539 Q32.3984 571.9 33.7352 574.096 Q35.072 576.26 37.7456 576.26 Q39.7826 576.26 40.9603 574.701 Q42.1061 573.141 43.1565 568.43 L43.6021 566.425 Q44.9389 560.187 47.3897 557.577 Q49.8086 554.935 54.1691 554.935 Q59.1344 554.935 62.0308 558.882 Q64.9272 562.797 64.9272 569.672 Q64.9272 572.536 64.3543 575.656 Q63.8132 578.743 62.6992 582.18 L56.6518 582.18 Q58.3387 578.934 59.198 575.783 Q60.0256 572.632 60.0256 569.544 Q60.0256 565.407 58.6251 563.179 Q57.1929 560.951 54.6147 560.951 Q52.2276 560.951 50.9545 562.574 Q49.6813 564.165 48.5037 569.608 L48.0262 571.645 Q46.8804 577.088 44.5251 579.507 Q42.138 581.926 38.0002 581.926 Q32.9713 581.926 30.2341 578.361 Q27.4968 574.796 27.4968 568.239 Q27.4968 564.993 27.9743 562.128 Q28.4517 559.264 29.4065 556.845 Z\" fill=\"#000000\" fill-rule=\"evenodd\" fill-opacity=\"1\" /><path clip-path=\"url(#clip092)\" d=\"\n",
       "M448.104 1384.23 L448.104 1384.24 L505.968 1384.24 L505.968 1384.23 L448.104 1384.23 L448.104 1384.23  Z\n",
       "  \" fill=\"#009af9\" fill-rule=\"evenodd\" fill-opacity=\"1\"/>\n",
       "<polyline clip-path=\"url(#clip092)\" style=\"stroke:#000000; stroke-width:4; stroke-opacity:1; fill:none\" points=\"\n",
       "  448.104,1384.23 448.104,1384.24 505.968,1384.24 505.968,1384.23 448.104,1384.23 \n",
       "  \"/>\n",
       "<path clip-path=\"url(#clip092)\" d=\"\n",
       "M505.968 1384.24 L505.968 1384.24 L563.832 1384.24 L563.832 1384.24 L505.968 1384.24 L505.968 1384.24  Z\n",
       "  \" fill=\"#009af9\" fill-rule=\"evenodd\" fill-opacity=\"1\"/>\n",
       "<polyline clip-path=\"url(#clip092)\" style=\"stroke:#000000; stroke-width:4; stroke-opacity:1; fill:none\" points=\"\n",
       "  505.968,1384.24 505.968,1384.24 563.832,1384.24 505.968,1384.24 \n",
       "  \"/>\n",
       "<path clip-path=\"url(#clip092)\" d=\"\n",
       "M563.832 1384.24 L563.832 1384.24 L621.697 1384.24 L621.697 1384.24 L563.832 1384.24 L563.832 1384.24  Z\n",
       "  \" fill=\"#009af9\" fill-rule=\"evenodd\" fill-opacity=\"1\"/>\n",
       "<polyline clip-path=\"url(#clip092)\" style=\"stroke:#000000; stroke-width:4; stroke-opacity:1; fill:none\" points=\"\n",
       "  563.832,1384.24 563.832,1384.24 621.697,1384.24 563.832,1384.24 \n",
       "  \"/>\n",
       "<path clip-path=\"url(#clip092)\" d=\"\n",
       "M621.697 1384.24 L621.697 1384.24 L679.561 1384.24 L679.561 1384.24 L621.697 1384.24 L621.697 1384.24  Z\n",
       "  \" fill=\"#009af9\" fill-rule=\"evenodd\" fill-opacity=\"1\"/>\n",
       "<polyline clip-path=\"url(#clip092)\" style=\"stroke:#000000; stroke-width:4; stroke-opacity:1; fill:none\" points=\"\n",
       "  621.697,1384.24 621.697,1384.24 679.561,1384.24 621.697,1384.24 \n",
       "  \"/>\n",
       "<path clip-path=\"url(#clip092)\" d=\"\n",
       "M679.561 1384.23 L679.561 1384.24 L737.425 1384.24 L737.425 1384.23 L679.561 1384.23 L679.561 1384.23  Z\n",
       "  \" fill=\"#009af9\" fill-rule=\"evenodd\" fill-opacity=\"1\"/>\n",
       "<polyline clip-path=\"url(#clip092)\" style=\"stroke:#000000; stroke-width:4; stroke-opacity:1; fill:none\" points=\"\n",
       "  679.561,1384.23 679.561,1384.24 737.425,1384.24 737.425,1384.23 679.561,1384.23 \n",
       "  \"/>\n",
       "<path clip-path=\"url(#clip092)\" d=\"\n",
       "M737.425 1384.24 L737.425 1384.24 L795.29 1384.24 L795.29 1384.24 L737.425 1384.24 L737.425 1384.24  Z\n",
       "  \" fill=\"#009af9\" fill-rule=\"evenodd\" fill-opacity=\"1\"/>\n",
       "<polyline clip-path=\"url(#clip092)\" style=\"stroke:#000000; stroke-width:4; stroke-opacity:1; fill:none\" points=\"\n",
       "  737.425,1384.24 737.425,1384.24 795.29,1384.24 737.425,1384.24 \n",
       "  \"/>\n",
       "<path clip-path=\"url(#clip092)\" d=\"\n",
       "M795.29 1384.2 L795.29 1384.24 L853.154 1384.24 L853.154 1384.2 L795.29 1384.2 L795.29 1384.2  Z\n",
       "  \" fill=\"#009af9\" fill-rule=\"evenodd\" fill-opacity=\"1\"/>\n",
       "<polyline clip-path=\"url(#clip092)\" style=\"stroke:#000000; stroke-width:4; stroke-opacity:1; fill:none\" points=\"\n",
       "  795.29,1384.2 795.29,1384.24 853.154,1384.24 853.154,1384.2 795.29,1384.2 \n",
       "  \"/>\n",
       "<path clip-path=\"url(#clip092)\" d=\"\n",
       "M853.154 1384.24 L853.154 1384.24 L911.019 1384.24 L911.019 1384.24 L853.154 1384.24 L853.154 1384.24  Z\n",
       "  \" fill=\"#009af9\" fill-rule=\"evenodd\" fill-opacity=\"1\"/>\n",
       "<polyline clip-path=\"url(#clip092)\" style=\"stroke:#000000; stroke-width:4; stroke-opacity:1; fill:none\" points=\"\n",
       "  853.154,1384.24 853.154,1384.24 911.019,1384.24 853.154,1384.24 \n",
       "  \"/>\n",
       "<path clip-path=\"url(#clip092)\" d=\"\n",
       "M911.019 1384.24 L911.019 1384.24 L968.883 1384.24 L968.883 1384.24 L911.019 1384.24 L911.019 1384.24  Z\n",
       "  \" fill=\"#009af9\" fill-rule=\"evenodd\" fill-opacity=\"1\"/>\n",
       "<polyline clip-path=\"url(#clip092)\" style=\"stroke:#000000; stroke-width:4; stroke-opacity:1; fill:none\" points=\"\n",
       "  911.019,1384.24 911.019,1384.24 968.883,1384.24 911.019,1384.24 \n",
       "  \"/>\n",
       "<path clip-path=\"url(#clip092)\" d=\"\n",
       "M968.883 1384.24 L968.883 1384.24 L1026.75 1384.24 L1026.75 1384.24 L968.883 1384.24 L968.883 1384.24  Z\n",
       "  \" fill=\"#009af9\" fill-rule=\"evenodd\" fill-opacity=\"1\"/>\n",
       "<polyline clip-path=\"url(#clip092)\" style=\"stroke:#000000; stroke-width:4; stroke-opacity:1; fill:none\" points=\"\n",
       "  968.883,1384.24 968.883,1384.24 1026.75,1384.24 968.883,1384.24 \n",
       "  \"/>\n",
       "<path clip-path=\"url(#clip092)\" d=\"\n",
       "M1026.75 1384.08 L1026.75 1384.24 L1084.61 1384.24 L1084.61 1384.08 L1026.75 1384.08 L1026.75 1384.08  Z\n",
       "  \" fill=\"#009af9\" fill-rule=\"evenodd\" fill-opacity=\"1\"/>\n",
       "<polyline clip-path=\"url(#clip092)\" style=\"stroke:#000000; stroke-width:4; stroke-opacity:1; fill:none\" points=\"\n",
       "  1026.75,1384.08 1026.75,1384.24 1084.61,1384.24 1084.61,1384.08 1026.75,1384.08 \n",
       "  \"/>\n",
       "<path clip-path=\"url(#clip092)\" d=\"\n",
       "M1084.61 1384.24 L1084.61 1384.24 L1142.48 1384.24 L1142.48 1384.24 L1084.61 1384.24 L1084.61 1384.24  Z\n",
       "  \" fill=\"#009af9\" fill-rule=\"evenodd\" fill-opacity=\"1\"/>\n",
       "<polyline clip-path=\"url(#clip092)\" style=\"stroke:#000000; stroke-width:4; stroke-opacity:1; fill:none\" points=\"\n",
       "  1084.61,1384.24 1084.61,1384.24 1142.48,1384.24 1084.61,1384.24 \n",
       "  \"/>\n",
       "<path clip-path=\"url(#clip092)\" d=\"\n",
       "M1142.48 1384.17 L1142.48 1384.24 L1200.34 1384.24 L1200.34 1384.17 L1142.48 1384.17 L1142.48 1384.17  Z\n",
       "  \" fill=\"#009af9\" fill-rule=\"evenodd\" fill-opacity=\"1\"/>\n",
       "<polyline clip-path=\"url(#clip092)\" style=\"stroke:#000000; stroke-width:4; stroke-opacity:1; fill:none\" points=\"\n",
       "  1142.48,1384.17 1142.48,1384.24 1200.34,1384.24 1200.34,1384.17 1142.48,1384.17 \n",
       "  \"/>\n",
       "<path clip-path=\"url(#clip092)\" d=\"\n",
       "M1200.34 1384.24 L1200.34 1384.24 L1258.2 1384.24 L1258.2 1384.24 L1200.34 1384.24 L1200.34 1384.24  Z\n",
       "  \" fill=\"#009af9\" fill-rule=\"evenodd\" fill-opacity=\"1\"/>\n",
       "<polyline clip-path=\"url(#clip092)\" style=\"stroke:#000000; stroke-width:4; stroke-opacity:1; fill:none\" points=\"\n",
       "  1200.34,1384.24 1200.34,1384.24 1258.2,1384.24 1200.34,1384.24 \n",
       "  \"/>\n",
       "<path clip-path=\"url(#clip092)\" d=\"\n",
       "M1258.2 1383.1 L1258.2 1384.24 L1316.07 1384.24 L1316.07 1383.1 L1258.2 1383.1 L1258.2 1383.1  Z\n",
       "  \" fill=\"#009af9\" fill-rule=\"evenodd\" fill-opacity=\"1\"/>\n",
       "<polyline clip-path=\"url(#clip092)\" style=\"stroke:#000000; stroke-width:4; stroke-opacity:1; fill:none\" points=\"\n",
       "  1258.2,1383.1 1258.2,1384.24 1316.07,1384.24 1316.07,1383.1 1258.2,1383.1 \n",
       "  \"/>\n",
       "<path clip-path=\"url(#clip092)\" d=\"\n",
       "M1316.07 1384.24 L1316.07 1384.24 L1373.93 1384.24 L1373.93 1384.24 L1316.07 1384.24 L1316.07 1384.24  Z\n",
       "  \" fill=\"#009af9\" fill-rule=\"evenodd\" fill-opacity=\"1\"/>\n",
       "<polyline clip-path=\"url(#clip092)\" style=\"stroke:#000000; stroke-width:4; stroke-opacity:1; fill:none\" points=\"\n",
       "  1316.07,1384.24 1316.07,1384.24 1373.93,1384.24 1316.07,1384.24 \n",
       "  \"/>\n",
       "<path clip-path=\"url(#clip092)\" d=\"\n",
       "M1373.93 1384.24 L1373.93 1384.24 L1431.8 1384.24 L1431.8 1384.24 L1373.93 1384.24 L1373.93 1384.24  Z\n",
       "  \" fill=\"#009af9\" fill-rule=\"evenodd\" fill-opacity=\"1\"/>\n",
       "<polyline clip-path=\"url(#clip092)\" style=\"stroke:#000000; stroke-width:4; stroke-opacity:1; fill:none\" points=\"\n",
       "  1373.93,1384.24 1373.93,1384.24 1431.8,1384.24 1373.93,1384.24 \n",
       "  \"/>\n",
       "<path clip-path=\"url(#clip092)\" d=\"\n",
       "M1431.8 1384.24 L1431.8 1384.24 L1489.66 1384.24 L1489.66 1384.24 L1431.8 1384.24 L1431.8 1384.24  Z\n",
       "  \" fill=\"#009af9\" fill-rule=\"evenodd\" fill-opacity=\"1\"/>\n",
       "<polyline clip-path=\"url(#clip092)\" style=\"stroke:#000000; stroke-width:4; stroke-opacity:1; fill:none\" points=\"\n",
       "  1431.8,1384.24 1431.8,1384.24 1489.66,1384.24 1431.8,1384.24 \n",
       "  \"/>\n",
       "<path clip-path=\"url(#clip092)\" d=\"\n",
       "M1489.66 1383.11 L1489.66 1384.24 L1547.53 1384.24 L1547.53 1383.11 L1489.66 1383.11 L1489.66 1383.11  Z\n",
       "  \" fill=\"#009af9\" fill-rule=\"evenodd\" fill-opacity=\"1\"/>\n",
       "<polyline clip-path=\"url(#clip092)\" style=\"stroke:#000000; stroke-width:4; stroke-opacity:1; fill:none\" points=\"\n",
       "  1489.66,1383.11 1489.66,1384.24 1547.53,1384.24 1547.53,1383.11 1489.66,1383.11 \n",
       "  \"/>\n",
       "<path clip-path=\"url(#clip092)\" d=\"\n",
       "M1547.53 1384.24 L1547.53 1384.24 L1605.39 1384.24 L1605.39 1384.24 L1547.53 1384.24 L1547.53 1384.24  Z\n",
       "  \" fill=\"#009af9\" fill-rule=\"evenodd\" fill-opacity=\"1\"/>\n",
       "<polyline clip-path=\"url(#clip092)\" style=\"stroke:#000000; stroke-width:4; stroke-opacity:1; fill:none\" points=\"\n",
       "  1547.53,1384.24 1547.53,1384.24 1605.39,1384.24 1547.53,1384.24 \n",
       "  \"/>\n",
       "<path clip-path=\"url(#clip092)\" d=\"\n",
       "M1605.39 1375.9 L1605.39 1384.24 L1663.26 1384.24 L1663.26 1375.9 L1605.39 1375.9 L1605.39 1375.9  Z\n",
       "  \" fill=\"#009af9\" fill-rule=\"evenodd\" fill-opacity=\"1\"/>\n",
       "<polyline clip-path=\"url(#clip092)\" style=\"stroke:#000000; stroke-width:4; stroke-opacity:1; fill:none\" points=\"\n",
       "  1605.39,1375.9 1605.39,1384.24 1663.26,1384.24 1663.26,1375.9 1605.39,1375.9 \n",
       "  \"/>\n",
       "<path clip-path=\"url(#clip092)\" d=\"\n",
       "M1663.26 1384.24 L1663.26 1384.24 L1721.12 1384.24 L1721.12 1384.24 L1663.26 1384.24 L1663.26 1384.24  Z\n",
       "  \" fill=\"#009af9\" fill-rule=\"evenodd\" fill-opacity=\"1\"/>\n",
       "<polyline clip-path=\"url(#clip092)\" style=\"stroke:#000000; stroke-width:4; stroke-opacity:1; fill:none\" points=\"\n",
       "  1663.26,1384.24 1663.26,1384.24 1721.12,1384.24 1663.26,1384.24 \n",
       "  \"/>\n",
       "<path clip-path=\"url(#clip092)\" d=\"\n",
       "M1721.12 1370.87 L1721.12 1384.24 L1778.98 1384.24 L1778.98 1370.87 L1721.12 1370.87 L1721.12 1370.87  Z\n",
       "  \" fill=\"#009af9\" fill-rule=\"evenodd\" fill-opacity=\"1\"/>\n",
       "<polyline clip-path=\"url(#clip092)\" style=\"stroke:#000000; stroke-width:4; stroke-opacity:1; fill:none\" points=\"\n",
       "  1721.12,1370.87 1721.12,1384.24 1778.98,1384.24 1778.98,1370.87 1721.12,1370.87 \n",
       "  \"/>\n",
       "<path clip-path=\"url(#clip092)\" d=\"\n",
       "M1778.98 1384.24 L1778.98 1384.24 L1836.85 1384.24 L1836.85 1384.24 L1778.98 1384.24 L1778.98 1384.24  Z\n",
       "  \" fill=\"#009af9\" fill-rule=\"evenodd\" fill-opacity=\"1\"/>\n",
       "<polyline clip-path=\"url(#clip092)\" style=\"stroke:#000000; stroke-width:4; stroke-opacity:1; fill:none\" points=\"\n",
       "  1778.98,1384.24 1778.98,1384.24 1836.85,1384.24 1778.98,1384.24 \n",
       "  \"/>\n",
       "<path clip-path=\"url(#clip092)\" d=\"\n",
       "M1836.85 1373.2 L1836.85 1384.24 L1894.71 1384.24 L1894.71 1373.2 L1836.85 1373.2 L1836.85 1373.2  Z\n",
       "  \" fill=\"#009af9\" fill-rule=\"evenodd\" fill-opacity=\"1\"/>\n",
       "<polyline clip-path=\"url(#clip092)\" style=\"stroke:#000000; stroke-width:4; stroke-opacity:1; fill:none\" points=\"\n",
       "  1836.85,1373.2 1836.85,1384.24 1894.71,1384.24 1894.71,1373.2 1836.85,1373.2 \n",
       "  \"/>\n",
       "<path clip-path=\"url(#clip092)\" d=\"\n",
       "M1894.71 1384.24 L1894.71 1384.24 L1952.58 1384.24 L1952.58 1384.24 L1894.71 1384.24 L1894.71 1384.24  Z\n",
       "  \" fill=\"#009af9\" fill-rule=\"evenodd\" fill-opacity=\"1\"/>\n",
       "<polyline clip-path=\"url(#clip092)\" style=\"stroke:#000000; stroke-width:4; stroke-opacity:1; fill:none\" points=\"\n",
       "  1894.71,1384.24 1894.71,1384.24 1952.58,1384.24 1894.71,1384.24 \n",
       "  \"/>\n",
       "<path clip-path=\"url(#clip092)\" d=\"\n",
       "M1952.58 1299.32 L1952.58 1384.24 L2010.44 1384.24 L2010.44 1299.32 L1952.58 1299.32 L1952.58 1299.32  Z\n",
       "  \" fill=\"#009af9\" fill-rule=\"evenodd\" fill-opacity=\"1\"/>\n",
       "<polyline clip-path=\"url(#clip092)\" style=\"stroke:#000000; stroke-width:4; stroke-opacity:1; fill:none\" points=\"\n",
       "  1952.58,1299.32 1952.58,1384.24 2010.44,1384.24 2010.44,1299.32 1952.58,1299.32 \n",
       "  \"/>\n",
       "<path clip-path=\"url(#clip092)\" d=\"\n",
       "M2010.44 1384.24 L2010.44 1384.24 L2068.31 1384.24 L2068.31 1384.24 L2010.44 1384.24 L2010.44 1384.24  Z\n",
       "  \" fill=\"#009af9\" fill-rule=\"evenodd\" fill-opacity=\"1\"/>\n",
       "<polyline clip-path=\"url(#clip092)\" style=\"stroke:#000000; stroke-width:4; stroke-opacity:1; fill:none\" points=\"\n",
       "  2010.44,1384.24 2010.44,1384.24 2068.31,1384.24 2010.44,1384.24 \n",
       "  \"/>\n",
       "<path clip-path=\"url(#clip092)\" d=\"\n",
       "M2068.31 1165.15 L2068.31 1384.24 L2126.17 1384.24 L2126.17 1165.15 L2068.31 1165.15 L2068.31 1165.15  Z\n",
       "  \" fill=\"#009af9\" fill-rule=\"evenodd\" fill-opacity=\"1\"/>\n",
       "<polyline clip-path=\"url(#clip092)\" style=\"stroke:#000000; stroke-width:4; stroke-opacity:1; fill:none\" points=\"\n",
       "  2068.31,1165.15 2068.31,1384.24 2126.17,1384.24 2126.17,1165.15 2068.31,1165.15 \n",
       "  \"/>\n",
       "<path clip-path=\"url(#clip092)\" d=\"\n",
       "M2126.17 1384.24 L2126.17 1384.24 L2184.03 1384.24 L2184.03 1384.24 L2126.17 1384.24 L2126.17 1384.24  Z\n",
       "  \" fill=\"#009af9\" fill-rule=\"evenodd\" fill-opacity=\"1\"/>\n",
       "<polyline clip-path=\"url(#clip092)\" style=\"stroke:#000000; stroke-width:4; stroke-opacity:1; fill:none\" points=\"\n",
       "  2126.17,1384.24 2126.17,1384.24 2184.03,1384.24 2126.17,1384.24 \n",
       "  \"/>\n",
       "<path clip-path=\"url(#clip092)\" d=\"\n",
       "M2184.03 86.1857 L2184.03 1384.24 L2241.9 1384.24 L2241.9 86.1857 L2184.03 86.1857 L2184.03 86.1857  Z\n",
       "  \" fill=\"#009af9\" fill-rule=\"evenodd\" fill-opacity=\"1\"/>\n",
       "<polyline clip-path=\"url(#clip092)\" style=\"stroke:#000000; stroke-width:4; stroke-opacity:1; fill:none\" points=\"\n",
       "  2184.03,86.1857 2184.03,1384.24 2241.9,1384.24 2241.9,86.1857 2184.03,86.1857 \n",
       "  \"/>\n",
       "</svg>\n"
      ]
     },
     "execution_count": 6,
     "metadata": {},
     "output_type": "execute_result"
    }
   ],
   "source": [
    "using VariantCallFormat, Plots\n",
    "reader = VCF.Reader(openvcf(outfile, \"r\"))\n",
    "snpscores = Vector{Float64}(undef, nrecords(outfile))\n",
    "\n",
    "# loop over SNPs\n",
    "for (i, record) in enumerate(reader)\n",
    "    snpscores[i] = parse(Float64, VCF.info(record)[1].second)\n",
    "end\n",
    "close(reader)\n",
    "\n",
    "# plot histogram of SNP scores\n",
    "histogram(snpscores, label=:none, xlabel=\"per-SNP quality score\", \n",
    "    ylabel=\"SNP counts\", bins=30)"
   ]
  },
  {
   "cell_type": "markdown",
   "metadata": {},
   "source": [
    "**Conclusion:** Most SNPs are well imputed (quality score close to $1.0$), but a few have subpar quality score (e.g. below $0.999$). We recommend such SNPs to be [filtered out](https://openmendel.github.io/VCFTools.jl/dev/man/filter/#Subsetting-VCF-files-using-array-masks). "
   ]
  },
  {
   "cell_type": "markdown",
   "metadata": {},
   "source": [
    "!!! note\n",
    "\n",
    "    The popular correlation metric $r^2$ such as [this one](https://genome.sph.umich.edu/wiki/Minimac3_Info_File#Rsq) is NOT a good metric for measuring imputation accuracy under MendelImpute's model, because all imputed SNPs will have $r^2 = 1$. For details, please see our paper. "
   ]
  },
  {
   "cell_type": "markdown",
   "metadata": {},
   "source": [
    "## Post-imputation: per-sample Imputation Quality score\n",
    "\n",
    "MendelImpute also computes a rough quality score (file ending in `sample.error`) for measuring how well each sample is imputed. This value is the sum of the least squares error for all typed SNPs scaled by the total number of observed SNPs, similar to the per-SNP quality score. A value of 1.0 is best, and 0 is worst. "
   ]
  },
  {
   "cell_type": "code",
   "execution_count": 7,
   "metadata": {
    "collapsed": false
   },
   "outputs": [
    {
     "data": {
      "image/svg+xml": [
       "<?xml version=\"1.0\" encoding=\"utf-8\"?>\n",
       "<svg xmlns=\"http://www.w3.org/2000/svg\" xmlns:xlink=\"http://www.w3.org/1999/xlink\" width=\"600\" height=\"400\" viewBox=\"0 0 2400 1600\">\n",
       "<defs>\n",
       "  <clipPath id=\"clip130\">\n",
       "    <rect x=\"0\" y=\"0\" width=\"2400\" height=\"1600\"/>\n",
       "  </clipPath>\n",
       "</defs>\n",
       "<path clip-path=\"url(#clip130)\" d=\"\n",
       "M0 1600 L2400 1600 L2400 0 L0 0  Z\n",
       "  \" fill=\"#ffffff\" fill-rule=\"evenodd\" fill-opacity=\"1\"/>\n",
       "<defs>\n",
       "  <clipPath id=\"clip131\">\n",
       "    <rect x=\"480\" y=\"0\" width=\"1681\" height=\"1600\"/>\n",
       "  </clipPath>\n",
       "</defs>\n",
       "<path clip-path=\"url(#clip130)\" d=\"\n",
       "M205.121 1423.18 L2352.76 1423.18 L2352.76 47.2441 L205.121 47.2441  Z\n",
       "  \" fill=\"#ffffff\" fill-rule=\"evenodd\" fill-opacity=\"1\"/>\n",
       "<defs>\n",
       "  <clipPath id=\"clip132\">\n",
       "    <rect x=\"205\" y=\"47\" width=\"2149\" height=\"1377\"/>\n",
       "  </clipPath>\n",
       "</defs>\n",
       "<polyline clip-path=\"url(#clip132)\" style=\"stroke:#000000; stroke-width:2; stroke-opacity:0.1; fill:none\" points=\"\n",
       "  236.363,1423.18 236.363,47.2441 \n",
       "  \"/>\n",
       "<polyline clip-path=\"url(#clip132)\" style=\"stroke:#000000; stroke-width:2; stroke-opacity:0.1; fill:none\" points=\"\n",
       "  670.77,1423.18 670.77,47.2441 \n",
       "  \"/>\n",
       "<polyline clip-path=\"url(#clip132)\" style=\"stroke:#000000; stroke-width:2; stroke-opacity:0.1; fill:none\" points=\"\n",
       "  1105.18,1423.18 1105.18,47.2441 \n",
       "  \"/>\n",
       "<polyline clip-path=\"url(#clip132)\" style=\"stroke:#000000; stroke-width:2; stroke-opacity:0.1; fill:none\" points=\"\n",
       "  1539.58,1423.18 1539.58,47.2441 \n",
       "  \"/>\n",
       "<polyline clip-path=\"url(#clip132)\" style=\"stroke:#000000; stroke-width:2; stroke-opacity:0.1; fill:none\" points=\"\n",
       "  1973.99,1423.18 1973.99,47.2441 \n",
       "  \"/>\n",
       "<polyline clip-path=\"url(#clip130)\" style=\"stroke:#000000; stroke-width:4; stroke-opacity:1; fill:none\" points=\"\n",
       "  205.121,1423.18 2352.76,1423.18 \n",
       "  \"/>\n",
       "<polyline clip-path=\"url(#clip130)\" style=\"stroke:#000000; stroke-width:4; stroke-opacity:1; fill:none\" points=\"\n",
       "  236.363,1423.18 236.363,1406.67 \n",
       "  \"/>\n",
       "<polyline clip-path=\"url(#clip130)\" style=\"stroke:#000000; stroke-width:4; stroke-opacity:1; fill:none\" points=\"\n",
       "  670.77,1423.18 670.77,1406.67 \n",
       "  \"/>\n",
       "<polyline clip-path=\"url(#clip130)\" style=\"stroke:#000000; stroke-width:4; stroke-opacity:1; fill:none\" points=\"\n",
       "  1105.18,1423.18 1105.18,1406.67 \n",
       "  \"/>\n",
       "<polyline clip-path=\"url(#clip130)\" style=\"stroke:#000000; stroke-width:4; stroke-opacity:1; fill:none\" points=\"\n",
       "  1539.58,1423.18 1539.58,1406.67 \n",
       "  \"/>\n",
       "<polyline clip-path=\"url(#clip130)\" style=\"stroke:#000000; stroke-width:4; stroke-opacity:1; fill:none\" points=\"\n",
       "  1973.99,1423.18 1973.99,1406.67 \n",
       "  \"/>\n",
       "<path clip-path=\"url(#clip130)\" d=\"M 0 0 M153.922 1452.37 Q150.311 1452.37 148.482 1455.94 Q146.676 1459.48 146.676 1466.61 Q146.676 1473.71 148.482 1477.28 Q150.311 1480.82 153.922 1480.82 Q157.556 1480.82 159.362 1477.28 Q161.19 1473.71 161.19 1466.61 Q161.19 1459.48 159.362 1455.94 Q157.556 1452.37 153.922 1452.37 M153.922 1448.67 Q159.732 1448.67 162.787 1453.27 Q165.866 1457.86 165.866 1466.61 Q165.866 1475.33 162.787 1479.94 Q159.732 1484.52 153.922 1484.52 Q148.112 1484.52 145.033 1479.94 Q141.977 1475.33 141.977 1466.61 Q141.977 1457.86 145.033 1453.27 Q148.112 1448.67 153.922 1448.67 Z\" fill=\"#000000\" fill-rule=\"evenodd\" fill-opacity=\"1\" /><path clip-path=\"url(#clip130)\" d=\"M 0 0 M174.084 1477.97 L178.968 1477.97 L178.968 1483.85 L174.084 1483.85 L174.084 1477.97 Z\" fill=\"#000000\" fill-rule=\"evenodd\" fill-opacity=\"1\" /><path clip-path=\"url(#clip130)\" d=\"M 0 0 M189.292 1483.13 L189.292 1478.88 Q191.051 1479.71 192.857 1480.15 Q194.662 1480.59 196.398 1480.59 Q201.028 1480.59 203.459 1477.49 Q205.912 1474.36 206.259 1468.02 Q204.917 1470.01 202.857 1471.07 Q200.797 1472.14 198.297 1472.14 Q193.111 1472.14 190.079 1469.01 Q187.07 1465.87 187.07 1460.43 Q187.07 1455.1 190.218 1451.88 Q193.366 1448.67 198.597 1448.67 Q204.593 1448.67 207.741 1453.27 Q210.912 1457.86 210.912 1466.61 Q210.912 1474.78 207.023 1479.66 Q203.158 1484.52 196.607 1484.52 Q194.847 1484.52 193.042 1484.18 Q191.236 1483.83 189.292 1483.13 M198.597 1468.48 Q201.746 1468.48 203.574 1466.33 Q205.426 1464.18 205.426 1460.43 Q205.426 1456.7 203.574 1454.55 Q201.746 1452.37 198.597 1452.37 Q195.449 1452.37 193.597 1454.55 Q191.769 1456.7 191.769 1460.43 Q191.769 1464.18 193.597 1466.33 Q195.449 1468.48 198.597 1468.48 Z\" fill=\"#000000\" fill-rule=\"evenodd\" fill-opacity=\"1\" /><path clip-path=\"url(#clip130)\" d=\"M 0 0 M219.454 1483.13 L219.454 1478.88 Q221.213 1479.71 223.019 1480.15 Q224.824 1480.59 226.56 1480.59 Q231.19 1480.59 233.62 1477.49 Q236.074 1474.36 236.421 1468.02 Q235.079 1470.01 233.019 1471.07 Q230.958 1472.14 228.458 1472.14 Q223.273 1472.14 220.241 1469.01 Q217.232 1465.87 217.232 1460.43 Q217.232 1455.1 220.38 1451.88 Q223.528 1448.67 228.759 1448.67 Q234.755 1448.67 237.903 1453.27 Q241.074 1457.86 241.074 1466.61 Q241.074 1474.78 237.185 1479.66 Q233.32 1484.52 226.769 1484.52 Q225.009 1484.52 223.204 1484.18 Q221.398 1483.83 219.454 1483.13 M228.759 1468.48 Q231.907 1468.48 233.736 1466.33 Q235.588 1464.18 235.588 1460.43 Q235.588 1456.7 233.736 1454.55 Q231.907 1452.37 228.759 1452.37 Q225.611 1452.37 223.759 1454.55 Q221.931 1456.7 221.931 1460.43 Q221.931 1464.18 223.759 1466.33 Q225.611 1468.48 228.759 1468.48 Z\" fill=\"#000000\" fill-rule=\"evenodd\" fill-opacity=\"1\" /><path clip-path=\"url(#clip130)\" d=\"M 0 0 M259.477 1467.44 Q256.143 1467.44 254.222 1469.22 Q252.324 1471 252.324 1474.13 Q252.324 1477.25 254.222 1479.04 Q256.143 1480.82 259.477 1480.82 Q262.81 1480.82 264.731 1479.04 Q266.653 1477.23 266.653 1474.13 Q266.653 1471 264.731 1469.22 Q262.833 1467.44 259.477 1467.44 M254.801 1465.45 Q251.792 1464.71 250.102 1462.65 Q248.435 1460.59 248.435 1457.63 Q248.435 1453.48 251.375 1451.07 Q254.338 1448.67 259.477 1448.67 Q264.639 1448.67 267.579 1451.07 Q270.518 1453.48 270.518 1457.63 Q270.518 1460.59 268.829 1462.65 Q267.162 1464.71 264.176 1465.45 Q267.555 1466.24 269.43 1468.53 Q271.329 1470.82 271.329 1474.13 Q271.329 1479.15 268.25 1481.84 Q265.194 1484.52 259.477 1484.52 Q253.759 1484.52 250.681 1481.84 Q247.625 1479.15 247.625 1474.13 Q247.625 1470.82 249.523 1468.53 Q251.421 1466.24 254.801 1465.45 M253.088 1458.06 Q253.088 1460.75 254.755 1462.25 Q256.444 1463.76 259.477 1463.76 Q262.486 1463.76 264.176 1462.25 Q265.889 1460.75 265.889 1458.06 Q265.889 1455.38 264.176 1453.88 Q262.486 1452.37 259.477 1452.37 Q256.444 1452.37 254.755 1453.88 Q253.088 1455.38 253.088 1458.06 Z\" fill=\"#000000\" fill-rule=\"evenodd\" fill-opacity=\"1\" /><path clip-path=\"url(#clip130)\" d=\"M 0 0 M278.458 1449.29 L300.68 1449.29 L300.68 1451.28 L288.134 1483.85 L283.25 1483.85 L295.055 1453.23 L278.458 1453.23 L278.458 1449.29 Z\" fill=\"#000000\" fill-rule=\"evenodd\" fill-opacity=\"1\" /><path clip-path=\"url(#clip130)\" d=\"M 0 0 M309.847 1449.29 L328.203 1449.29 L328.203 1453.23 L314.129 1453.23 L314.129 1461.7 Q315.148 1461.35 316.166 1461.19 Q317.185 1461 318.203 1461 Q323.99 1461 327.37 1464.18 Q330.75 1467.35 330.75 1472.76 Q330.75 1478.34 327.277 1481.44 Q323.805 1484.52 317.486 1484.52 Q315.31 1484.52 313.041 1484.15 Q310.796 1483.78 308.389 1483.04 L308.389 1478.34 Q310.472 1479.48 312.694 1480.03 Q314.916 1480.59 317.393 1480.59 Q321.398 1480.59 323.736 1478.48 Q326.074 1476.38 326.074 1472.76 Q326.074 1469.15 323.736 1467.05 Q321.398 1464.94 317.393 1464.94 Q315.518 1464.94 313.643 1465.36 Q311.791 1465.77 309.847 1466.65 L309.847 1449.29 Z\" fill=\"#000000\" fill-rule=\"evenodd\" fill-opacity=\"1\" /><path clip-path=\"url(#clip130)\" d=\"M 0 0 M587.83 1452.37 Q584.219 1452.37 582.391 1455.94 Q580.585 1459.48 580.585 1466.61 Q580.585 1473.71 582.391 1477.28 Q584.219 1480.82 587.83 1480.82 Q591.465 1480.82 593.27 1477.28 Q595.099 1473.71 595.099 1466.61 Q595.099 1459.48 593.27 1455.94 Q591.465 1452.37 587.83 1452.37 M587.83 1448.67 Q593.64 1448.67 596.696 1453.27 Q599.775 1457.86 599.775 1466.61 Q599.775 1475.33 596.696 1479.94 Q593.64 1484.52 587.83 1484.52 Q582.02 1484.52 578.941 1479.94 Q575.886 1475.33 575.886 1466.61 Q575.886 1457.86 578.941 1453.27 Q582.02 1448.67 587.83 1448.67 Z\" fill=\"#000000\" fill-rule=\"evenodd\" fill-opacity=\"1\" /><path clip-path=\"url(#clip130)\" d=\"M 0 0 M607.992 1477.97 L612.876 1477.97 L612.876 1483.85 L607.992 1483.85 L607.992 1477.97 Z\" fill=\"#000000\" fill-rule=\"evenodd\" fill-opacity=\"1\" /><path clip-path=\"url(#clip130)\" d=\"M 0 0 M623.201 1483.13 L623.201 1478.88 Q624.96 1479.71 626.765 1480.15 Q628.571 1480.59 630.307 1480.59 Q634.937 1480.59 637.367 1477.49 Q639.821 1474.36 640.168 1468.02 Q638.825 1470.01 636.765 1471.07 Q634.705 1472.14 632.205 1472.14 Q627.02 1472.14 623.988 1469.01 Q620.978 1465.87 620.978 1460.43 Q620.978 1455.1 624.126 1451.88 Q627.275 1448.67 632.506 1448.67 Q638.501 1448.67 641.649 1453.27 Q644.821 1457.86 644.821 1466.61 Q644.821 1474.78 640.932 1479.66 Q637.066 1484.52 630.515 1484.52 Q628.756 1484.52 626.95 1484.18 Q625.145 1483.83 623.201 1483.13 M632.506 1468.48 Q635.654 1468.48 637.483 1466.33 Q639.335 1464.18 639.335 1460.43 Q639.335 1456.7 637.483 1454.55 Q635.654 1452.37 632.506 1452.37 Q629.358 1452.37 627.506 1454.55 Q625.677 1456.7 625.677 1460.43 Q625.677 1464.18 627.506 1466.33 Q629.358 1468.48 632.506 1468.48 Z\" fill=\"#000000\" fill-rule=\"evenodd\" fill-opacity=\"1\" /><path clip-path=\"url(#clip130)\" d=\"M 0 0 M653.362 1483.13 L653.362 1478.88 Q655.122 1479.71 656.927 1480.15 Q658.733 1480.59 660.469 1480.59 Q665.098 1480.59 667.529 1477.49 Q669.983 1474.36 670.33 1468.02 Q668.987 1470.01 666.927 1471.07 Q664.867 1472.14 662.367 1472.14 Q657.182 1472.14 654.149 1469.01 Q651.14 1465.87 651.14 1460.43 Q651.14 1455.1 654.288 1451.88 Q657.436 1448.67 662.668 1448.67 Q668.663 1448.67 671.811 1453.27 Q674.983 1457.86 674.983 1466.61 Q674.983 1474.78 671.094 1479.66 Q667.228 1484.52 660.677 1484.52 Q658.918 1484.52 657.112 1484.18 Q655.307 1483.83 653.362 1483.13 M662.668 1468.48 Q665.816 1468.48 667.645 1466.33 Q669.497 1464.18 669.497 1460.43 Q669.497 1456.7 667.645 1454.55 Q665.816 1452.37 662.668 1452.37 Q659.52 1452.37 657.668 1454.55 Q655.839 1456.7 655.839 1460.43 Q655.839 1464.18 657.668 1466.33 Q659.52 1468.48 662.668 1468.48 Z\" fill=\"#000000\" fill-rule=\"evenodd\" fill-opacity=\"1\" /><path clip-path=\"url(#clip130)\" d=\"M 0 0 M683.524 1483.13 L683.524 1478.88 Q685.284 1479.71 687.089 1480.15 Q688.895 1480.59 690.631 1480.59 Q695.26 1480.59 697.691 1477.49 Q700.145 1474.36 700.492 1468.02 Q699.149 1470.01 697.089 1471.07 Q695.029 1472.14 692.529 1472.14 Q687.344 1472.14 684.311 1469.01 Q681.302 1465.87 681.302 1460.43 Q681.302 1455.1 684.45 1451.88 Q687.598 1448.67 692.83 1448.67 Q698.825 1448.67 701.973 1453.27 Q705.145 1457.86 705.145 1466.61 Q705.145 1474.78 701.256 1479.66 Q697.39 1484.52 690.839 1484.52 Q689.08 1484.52 687.274 1484.18 Q685.469 1483.83 683.524 1483.13 M692.83 1468.48 Q695.978 1468.48 697.807 1466.33 Q699.658 1464.18 699.658 1460.43 Q699.658 1456.7 697.807 1454.55 Q695.978 1452.37 692.83 1452.37 Q689.682 1452.37 687.83 1454.55 Q686.001 1456.7 686.001 1460.43 Q686.001 1464.18 687.83 1466.33 Q689.682 1468.48 692.83 1468.48 Z\" fill=\"#000000\" fill-rule=\"evenodd\" fill-opacity=\"1\" /><path clip-path=\"url(#clip130)\" d=\"M 0 0 M723.547 1452.37 Q719.936 1452.37 718.107 1455.94 Q716.302 1459.48 716.302 1466.61 Q716.302 1473.71 718.107 1477.28 Q719.936 1480.82 723.547 1480.82 Q727.181 1480.82 728.987 1477.28 Q730.816 1473.71 730.816 1466.61 Q730.816 1459.48 728.987 1455.94 Q727.181 1452.37 723.547 1452.37 M723.547 1448.67 Q729.357 1448.67 732.413 1453.27 Q735.492 1457.86 735.492 1466.61 Q735.492 1475.33 732.413 1479.94 Q729.357 1484.52 723.547 1484.52 Q717.737 1484.52 714.658 1479.94 Q711.603 1475.33 711.603 1466.61 Q711.603 1457.86 714.658 1453.27 Q717.737 1448.67 723.547 1448.67 Z\" fill=\"#000000\" fill-rule=\"evenodd\" fill-opacity=\"1\" /><path clip-path=\"url(#clip130)\" d=\"M 0 0 M753.709 1452.37 Q750.098 1452.37 748.269 1455.94 Q746.464 1459.48 746.464 1466.61 Q746.464 1473.71 748.269 1477.28 Q750.098 1480.82 753.709 1480.82 Q757.343 1480.82 759.149 1477.28 Q760.978 1473.71 760.978 1466.61 Q760.978 1459.48 759.149 1455.94 Q757.343 1452.37 753.709 1452.37 M753.709 1448.67 Q759.519 1448.67 762.575 1453.27 Q765.653 1457.86 765.653 1466.61 Q765.653 1475.33 762.575 1479.94 Q759.519 1484.52 753.709 1484.52 Q747.899 1484.52 744.82 1479.94 Q741.765 1475.33 741.765 1466.61 Q741.765 1457.86 744.82 1453.27 Q747.899 1448.67 753.709 1448.67 Z\" fill=\"#000000\" fill-rule=\"evenodd\" fill-opacity=\"1\" /><path clip-path=\"url(#clip130)\" d=\"M 0 0 M1022.73 1452.37 Q1019.12 1452.37 1017.29 1455.94 Q1015.49 1459.48 1015.49 1466.61 Q1015.49 1473.71 1017.29 1477.28 Q1019.12 1480.82 1022.73 1480.82 Q1026.37 1480.82 1028.17 1477.28 Q1030 1473.71 1030 1466.61 Q1030 1459.48 1028.17 1455.94 Q1026.37 1452.37 1022.73 1452.37 M1022.73 1448.67 Q1028.54 1448.67 1031.6 1453.27 Q1034.68 1457.86 1034.68 1466.61 Q1034.68 1475.33 1031.6 1479.94 Q1028.54 1484.52 1022.73 1484.52 Q1016.92 1484.52 1013.85 1479.94 Q1010.79 1475.33 1010.79 1466.61 Q1010.79 1457.86 1013.85 1453.27 Q1016.92 1448.67 1022.73 1448.67 Z\" fill=\"#000000\" fill-rule=\"evenodd\" fill-opacity=\"1\" /><path clip-path=\"url(#clip130)\" d=\"M 0 0 M1042.9 1477.97 L1047.78 1477.97 L1047.78 1483.85 L1042.9 1483.85 L1042.9 1477.97 Z\" fill=\"#000000\" fill-rule=\"evenodd\" fill-opacity=\"1\" /><path clip-path=\"url(#clip130)\" d=\"M 0 0 M1058.1 1483.13 L1058.1 1478.88 Q1059.86 1479.71 1061.67 1480.15 Q1063.47 1480.59 1065.21 1480.59 Q1069.84 1480.59 1072.27 1477.49 Q1074.72 1474.36 1075.07 1468.02 Q1073.73 1470.01 1071.67 1471.07 Q1069.61 1472.14 1067.11 1472.14 Q1061.92 1472.14 1058.89 1469.01 Q1055.88 1465.87 1055.88 1460.43 Q1055.88 1455.1 1059.03 1451.88 Q1062.18 1448.67 1067.41 1448.67 Q1073.41 1448.67 1076.55 1453.27 Q1079.72 1457.86 1079.72 1466.61 Q1079.72 1474.78 1075.84 1479.66 Q1071.97 1484.52 1065.42 1484.52 Q1063.66 1484.52 1061.85 1484.18 Q1060.05 1483.83 1058.1 1483.13 M1067.41 1468.48 Q1070.56 1468.48 1072.39 1466.33 Q1074.24 1464.18 1074.24 1460.43 Q1074.24 1456.7 1072.39 1454.55 Q1070.56 1452.37 1067.41 1452.37 Q1064.26 1452.37 1062.41 1454.55 Q1060.58 1456.7 1060.58 1460.43 Q1060.58 1464.18 1062.41 1466.33 Q1064.26 1468.48 1067.41 1468.48 Z\" fill=\"#000000\" fill-rule=\"evenodd\" fill-opacity=\"1\" /><path clip-path=\"url(#clip130)\" d=\"M 0 0 M1088.27 1483.13 L1088.27 1478.88 Q1090.03 1479.71 1091.83 1480.15 Q1093.64 1480.59 1095.37 1480.59 Q1100 1480.59 1102.43 1477.49 Q1104.89 1474.36 1105.23 1468.02 Q1103.89 1470.01 1101.83 1471.07 Q1099.77 1472.14 1097.27 1472.14 Q1092.09 1472.14 1089.05 1469.01 Q1086.04 1465.87 1086.04 1460.43 Q1086.04 1455.1 1089.19 1451.88 Q1092.34 1448.67 1097.57 1448.67 Q1103.57 1448.67 1106.72 1453.27 Q1109.89 1457.86 1109.89 1466.61 Q1109.89 1474.78 1106 1479.66 Q1102.13 1484.52 1095.58 1484.52 Q1093.82 1484.52 1092.02 1484.18 Q1090.21 1483.83 1088.27 1483.13 M1097.57 1468.48 Q1100.72 1468.48 1102.55 1466.33 Q1104.4 1464.18 1104.4 1460.43 Q1104.4 1456.7 1102.55 1454.55 Q1100.72 1452.37 1097.57 1452.37 Q1094.42 1452.37 1092.57 1454.55 Q1090.74 1456.7 1090.74 1460.43 Q1090.74 1464.18 1092.57 1466.33 Q1094.42 1468.48 1097.57 1468.48 Z\" fill=\"#000000\" fill-rule=\"evenodd\" fill-opacity=\"1\" /><path clip-path=\"url(#clip130)\" d=\"M 0 0 M1118.43 1483.13 L1118.43 1478.88 Q1120.19 1479.71 1121.99 1480.15 Q1123.8 1480.59 1125.53 1480.59 Q1130.16 1480.59 1132.59 1477.49 Q1135.05 1474.36 1135.4 1468.02 Q1134.05 1470.01 1131.99 1471.07 Q1129.93 1472.14 1127.43 1472.14 Q1122.25 1472.14 1119.22 1469.01 Q1116.21 1465.87 1116.21 1460.43 Q1116.21 1455.1 1119.35 1451.88 Q1122.5 1448.67 1127.73 1448.67 Q1133.73 1448.67 1136.88 1453.27 Q1140.05 1457.86 1140.05 1466.61 Q1140.05 1474.78 1136.16 1479.66 Q1132.29 1484.52 1125.74 1484.52 Q1123.98 1484.52 1122.18 1484.18 Q1120.37 1483.83 1118.43 1483.13 M1127.73 1468.48 Q1130.88 1468.48 1132.71 1466.33 Q1134.56 1464.18 1134.56 1460.43 Q1134.56 1456.7 1132.71 1454.55 Q1130.88 1452.37 1127.73 1452.37 Q1124.59 1452.37 1122.73 1454.55 Q1120.91 1456.7 1120.91 1460.43 Q1120.91 1464.18 1122.73 1466.33 Q1124.59 1468.48 1127.73 1468.48 Z\" fill=\"#000000\" fill-rule=\"evenodd\" fill-opacity=\"1\" /><path clip-path=\"url(#clip130)\" d=\"M 0 0 M1152.48 1479.92 L1168.8 1479.92 L1168.8 1483.85 L1146.85 1483.85 L1146.85 1479.92 Q1149.52 1477.16 1154.1 1472.53 Q1158.71 1467.88 1159.89 1466.54 Q1162.13 1464.01 1163.01 1462.28 Q1163.91 1460.52 1163.91 1458.83 Q1163.91 1456.07 1161.97 1454.34 Q1160.05 1452.6 1156.95 1452.6 Q1154.75 1452.6 1152.29 1453.37 Q1149.86 1454.13 1147.09 1455.68 L1147.09 1450.96 Q1149.91 1449.82 1152.36 1449.25 Q1154.82 1448.67 1156.85 1448.67 Q1162.22 1448.67 1165.42 1451.35 Q1168.61 1454.04 1168.61 1458.53 Q1168.61 1460.66 1167.8 1462.58 Q1167.02 1464.48 1164.91 1467.07 Q1164.33 1467.74 1161.23 1470.96 Q1158.13 1474.15 1152.48 1479.92 Z\" fill=\"#000000\" fill-rule=\"evenodd\" fill-opacity=\"1\" /><path clip-path=\"url(#clip130)\" d=\"M 0 0 M1178.66 1449.29 L1197.02 1449.29 L1197.02 1453.23 L1182.94 1453.23 L1182.94 1461.7 Q1183.96 1461.35 1184.98 1461.19 Q1186 1461 1187.02 1461 Q1192.8 1461 1196.18 1464.18 Q1199.56 1467.35 1199.56 1472.76 Q1199.56 1478.34 1196.09 1481.44 Q1192.62 1484.52 1186.3 1484.52 Q1184.12 1484.52 1181.85 1484.15 Q1179.61 1483.78 1177.2 1483.04 L1177.2 1478.34 Q1179.28 1479.48 1181.51 1480.03 Q1183.73 1480.59 1186.21 1480.59 Q1190.21 1480.59 1192.55 1478.48 Q1194.89 1476.38 1194.89 1472.76 Q1194.89 1469.15 1192.55 1467.05 Q1190.21 1464.94 1186.21 1464.94 Q1184.33 1464.94 1182.46 1465.36 Q1180.6 1465.77 1178.66 1466.65 L1178.66 1449.29 Z\" fill=\"#000000\" fill-rule=\"evenodd\" fill-opacity=\"1\" /><path clip-path=\"url(#clip130)\" d=\"M 0 0 M1456.64 1452.37 Q1453.03 1452.37 1451.2 1455.94 Q1449.4 1459.48 1449.4 1466.61 Q1449.4 1473.71 1451.2 1477.28 Q1453.03 1480.82 1456.64 1480.82 Q1460.28 1480.82 1462.08 1477.28 Q1463.91 1473.71 1463.91 1466.61 Q1463.91 1459.48 1462.08 1455.94 Q1460.28 1452.37 1456.64 1452.37 M1456.64 1448.67 Q1462.45 1448.67 1465.51 1453.27 Q1468.59 1457.86 1468.59 1466.61 Q1468.59 1475.33 1465.51 1479.94 Q1462.45 1484.52 1456.64 1484.52 Q1450.83 1484.52 1447.75 1479.94 Q1444.7 1475.33 1444.7 1466.61 Q1444.7 1457.86 1447.75 1453.27 Q1450.83 1448.67 1456.64 1448.67 Z\" fill=\"#000000\" fill-rule=\"evenodd\" fill-opacity=\"1\" /><path clip-path=\"url(#clip130)\" d=\"M 0 0 M1476.8 1477.97 L1481.69 1477.97 L1481.69 1483.85 L1476.8 1483.85 L1476.8 1477.97 Z\" fill=\"#000000\" fill-rule=\"evenodd\" fill-opacity=\"1\" /><path clip-path=\"url(#clip130)\" d=\"M 0 0 M1492.01 1483.13 L1492.01 1478.88 Q1493.77 1479.71 1495.58 1480.15 Q1497.38 1480.59 1499.12 1480.59 Q1503.75 1480.59 1506.18 1477.49 Q1508.63 1474.36 1508.98 1468.02 Q1507.64 1470.01 1505.58 1471.07 Q1503.52 1472.14 1501.02 1472.14 Q1495.83 1472.14 1492.8 1469.01 Q1489.79 1465.87 1489.79 1460.43 Q1489.79 1455.1 1492.94 1451.88 Q1496.09 1448.67 1501.32 1448.67 Q1507.31 1448.67 1510.46 1453.27 Q1513.63 1457.86 1513.63 1466.61 Q1513.63 1474.78 1509.74 1479.66 Q1505.88 1484.52 1499.33 1484.52 Q1497.57 1484.52 1495.76 1484.18 Q1493.96 1483.83 1492.01 1483.13 M1501.32 1468.48 Q1504.47 1468.48 1506.3 1466.33 Q1508.15 1464.18 1508.15 1460.43 Q1508.15 1456.7 1506.3 1454.55 Q1504.47 1452.37 1501.32 1452.37 Q1498.17 1452.37 1496.32 1454.55 Q1494.49 1456.7 1494.49 1460.43 Q1494.49 1464.18 1496.32 1466.33 Q1498.17 1468.48 1501.32 1468.48 Z\" fill=\"#000000\" fill-rule=\"evenodd\" fill-opacity=\"1\" /><path clip-path=\"url(#clip130)\" d=\"M 0 0 M1522.17 1483.13 L1522.17 1478.88 Q1523.93 1479.71 1525.74 1480.15 Q1527.55 1480.59 1529.28 1480.59 Q1533.91 1480.59 1536.34 1477.49 Q1538.8 1474.36 1539.14 1468.02 Q1537.8 1470.01 1535.74 1471.07 Q1533.68 1472.14 1531.18 1472.14 Q1525.99 1472.14 1522.96 1469.01 Q1519.95 1465.87 1519.95 1460.43 Q1519.95 1455.1 1523.1 1451.88 Q1526.25 1448.67 1531.48 1448.67 Q1537.48 1448.67 1540.62 1453.27 Q1543.8 1457.86 1543.8 1466.61 Q1543.8 1474.78 1539.91 1479.66 Q1536.04 1484.52 1529.49 1484.52 Q1527.73 1484.52 1525.92 1484.18 Q1524.12 1483.83 1522.17 1483.13 M1531.48 1468.48 Q1534.63 1468.48 1536.46 1466.33 Q1538.31 1464.18 1538.31 1460.43 Q1538.31 1456.7 1536.46 1454.55 Q1534.63 1452.37 1531.48 1452.37 Q1528.33 1452.37 1526.48 1454.55 Q1524.65 1456.7 1524.65 1460.43 Q1524.65 1464.18 1526.48 1466.33 Q1528.33 1468.48 1531.48 1468.48 Z\" fill=\"#000000\" fill-rule=\"evenodd\" fill-opacity=\"1\" /><path clip-path=\"url(#clip130)\" d=\"M 0 0 M1552.34 1483.13 L1552.34 1478.88 Q1554.1 1479.71 1555.9 1480.15 Q1557.71 1480.59 1559.44 1480.59 Q1564.07 1480.59 1566.5 1477.49 Q1568.96 1474.36 1569.3 1468.02 Q1567.96 1470.01 1565.9 1471.07 Q1563.84 1472.14 1561.34 1472.14 Q1556.16 1472.14 1553.12 1469.01 Q1550.11 1465.87 1550.11 1460.43 Q1550.11 1455.1 1553.26 1451.88 Q1556.41 1448.67 1561.64 1448.67 Q1567.64 1448.67 1570.79 1453.27 Q1573.96 1457.86 1573.96 1466.61 Q1573.96 1474.78 1570.07 1479.66 Q1566.2 1484.52 1559.65 1484.52 Q1557.89 1484.52 1556.09 1484.18 Q1554.28 1483.83 1552.34 1483.13 M1561.64 1468.48 Q1564.79 1468.48 1566.62 1466.33 Q1568.47 1464.18 1568.47 1460.43 Q1568.47 1456.7 1566.62 1454.55 Q1564.79 1452.37 1561.64 1452.37 Q1558.49 1452.37 1556.64 1454.55 Q1554.81 1456.7 1554.81 1460.43 Q1554.81 1464.18 1556.64 1466.33 Q1558.49 1468.48 1561.64 1468.48 Z\" fill=\"#000000\" fill-rule=\"evenodd\" fill-opacity=\"1\" /><path clip-path=\"url(#clip130)\" d=\"M 0 0 M1582.41 1449.29 L1600.76 1449.29 L1600.76 1453.23 L1586.69 1453.23 L1586.69 1461.7 Q1587.71 1461.35 1588.73 1461.19 Q1589.74 1461 1590.76 1461 Q1596.55 1461 1599.93 1464.18 Q1603.31 1467.35 1603.31 1472.76 Q1603.31 1478.34 1599.84 1481.44 Q1596.36 1484.52 1590.04 1484.52 Q1587.87 1484.52 1585.6 1484.15 Q1583.36 1483.78 1580.95 1483.04 L1580.95 1478.34 Q1583.03 1479.48 1585.25 1480.03 Q1587.48 1480.59 1589.95 1480.59 Q1593.96 1480.59 1596.29 1478.48 Q1598.63 1476.38 1598.63 1472.76 Q1598.63 1469.15 1596.29 1467.05 Q1593.96 1464.94 1589.95 1464.94 Q1588.08 1464.94 1586.2 1465.36 Q1584.35 1465.77 1582.41 1466.65 L1582.41 1449.29 Z\" fill=\"#000000\" fill-rule=\"evenodd\" fill-opacity=\"1\" /><path clip-path=\"url(#clip130)\" d=\"M 0 0 M1622.52 1452.37 Q1618.91 1452.37 1617.08 1455.94 Q1615.28 1459.48 1615.28 1466.61 Q1615.28 1473.71 1617.08 1477.28 Q1618.91 1480.82 1622.52 1480.82 Q1626.16 1480.82 1627.96 1477.28 Q1629.79 1473.71 1629.79 1466.61 Q1629.79 1459.48 1627.96 1455.94 Q1626.16 1452.37 1622.52 1452.37 M1622.52 1448.67 Q1628.33 1448.67 1631.39 1453.27 Q1634.47 1457.86 1634.47 1466.61 Q1634.47 1475.33 1631.39 1479.94 Q1628.33 1484.52 1622.52 1484.52 Q1616.71 1484.52 1613.63 1479.94 Q1610.58 1475.33 1610.58 1466.61 Q1610.58 1457.86 1613.63 1453.27 Q1616.71 1448.67 1622.52 1448.67 Z\" fill=\"#000000\" fill-rule=\"evenodd\" fill-opacity=\"1\" /><path clip-path=\"url(#clip130)\" d=\"M 0 0 M1891.55 1452.37 Q1887.94 1452.37 1886.11 1455.94 Q1884.3 1459.48 1884.3 1466.61 Q1884.3 1473.71 1886.11 1477.28 Q1887.94 1480.82 1891.55 1480.82 Q1895.18 1480.82 1896.99 1477.28 Q1898.82 1473.71 1898.82 1466.61 Q1898.82 1459.48 1896.99 1455.94 Q1895.18 1452.37 1891.55 1452.37 M1891.55 1448.67 Q1897.36 1448.67 1900.41 1453.27 Q1903.49 1457.86 1903.49 1466.61 Q1903.49 1475.33 1900.41 1479.94 Q1897.36 1484.52 1891.55 1484.52 Q1885.74 1484.52 1882.66 1479.94 Q1879.6 1475.33 1879.6 1466.61 Q1879.6 1457.86 1882.66 1453.27 Q1885.74 1448.67 1891.55 1448.67 Z\" fill=\"#000000\" fill-rule=\"evenodd\" fill-opacity=\"1\" /><path clip-path=\"url(#clip130)\" d=\"M 0 0 M1911.71 1477.97 L1916.59 1477.97 L1916.59 1483.85 L1911.71 1483.85 L1911.71 1477.97 Z\" fill=\"#000000\" fill-rule=\"evenodd\" fill-opacity=\"1\" /><path clip-path=\"url(#clip130)\" d=\"M 0 0 M1926.92 1483.13 L1926.92 1478.88 Q1928.68 1479.71 1930.48 1480.15 Q1932.29 1480.59 1934.02 1480.59 Q1938.65 1480.59 1941.08 1477.49 Q1943.54 1474.36 1943.88 1468.02 Q1942.54 1470.01 1940.48 1471.07 Q1938.42 1472.14 1935.92 1472.14 Q1930.74 1472.14 1927.7 1469.01 Q1924.69 1465.87 1924.69 1460.43 Q1924.69 1455.1 1927.84 1451.88 Q1930.99 1448.67 1936.22 1448.67 Q1942.22 1448.67 1945.37 1453.27 Q1948.54 1457.86 1948.54 1466.61 Q1948.54 1474.78 1944.65 1479.66 Q1940.78 1484.52 1934.23 1484.52 Q1932.47 1484.52 1930.67 1484.18 Q1928.86 1483.83 1926.92 1483.13 M1936.22 1468.48 Q1939.37 1468.48 1941.2 1466.33 Q1943.05 1464.18 1943.05 1460.43 Q1943.05 1456.7 1941.2 1454.55 Q1939.37 1452.37 1936.22 1452.37 Q1933.07 1452.37 1931.22 1454.55 Q1929.39 1456.7 1929.39 1460.43 Q1929.39 1464.18 1931.22 1466.33 Q1933.07 1468.48 1936.22 1468.48 Z\" fill=\"#000000\" fill-rule=\"evenodd\" fill-opacity=\"1\" /><path clip-path=\"url(#clip130)\" d=\"M 0 0 M1957.08 1483.13 L1957.08 1478.88 Q1958.84 1479.71 1960.64 1480.15 Q1962.45 1480.59 1964.19 1480.59 Q1968.81 1480.59 1971.25 1477.49 Q1973.7 1474.36 1974.05 1468.02 Q1972.7 1470.01 1970.64 1471.07 Q1968.58 1472.14 1966.08 1472.14 Q1960.9 1472.14 1957.87 1469.01 Q1954.86 1465.87 1954.86 1460.43 Q1954.86 1455.1 1958 1451.88 Q1961.15 1448.67 1966.38 1448.67 Q1972.38 1448.67 1975.53 1453.27 Q1978.7 1457.86 1978.7 1466.61 Q1978.7 1474.78 1974.81 1479.66 Q1970.94 1484.52 1964.39 1484.52 Q1962.63 1484.52 1960.83 1484.18 Q1959.02 1483.83 1957.08 1483.13 M1966.38 1468.48 Q1969.53 1468.48 1971.36 1466.33 Q1973.21 1464.18 1973.21 1460.43 Q1973.21 1456.7 1971.36 1454.55 Q1969.53 1452.37 1966.38 1452.37 Q1963.24 1452.37 1961.38 1454.55 Q1959.56 1456.7 1959.56 1460.43 Q1959.56 1464.18 1961.38 1466.33 Q1963.24 1468.48 1966.38 1468.48 Z\" fill=\"#000000\" fill-rule=\"evenodd\" fill-opacity=\"1\" /><path clip-path=\"url(#clip130)\" d=\"M 0 0 M1987.24 1483.13 L1987.24 1478.88 Q1989 1479.71 1990.81 1480.15 Q1992.61 1480.59 1994.35 1480.59 Q1998.98 1480.59 2001.41 1477.49 Q2003.86 1474.36 2004.21 1468.02 Q2002.87 1470.01 2000.81 1471.07 Q1998.75 1472.14 1996.25 1472.14 Q1991.06 1472.14 1988.03 1469.01 Q1985.02 1465.87 1985.02 1460.43 Q1985.02 1455.1 1988.17 1451.88 Q1991.31 1448.67 1996.55 1448.67 Q2002.54 1448.67 2005.69 1453.27 Q2008.86 1457.86 2008.86 1466.61 Q2008.86 1474.78 2004.97 1479.66 Q2001.11 1484.52 1994.56 1484.52 Q1992.8 1484.52 1990.99 1484.18 Q1989.19 1483.83 1987.24 1483.13 M1996.55 1468.48 Q1999.69 1468.48 2001.52 1466.33 Q2003.37 1464.18 2003.37 1460.43 Q2003.37 1456.7 2001.52 1454.55 Q1999.69 1452.37 1996.55 1452.37 Q1993.4 1452.37 1991.55 1454.55 Q1989.72 1456.7 1989.72 1460.43 Q1989.72 1464.18 1991.55 1466.33 Q1993.4 1468.48 1996.55 1468.48 Z\" fill=\"#000000\" fill-rule=\"evenodd\" fill-opacity=\"1\" /><path clip-path=\"url(#clip130)\" d=\"M 0 0 M2016.08 1449.29 L2038.31 1449.29 L2038.31 1451.28 L2025.76 1483.85 L2020.87 1483.85 L2032.68 1453.23 L2016.08 1453.23 L2016.08 1449.29 Z\" fill=\"#000000\" fill-rule=\"evenodd\" fill-opacity=\"1\" /><path clip-path=\"url(#clip130)\" d=\"M 0 0 M2047.47 1449.29 L2065.83 1449.29 L2065.83 1453.23 L2051.75 1453.23 L2051.75 1461.7 Q2052.77 1461.35 2053.79 1461.19 Q2054.81 1461 2055.83 1461 Q2061.62 1461 2064.99 1464.18 Q2068.37 1467.35 2068.37 1472.76 Q2068.37 1478.34 2064.9 1481.44 Q2061.43 1484.52 2055.11 1484.52 Q2052.93 1484.52 2050.67 1484.15 Q2048.42 1483.78 2046.01 1483.04 L2046.01 1478.34 Q2048.1 1479.48 2050.32 1480.03 Q2052.54 1480.59 2055.02 1480.59 Q2059.02 1480.59 2061.36 1478.48 Q2063.7 1476.38 2063.7 1472.76 Q2063.7 1469.15 2061.36 1467.05 Q2059.02 1464.94 2055.02 1464.94 Q2053.14 1464.94 2051.27 1465.36 Q2049.42 1465.77 2047.47 1466.65 L2047.47 1449.29 Z\" fill=\"#000000\" fill-rule=\"evenodd\" fill-opacity=\"1\" /><path clip-path=\"url(#clip130)\" d=\"M 0 0 M887.416 1562.7 L887.416 1581.6 L881.527 1581.6 L881.527 1532.4 L887.416 1532.4 L887.416 1537.81 Q889.262 1534.62 892.063 1533.1 Q894.895 1531.54 898.81 1531.54 Q905.303 1531.54 909.346 1536.69 Q913.42 1541.85 913.42 1550.25 Q913.42 1558.65 909.346 1563.81 Q905.303 1568.97 898.81 1568.97 Q894.895 1568.97 892.063 1567.44 Q889.262 1565.88 887.416 1562.7 M907.34 1550.25 Q907.34 1543.79 904.667 1540.13 Q902.025 1536.44 897.378 1536.44 Q892.731 1536.44 890.057 1540.13 Q887.416 1543.79 887.416 1550.25 Q887.416 1556.71 890.057 1560.4 Q892.731 1564.07 897.378 1564.07 Q902.025 1564.07 904.667 1560.4 Q907.34 1556.71 907.34 1550.25 Z\" fill=\"#000000\" fill-rule=\"evenodd\" fill-opacity=\"1\" /><path clip-path=\"url(#clip130)\" d=\"M 0 0 M953.619 1548.76 L953.619 1551.62 L926.692 1551.62 Q927.074 1557.67 930.321 1560.85 Q933.599 1564 939.423 1564 Q942.797 1564 945.948 1563.17 Q949.131 1562.35 952.25 1560.69 L952.25 1566.23 Q949.099 1567.57 945.789 1568.27 Q942.479 1568.97 939.073 1568.97 Q930.543 1568.97 925.546 1564 Q920.581 1559.04 920.581 1550.57 Q920.581 1541.82 925.292 1536.69 Q930.034 1531.54 938.055 1531.54 Q945.248 1531.54 949.418 1536.18 Q953.619 1540.8 953.619 1548.76 M947.763 1547.04 Q947.699 1542.23 945.057 1539.37 Q942.447 1536.5 938.119 1536.5 Q933.217 1536.5 930.257 1539.27 Q927.329 1542.04 926.883 1547.07 L947.763 1547.04 Z\" fill=\"#000000\" fill-rule=\"evenodd\" fill-opacity=\"1\" /><path clip-path=\"url(#clip130)\" d=\"M 0 0 M983.888 1537.87 Q982.901 1537.3 981.724 1537.04 Q980.578 1536.76 979.177 1536.76 Q974.212 1536.76 971.538 1540 Q968.897 1543.22 968.897 1549.27 L968.897 1568.04 L963.008 1568.04 L963.008 1532.4 L968.897 1532.4 L968.897 1537.93 Q970.743 1534.69 973.703 1533.13 Q976.663 1531.54 980.896 1531.54 Q981.501 1531.54 982.233 1531.63 Q982.965 1531.7 983.856 1531.85 L983.888 1537.87 Z\" fill=\"#000000\" fill-rule=\"evenodd\" fill-opacity=\"1\" /><path clip-path=\"url(#clip130)\" d=\"M 0 0 M982.901 1547.58 L1000.06 1547.58 L1000.06 1552.8 L982.901 1552.8 L982.901 1547.58 Z\" fill=\"#000000\" fill-rule=\"evenodd\" fill-opacity=\"1\" /><path clip-path=\"url(#clip130)\" d=\"M 0 0 M1032.11 1533.45 L1032.11 1538.98 Q1029.63 1537.71 1026.95 1537.07 Q1024.28 1536.44 1021.41 1536.44 Q1017.05 1536.44 1014.86 1537.77 Q1012.69 1539.11 1012.69 1541.79 Q1012.69 1543.82 1014.25 1545 Q1015.81 1546.15 1020.52 1547.2 L1022.53 1547.64 Q1028.77 1548.98 1031.38 1551.43 Q1034.02 1553.85 1034.02 1558.21 Q1034.02 1563.17 1030.07 1566.07 Q1026.16 1568.97 1019.28 1568.97 Q1016.42 1568.97 1013.3 1568.39 Q1010.21 1567.85 1006.77 1566.74 L1006.77 1560.69 Q1010.02 1562.38 1013.17 1563.24 Q1016.32 1564.07 1019.41 1564.07 Q1023.55 1564.07 1025.77 1562.66 Q1028 1561.23 1028 1558.65 Q1028 1556.27 1026.38 1554.99 Q1024.79 1553.72 1019.34 1552.54 L1017.31 1552.07 Q1011.87 1550.92 1009.45 1548.56 Q1007.03 1546.18 1007.03 1542.04 Q1007.03 1537.01 1010.59 1534.27 Q1014.16 1531.54 1020.71 1531.54 Q1023.96 1531.54 1026.82 1532.01 Q1029.69 1532.49 1032.11 1533.45 Z\" fill=\"#000000\" fill-rule=\"evenodd\" fill-opacity=\"1\" /><path clip-path=\"url(#clip130)\" d=\"M 0 0 M1059.54 1550.12 Q1052.45 1550.12 1049.71 1551.75 Q1046.97 1553.37 1046.97 1557.29 Q1046.97 1560.4 1049.01 1562.25 Q1051.08 1564.07 1054.61 1564.07 Q1059.48 1564.07 1062.41 1560.63 Q1065.37 1557.16 1065.37 1551.43 L1065.37 1550.12 L1059.54 1550.12 M1071.23 1547.71 L1071.23 1568.04 L1065.37 1568.04 L1065.37 1562.63 Q1063.36 1565.88 1060.37 1567.44 Q1057.38 1568.97 1053.05 1568.97 Q1047.58 1568.97 1044.33 1565.91 Q1041.12 1562.82 1041.12 1557.67 Q1041.12 1551.65 1045.13 1548.6 Q1049.17 1545.54 1057.16 1545.54 L1065.37 1545.54 L1065.37 1544.97 Q1065.37 1540.93 1062.7 1538.73 Q1060.05 1536.5 1055.25 1536.5 Q1052.19 1536.5 1049.3 1537.23 Q1046.4 1537.97 1043.73 1539.43 L1043.73 1534.02 Q1046.94 1532.78 1049.96 1532.17 Q1052.99 1531.54 1055.85 1531.54 Q1063.59 1531.54 1067.41 1535.55 Q1071.23 1539.56 1071.23 1547.71 Z\" fill=\"#000000\" fill-rule=\"evenodd\" fill-opacity=\"1\" /><path clip-path=\"url(#clip130)\" d=\"M 0 0 M1111.04 1539.24 Q1113.24 1535.29 1116.29 1533.41 Q1119.35 1531.54 1123.49 1531.54 Q1129.06 1531.54 1132.08 1535.45 Q1135.11 1539.33 1135.11 1546.53 L1135.11 1568.04 L1129.22 1568.04 L1129.22 1546.72 Q1129.22 1541.59 1127.4 1539.11 Q1125.59 1536.63 1121.86 1536.63 Q1117.31 1536.63 1114.67 1539.65 Q1112.03 1542.68 1112.03 1547.9 L1112.03 1568.04 L1106.14 1568.04 L1106.14 1546.72 Q1106.14 1541.56 1104.33 1539.11 Q1102.51 1536.63 1098.73 1536.63 Q1094.24 1536.63 1091.6 1539.68 Q1088.95 1542.71 1088.95 1547.9 L1088.95 1568.04 L1083.07 1568.04 L1083.07 1532.4 L1088.95 1532.4 L1088.95 1537.93 Q1090.96 1534.66 1093.76 1533.1 Q1096.56 1531.54 1100.41 1531.54 Q1104.3 1531.54 1107 1533.51 Q1109.74 1535.48 1111.04 1539.24 Z\" fill=\"#000000\" fill-rule=\"evenodd\" fill-opacity=\"1\" /><path clip-path=\"url(#clip130)\" d=\"M 0 0 M1152.45 1562.7 L1152.45 1581.6 L1146.56 1581.6 L1146.56 1532.4 L1152.45 1532.4 L1152.45 1537.81 Q1154.3 1534.62 1157.1 1533.1 Q1159.93 1531.54 1163.85 1531.54 Q1170.34 1531.54 1174.38 1536.69 Q1178.46 1541.85 1178.46 1550.25 Q1178.46 1558.65 1174.38 1563.81 Q1170.34 1568.97 1163.85 1568.97 Q1159.93 1568.97 1157.1 1567.44 Q1154.3 1565.88 1152.45 1562.7 M1172.38 1550.25 Q1172.38 1543.79 1169.7 1540.13 Q1167.06 1536.44 1162.41 1536.44 Q1157.77 1536.44 1155.09 1540.13 Q1152.45 1543.79 1152.45 1550.25 Q1152.45 1556.71 1155.09 1560.4 Q1157.77 1564.07 1162.41 1564.07 Q1167.06 1564.07 1169.7 1560.4 Q1172.38 1556.71 1172.38 1550.25 Z\" fill=\"#000000\" fill-rule=\"evenodd\" fill-opacity=\"1\" /><path clip-path=\"url(#clip130)\" d=\"M 0 0 M1188.16 1518.52 L1194.02 1518.52 L1194.02 1568.04 L1188.16 1568.04 L1188.16 1518.52 Z\" fill=\"#000000\" fill-rule=\"evenodd\" fill-opacity=\"1\" /><path clip-path=\"url(#clip130)\" d=\"M 0 0 M1236.77 1548.76 L1236.77 1551.62 L1209.84 1551.62 Q1210.22 1557.67 1213.47 1560.85 Q1216.75 1564 1222.57 1564 Q1225.94 1564 1229.09 1563.17 Q1232.28 1562.35 1235.4 1560.69 L1235.4 1566.23 Q1232.25 1567.57 1228.94 1568.27 Q1225.63 1568.97 1222.22 1568.97 Q1213.69 1568.97 1208.69 1564 Q1203.73 1559.04 1203.73 1550.57 Q1203.73 1541.82 1208.44 1536.69 Q1213.18 1531.54 1221.2 1531.54 Q1228.39 1531.54 1232.56 1536.18 Q1236.77 1540.8 1236.77 1548.76 M1230.91 1547.04 Q1230.85 1542.23 1228.2 1539.37 Q1225.59 1536.5 1221.27 1536.5 Q1216.36 1536.5 1213.4 1539.27 Q1210.48 1542.04 1210.03 1547.07 L1230.91 1547.04 Z\" fill=\"#000000\" fill-rule=\"evenodd\" fill-opacity=\"1\" /><path clip-path=\"url(#clip130)\" d=\"M 0 0 M1270.6 1550.25 Q1270.6 1556.71 1273.24 1560.4 Q1275.91 1564.07 1280.56 1564.07 Q1285.21 1564.07 1287.88 1560.4 Q1290.56 1556.71 1290.56 1550.25 Q1290.56 1543.79 1287.88 1540.13 Q1285.21 1536.44 1280.56 1536.44 Q1275.91 1536.44 1273.24 1540.13 Q1270.6 1543.79 1270.6 1550.25 M1290.56 1562.7 Q1288.71 1565.88 1285.88 1567.44 Q1283.08 1568.97 1279.13 1568.97 Q1272.67 1568.97 1268.59 1563.81 Q1264.55 1558.65 1264.55 1550.25 Q1264.55 1541.85 1268.59 1536.69 Q1272.67 1531.54 1279.13 1531.54 Q1283.08 1531.54 1285.88 1533.1 Q1288.71 1534.62 1290.56 1537.81 L1290.56 1532.4 L1296.41 1532.4 L1296.41 1581.6 L1290.56 1581.6 L1290.56 1562.7 Z\" fill=\"#000000\" fill-rule=\"evenodd\" fill-opacity=\"1\" /><path clip-path=\"url(#clip130)\" d=\"M 0 0 M1307.87 1553.98 L1307.87 1532.4 L1313.73 1532.4 L1313.73 1553.75 Q1313.73 1558.81 1315.7 1561.36 Q1317.67 1563.87 1321.62 1563.87 Q1326.36 1563.87 1329.1 1560.85 Q1331.87 1557.83 1331.87 1552.61 L1331.87 1532.4 L1337.73 1532.4 L1337.73 1568.04 L1331.87 1568.04 L1331.87 1562.57 Q1329.74 1565.82 1326.9 1567.41 Q1324.1 1568.97 1320.38 1568.97 Q1314.24 1568.97 1311.05 1565.15 Q1307.87 1561.33 1307.87 1553.98 M1322.61 1531.54 L1322.61 1531.54 Z\" fill=\"#000000\" fill-rule=\"evenodd\" fill-opacity=\"1\" /><path clip-path=\"url(#clip130)\" d=\"M 0 0 M1365.99 1550.12 Q1358.89 1550.12 1356.15 1551.75 Q1353.42 1553.37 1353.42 1557.29 Q1353.42 1560.4 1355.45 1562.25 Q1357.52 1564.07 1361.06 1564.07 Q1365.93 1564.07 1368.85 1560.63 Q1371.81 1557.16 1371.81 1551.43 L1371.81 1550.12 L1365.99 1550.12 M1377.67 1547.71 L1377.67 1568.04 L1371.81 1568.04 L1371.81 1562.63 Q1369.81 1565.88 1366.82 1567.44 Q1363.83 1568.97 1359.5 1568.97 Q1354.02 1568.97 1350.78 1565.91 Q1347.56 1562.82 1347.56 1557.67 Q1347.56 1551.65 1351.57 1548.6 Q1355.61 1545.54 1363.6 1545.54 L1371.81 1545.54 L1371.81 1544.97 Q1371.81 1540.93 1369.14 1538.73 Q1366.5 1536.5 1361.69 1536.5 Q1358.64 1536.5 1355.74 1537.23 Q1352.84 1537.97 1350.17 1539.43 L1350.17 1534.02 Q1353.39 1532.78 1356.41 1532.17 Q1359.43 1531.54 1362.3 1531.54 Q1370.03 1531.54 1373.85 1535.55 Q1377.67 1539.56 1377.67 1547.71 Z\" fill=\"#000000\" fill-rule=\"evenodd\" fill-opacity=\"1\" /><path clip-path=\"url(#clip130)\" d=\"M 0 0 M1389.73 1518.52 L1395.59 1518.52 L1395.59 1568.04 L1389.73 1568.04 L1389.73 1518.52 Z\" fill=\"#000000\" fill-rule=\"evenodd\" fill-opacity=\"1\" /><path clip-path=\"url(#clip130)\" d=\"M 0 0 M1407.84 1532.4 L1413.7 1532.4 L1413.7 1568.04 L1407.84 1568.04 L1407.84 1532.4 M1407.84 1518.52 L1413.7 1518.52 L1413.7 1525.93 L1407.84 1525.93 L1407.84 1518.52 Z\" fill=\"#000000\" fill-rule=\"evenodd\" fill-opacity=\"1\" /><path clip-path=\"url(#clip130)\" d=\"M 0 0 M1431.75 1522.27 L1431.75 1532.4 L1443.81 1532.4 L1443.81 1536.95 L1431.75 1536.95 L1431.75 1556.3 Q1431.75 1560.66 1432.92 1561.9 Q1434.13 1563.14 1437.79 1563.14 L1443.81 1563.14 L1443.81 1568.04 L1437.79 1568.04 Q1431.02 1568.04 1428.44 1565.53 Q1425.86 1562.98 1425.86 1556.3 L1425.86 1536.95 L1421.56 1536.95 L1421.56 1532.4 L1425.86 1532.4 L1425.86 1522.27 L1431.75 1522.27 Z\" fill=\"#000000\" fill-rule=\"evenodd\" fill-opacity=\"1\" /><path clip-path=\"url(#clip130)\" d=\"M 0 0 M1466.34 1571.35 Q1463.86 1577.72 1461.51 1579.66 Q1459.15 1581.6 1455.2 1581.6 L1450.53 1581.6 L1450.53 1576.7 L1453.96 1576.7 Q1456.38 1576.7 1457.72 1575.56 Q1459.06 1574.41 1460.68 1570.14 L1461.73 1567.47 L1447.31 1532.4 L1453.52 1532.4 L1464.66 1560.28 L1475.8 1532.4 L1482 1532.4 L1466.34 1571.35 Z\" fill=\"#000000\" fill-rule=\"evenodd\" fill-opacity=\"1\" /><path clip-path=\"url(#clip130)\" d=\"M 0 0 M1533.53 1533.45 L1533.53 1538.98 Q1531.05 1537.71 1528.38 1537.07 Q1525.71 1536.44 1522.84 1536.44 Q1518.48 1536.44 1516.28 1537.77 Q1514.12 1539.11 1514.12 1541.79 Q1514.12 1543.82 1515.68 1545 Q1517.24 1546.15 1521.95 1547.2 L1523.95 1547.64 Q1530.19 1548.98 1532.8 1551.43 Q1535.44 1553.85 1535.44 1558.21 Q1535.44 1563.17 1531.5 1566.07 Q1527.58 1568.97 1520.71 1568.97 Q1517.84 1568.97 1514.72 1568.39 Q1511.64 1567.85 1508.2 1566.74 L1508.2 1560.69 Q1511.45 1562.38 1514.6 1563.24 Q1517.75 1564.07 1520.84 1564.07 Q1524.97 1564.07 1527.2 1562.66 Q1529.43 1561.23 1529.43 1558.65 Q1529.43 1556.27 1527.81 1554.99 Q1526.21 1553.72 1520.77 1552.54 L1518.73 1552.07 Q1513.29 1550.92 1510.87 1548.56 Q1508.45 1546.18 1508.45 1542.04 Q1508.45 1537.01 1512.02 1534.27 Q1515.58 1531.54 1522.14 1531.54 Q1525.39 1531.54 1528.25 1532.01 Q1531.12 1532.49 1533.53 1533.45 Z\" fill=\"#000000\" fill-rule=\"evenodd\" fill-opacity=\"1\" /><path clip-path=\"url(#clip130)\" d=\"M 0 0 M1570.42 1533.76 L1570.42 1539.24 Q1567.94 1537.87 1565.43 1537.2 Q1562.94 1536.5 1560.4 1536.5 Q1554.7 1536.5 1551.55 1540.13 Q1548.4 1543.73 1548.4 1550.25 Q1548.4 1556.78 1551.55 1560.4 Q1554.7 1564 1560.4 1564 Q1562.94 1564 1565.43 1563.33 Q1567.94 1562.63 1570.42 1561.26 L1570.42 1566.68 Q1567.97 1567.82 1565.33 1568.39 Q1562.72 1568.97 1559.76 1568.97 Q1551.71 1568.97 1546.97 1563.91 Q1542.22 1558.85 1542.22 1550.25 Q1542.22 1541.53 1547 1536.53 Q1551.8 1531.54 1560.14 1531.54 Q1562.85 1531.54 1565.43 1532.11 Q1568.01 1532.65 1570.42 1533.76 Z\" fill=\"#000000\" fill-rule=\"evenodd\" fill-opacity=\"1\" /><path clip-path=\"url(#clip130)\" d=\"M 0 0 M1594.42 1536.5 Q1589.71 1536.5 1586.97 1540.19 Q1584.24 1543.85 1584.24 1550.25 Q1584.24 1556.65 1586.94 1560.34 Q1589.68 1564 1594.42 1564 Q1599.1 1564 1601.84 1560.31 Q1604.58 1556.62 1604.58 1550.25 Q1604.58 1543.92 1601.84 1540.23 Q1599.1 1536.5 1594.42 1536.5 M1594.42 1531.54 Q1602.06 1531.54 1606.42 1536.5 Q1610.78 1541.47 1610.78 1550.25 Q1610.78 1559 1606.42 1564 Q1602.06 1568.97 1594.42 1568.97 Q1586.75 1568.97 1582.39 1564 Q1578.06 1559 1578.06 1550.25 Q1578.06 1541.47 1582.39 1536.5 Q1586.75 1531.54 1594.42 1531.54 Z\" fill=\"#000000\" fill-rule=\"evenodd\" fill-opacity=\"1\" /><path clip-path=\"url(#clip130)\" d=\"M 0 0 M1641.15 1537.87 Q1640.16 1537.3 1638.98 1537.04 Q1637.84 1536.76 1636.44 1536.76 Q1631.47 1536.76 1628.8 1540 Q1626.16 1543.22 1626.16 1549.27 L1626.16 1568.04 L1620.27 1568.04 L1620.27 1532.4 L1626.16 1532.4 L1626.16 1537.93 Q1628 1534.69 1630.96 1533.13 Q1633.92 1531.54 1638.16 1531.54 Q1638.76 1531.54 1639.49 1531.63 Q1640.22 1531.7 1641.12 1531.85 L1641.15 1537.87 Z\" fill=\"#000000\" fill-rule=\"evenodd\" fill-opacity=\"1\" /><path clip-path=\"url(#clip130)\" d=\"M 0 0 M1676.35 1548.76 L1676.35 1551.62 L1649.42 1551.62 Q1649.8 1557.67 1653.05 1560.85 Q1656.33 1564 1662.15 1564 Q1665.53 1564 1668.68 1563.17 Q1671.86 1562.35 1674.98 1560.69 L1674.98 1566.23 Q1671.83 1567.57 1668.52 1568.27 Q1665.21 1568.97 1661.8 1568.97 Q1653.27 1568.97 1648.28 1564 Q1643.31 1559.04 1643.31 1550.57 Q1643.31 1541.82 1648.02 1536.69 Q1652.76 1531.54 1660.79 1531.54 Q1667.98 1531.54 1672.15 1536.18 Q1676.35 1540.8 1676.35 1548.76 M1670.49 1547.04 Q1670.43 1542.23 1667.79 1539.37 Q1665.18 1536.5 1660.85 1536.5 Q1655.95 1536.5 1652.99 1539.27 Q1650.06 1542.04 1649.61 1547.07 L1670.49 1547.04 Z\" fill=\"#000000\" fill-rule=\"evenodd\" fill-opacity=\"1\" /><polyline clip-path=\"url(#clip132)\" style=\"stroke:#000000; stroke-width:2; stroke-opacity:0.1; fill:none\" points=\"\n",
       "  205.121,1384.24 2352.76,1384.24 \n",
       "  \"/>\n",
       "<polyline clip-path=\"url(#clip132)\" style=\"stroke:#000000; stroke-width:2; stroke-opacity:0.1; fill:none\" points=\"\n",
       "  205.121,1051.4 2352.76,1051.4 \n",
       "  \"/>\n",
       "<polyline clip-path=\"url(#clip132)\" style=\"stroke:#000000; stroke-width:2; stroke-opacity:0.1; fill:none\" points=\"\n",
       "  205.121,718.57 2352.76,718.57 \n",
       "  \"/>\n",
       "<polyline clip-path=\"url(#clip132)\" style=\"stroke:#000000; stroke-width:2; stroke-opacity:0.1; fill:none\" points=\"\n",
       "  205.121,385.736 2352.76,385.736 \n",
       "  \"/>\n",
       "<polyline clip-path=\"url(#clip132)\" style=\"stroke:#000000; stroke-width:2; stroke-opacity:0.1; fill:none\" points=\"\n",
       "  205.121,52.9023 2352.76,52.9023 \n",
       "  \"/>\n",
       "<polyline clip-path=\"url(#clip130)\" style=\"stroke:#000000; stroke-width:4; stroke-opacity:1; fill:none\" points=\"\n",
       "  205.121,1423.18 205.121,47.2441 \n",
       "  \"/>\n",
       "<polyline clip-path=\"url(#clip130)\" style=\"stroke:#000000; stroke-width:4; stroke-opacity:1; fill:none\" points=\"\n",
       "  205.121,1384.24 230.893,1384.24 \n",
       "  \"/>\n",
       "<polyline clip-path=\"url(#clip130)\" style=\"stroke:#000000; stroke-width:4; stroke-opacity:1; fill:none\" points=\"\n",
       "  205.121,1051.4 230.893,1051.4 \n",
       "  \"/>\n",
       "<polyline clip-path=\"url(#clip130)\" style=\"stroke:#000000; stroke-width:4; stroke-opacity:1; fill:none\" points=\"\n",
       "  205.121,718.57 230.893,718.57 \n",
       "  \"/>\n",
       "<polyline clip-path=\"url(#clip130)\" style=\"stroke:#000000; stroke-width:4; stroke-opacity:1; fill:none\" points=\"\n",
       "  205.121,385.736 230.893,385.736 \n",
       "  \"/>\n",
       "<polyline clip-path=\"url(#clip130)\" style=\"stroke:#000000; stroke-width:4; stroke-opacity:1; fill:none\" points=\"\n",
       "  205.121,52.9023 230.893,52.9023 \n",
       "  \"/>\n",
       "<path clip-path=\"url(#clip130)\" d=\"M 0 0 M157.177 1370.04 Q153.566 1370.04 151.737 1373.6 Q149.931 1377.14 149.931 1384.27 Q149.931 1391.38 151.737 1394.94 Q153.566 1398.49 157.177 1398.49 Q160.811 1398.49 162.616 1394.94 Q164.445 1391.38 164.445 1384.27 Q164.445 1377.14 162.616 1373.6 Q160.811 1370.04 157.177 1370.04 M157.177 1366.33 Q162.987 1366.33 166.042 1370.94 Q169.121 1375.52 169.121 1384.27 Q169.121 1393 166.042 1397.61 Q162.987 1402.19 157.177 1402.19 Q151.366 1402.19 148.288 1397.61 Q145.232 1393 145.232 1384.27 Q145.232 1375.52 148.288 1370.94 Q151.366 1366.33 157.177 1366.33 Z\" fill=\"#000000\" fill-rule=\"evenodd\" fill-opacity=\"1\" /><path clip-path=\"url(#clip130)\" d=\"M 0 0 M117.825 1064.75 L125.464 1064.75 L125.464 1038.38 L117.154 1040.05 L117.154 1035.79 L125.418 1034.12 L130.093 1034.12 L130.093 1064.75 L137.732 1064.75 L137.732 1068.68 L117.825 1068.68 L117.825 1064.75 Z\" fill=\"#000000\" fill-rule=\"evenodd\" fill-opacity=\"1\" /><path clip-path=\"url(#clip130)\" d=\"M 0 0 M157.177 1037.2 Q153.566 1037.2 151.737 1040.77 Q149.931 1044.31 149.931 1051.44 Q149.931 1058.55 151.737 1062.11 Q153.566 1065.65 157.177 1065.65 Q160.811 1065.65 162.616 1062.11 Q164.445 1058.55 164.445 1051.44 Q164.445 1044.31 162.616 1040.77 Q160.811 1037.2 157.177 1037.2 M157.177 1033.5 Q162.987 1033.5 166.042 1038.11 Q169.121 1042.69 169.121 1051.44 Q169.121 1060.17 166.042 1064.77 Q162.987 1069.36 157.177 1069.36 Q151.366 1069.36 148.288 1064.77 Q145.232 1060.17 145.232 1051.44 Q145.232 1042.69 148.288 1038.11 Q151.366 1033.5 157.177 1033.5 Z\" fill=\"#000000\" fill-rule=\"evenodd\" fill-opacity=\"1\" /><path clip-path=\"url(#clip130)\" d=\"M 0 0 M121.043 731.915 L137.362 731.915 L137.362 735.85 L115.418 735.85 L115.418 731.915 Q118.08 729.16 122.663 724.531 Q127.269 719.878 128.45 718.536 Q130.695 716.012 131.575 714.276 Q132.478 712.517 132.478 710.827 Q132.478 708.073 130.533 706.337 Q128.612 704.6 125.51 704.6 Q123.311 704.6 120.857 705.364 Q118.427 706.128 115.649 707.679 L115.649 702.957 Q118.473 701.823 120.927 701.244 Q123.38 700.665 125.418 700.665 Q130.788 700.665 133.982 703.35 Q137.177 706.036 137.177 710.526 Q137.177 712.656 136.367 714.577 Q135.579 716.475 133.473 719.068 Q132.894 719.739 129.792 722.957 Q126.691 726.151 121.043 731.915 Z\" fill=\"#000000\" fill-rule=\"evenodd\" fill-opacity=\"1\" /><path clip-path=\"url(#clip130)\" d=\"M 0 0 M157.177 704.369 Q153.566 704.369 151.737 707.934 Q149.931 711.475 149.931 718.605 Q149.931 725.711 151.737 729.276 Q153.566 732.818 157.177 732.818 Q160.811 732.818 162.616 729.276 Q164.445 725.711 164.445 718.605 Q164.445 711.475 162.616 707.934 Q160.811 704.369 157.177 704.369 M157.177 700.665 Q162.987 700.665 166.042 705.272 Q169.121 709.855 169.121 718.605 Q169.121 727.332 166.042 731.938 Q162.987 736.522 157.177 736.522 Q151.366 736.522 148.288 731.938 Q145.232 727.332 145.232 718.605 Q145.232 709.855 148.288 705.272 Q151.366 700.665 157.177 700.665 Z\" fill=\"#000000\" fill-rule=\"evenodd\" fill-opacity=\"1\" /><path clip-path=\"url(#clip130)\" d=\"M 0 0 M131.181 384.382 Q134.538 385.1 136.413 387.368 Q138.311 389.637 138.311 392.97 Q138.311 398.086 134.792 400.887 Q131.274 403.688 124.793 403.688 Q122.617 403.688 120.302 403.248 Q118.01 402.831 115.556 401.975 L115.556 397.461 Q117.501 398.595 119.816 399.174 Q122.13 399.752 124.654 399.752 Q129.052 399.752 131.343 398.016 Q133.658 396.28 133.658 392.97 Q133.658 389.914 131.505 388.202 Q129.376 386.465 125.556 386.465 L121.529 386.465 L121.529 382.623 L125.742 382.623 Q129.191 382.623 131.019 381.257 Q132.848 379.868 132.848 377.276 Q132.848 374.614 130.95 373.202 Q129.075 371.766 125.556 371.766 Q123.635 371.766 121.436 372.183 Q119.237 372.6 116.598 373.479 L116.598 369.313 Q119.26 368.572 121.575 368.202 Q123.913 367.831 125.973 367.831 Q131.297 367.831 134.399 370.262 Q137.501 372.669 137.501 376.79 Q137.501 379.66 135.857 381.651 Q134.214 383.618 131.181 384.382 Z\" fill=\"#000000\" fill-rule=\"evenodd\" fill-opacity=\"1\" /><path clip-path=\"url(#clip130)\" d=\"M 0 0 M157.177 371.535 Q153.566 371.535 151.737 375.1 Q149.931 378.641 149.931 385.771 Q149.931 392.877 151.737 396.442 Q153.566 399.984 157.177 399.984 Q160.811 399.984 162.616 396.442 Q164.445 392.877 164.445 385.771 Q164.445 378.641 162.616 375.1 Q160.811 371.535 157.177 371.535 M157.177 367.831 Q162.987 367.831 166.042 372.438 Q169.121 377.021 169.121 385.771 Q169.121 394.498 166.042 399.104 Q162.987 403.688 157.177 403.688 Q151.366 403.688 148.288 399.104 Q145.232 394.498 145.232 385.771 Q145.232 377.021 148.288 372.438 Q151.366 367.831 157.177 367.831 Z\" fill=\"#000000\" fill-rule=\"evenodd\" fill-opacity=\"1\" /><path clip-path=\"url(#clip130)\" d=\"M 0 0 M129.862 39.6963 L118.056 58.1453 L129.862 58.1453 L129.862 39.6963 M128.635 35.6223 L134.515 35.6223 L134.515 58.1453 L139.445 58.1453 L139.445 62.0342 L134.515 62.0342 L134.515 70.1823 L129.862 70.1823 L129.862 62.0342 L114.26 62.0342 L114.26 57.5203 L128.635 35.6223 Z\" fill=\"#000000\" fill-rule=\"evenodd\" fill-opacity=\"1\" /><path clip-path=\"url(#clip130)\" d=\"M 0 0 M157.177 38.701 Q153.566 38.701 151.737 42.2658 Q149.931 45.8074 149.931 52.937 Q149.931 60.0434 151.737 63.6082 Q153.566 67.1499 157.177 67.1499 Q160.811 67.1499 162.616 63.6082 Q164.445 60.0434 164.445 52.937 Q164.445 45.8074 162.616 42.2658 Q160.811 38.701 157.177 38.701 M157.177 34.9973 Q162.987 34.9973 166.042 39.6037 Q169.121 44.187 169.121 52.937 Q169.121 61.6638 166.042 66.2703 Q162.987 70.8536 157.177 70.8536 Q151.366 70.8536 148.288 66.2703 Q145.232 61.6638 145.232 52.937 Q145.232 44.187 148.288 39.6037 Q151.366 34.9973 157.177 34.9973 Z\" fill=\"#000000\" fill-rule=\"evenodd\" fill-opacity=\"1\" /><path clip-path=\"url(#clip130)\" d=\"M 0 0 M16.4842 1048.96 L16.4842 1040.3 L56.238 1019.23 L16.4842 1019.23 L16.4842 1013 L64.0042 1013 L64.0042 1021.65 L24.2503 1042.72 L64.0042 1042.72 L64.0042 1048.96 L16.4842 1048.96 Z\" fill=\"#000000\" fill-rule=\"evenodd\" fill-opacity=\"1\" /><path clip-path=\"url(#clip130)\" d=\"M 0 0 M49.9359 1001.06 L28.3562 1001.06 L28.3562 995.203 L49.7131 995.203 Q54.7739 995.203 57.3202 993.23 Q59.8346 991.257 59.8346 987.31 Q59.8346 982.567 56.8109 979.83 Q53.7872 977.061 48.5673 977.061 L28.3562 977.061 L28.3562 971.205 L64.0042 971.205 L64.0042 977.061 L58.5296 977.061 Q61.7762 979.194 63.3676 982.026 Q64.9272 984.827 64.9272 988.551 Q64.9272 994.694 61.1078 997.877 Q57.2883 1001.06 49.9359 1001.06 M27.4968 986.323 L27.4968 986.323 Z\" fill=\"#000000\" fill-rule=\"evenodd\" fill-opacity=\"1\" /><path clip-path=\"url(#clip130)\" d=\"M 0 0 M35.1993 931.387 Q31.2526 929.191 29.3747 926.135 Q27.4968 923.08 27.4968 918.942 Q27.4968 913.372 31.4117 910.348 Q35.2948 907.325 42.4881 907.325 L64.0042 907.325 L64.0042 913.213 L42.679 913.213 Q37.5546 913.213 35.072 915.027 Q32.5894 916.841 32.5894 920.565 Q32.5894 925.117 35.6131 927.759 Q38.6368 930.4 43.8567 930.4 L64.0042 930.4 L64.0042 936.289 L42.679 936.289 Q37.5228 936.289 35.072 938.103 Q32.5894 939.917 32.5894 943.705 Q32.5894 948.193 35.6449 950.834 Q38.6686 953.476 43.8567 953.476 L64.0042 953.476 L64.0042 959.364 L28.3562 959.364 L28.3562 953.476 L33.8944 953.476 Q30.616 951.471 29.0564 948.67 Q27.4968 945.869 27.4968 942.018 Q27.4968 938.135 29.4702 935.429 Q31.4436 932.692 35.1993 931.387 Z\" fill=\"#000000\" fill-rule=\"evenodd\" fill-opacity=\"1\" /><path clip-path=\"url(#clip130)\" d=\"M 0 0 M46.212 870.054 Q39.7508 870.054 36.0905 872.727 Q32.3984 875.369 32.3984 880.016 Q32.3984 884.663 36.0905 887.336 Q39.7508 889.978 46.212 889.978 Q52.6732 889.978 56.3653 887.336 Q60.0256 884.663 60.0256 880.016 Q60.0256 875.369 56.3653 872.727 Q52.6732 870.054 46.212 870.054 M33.7671 889.978 Q30.5842 888.132 29.0564 885.331 Q27.4968 882.499 27.4968 878.584 Q27.4968 872.091 32.6531 868.048 Q37.8093 863.974 46.212 863.974 Q54.6147 863.974 59.771 868.048 Q64.9272 872.091 64.9272 878.584 Q64.9272 882.499 63.3994 885.331 Q61.8398 888.132 58.657 889.978 L64.0042 889.978 L64.0042 895.866 L14.479 895.866 L14.479 889.978 L33.7671 889.978 Z\" fill=\"#000000\" fill-rule=\"evenodd\" fill-opacity=\"1\" /><path clip-path=\"url(#clip130)\" d=\"M 0 0 M44.7161 823.775 L47.5806 823.775 L47.5806 850.702 Q53.6281 850.32 56.8109 847.073 Q59.9619 843.795 59.9619 837.97 Q59.9619 834.597 59.1344 831.446 Q58.3069 828.263 56.6518 825.143 L62.1899 825.143 Q63.5267 828.295 64.227 831.605 Q64.9272 834.915 64.9272 838.321 Q64.9272 846.851 59.9619 851.848 Q54.9967 856.813 46.5303 856.813 Q37.7774 856.813 32.6531 852.102 Q27.4968 847.36 27.4968 839.339 Q27.4968 832.146 32.1438 827.976 Q36.7589 823.775 44.7161 823.775 M42.9973 829.631 Q38.1912 829.695 35.3266 832.337 Q32.4621 834.947 32.4621 839.275 Q32.4621 844.177 35.2312 847.137 Q38.0002 850.065 43.0292 850.511 L42.9973 829.631 Z\" fill=\"#000000\" fill-rule=\"evenodd\" fill-opacity=\"1\" /><path clip-path=\"url(#clip130)\" d=\"M 0 0 M33.8307 793.506 Q33.2578 794.493 33.0032 795.67 Q32.7167 796.816 32.7167 798.217 Q32.7167 803.182 35.9632 805.855 Q39.1779 808.497 45.2253 808.497 L64.0042 808.497 L64.0042 814.385 L28.3562 814.385 L28.3562 808.497 L33.8944 808.497 Q30.6479 806.651 29.0883 803.691 Q27.4968 800.731 27.4968 796.498 Q27.4968 795.893 27.5923 795.161 Q27.656 794.429 27.8151 793.538 L33.8307 793.506 Z\" fill=\"#000000\" fill-rule=\"evenodd\" fill-opacity=\"1\" /><path clip-path=\"url(#clip130)\" d=\"M 0 0 M32.4621 752.829 Q32.4621 757.54 36.1542 760.277 Q39.8145 763.014 46.212 763.014 Q52.6095 763.014 56.3017 760.309 Q59.9619 757.572 59.9619 752.829 Q59.9619 748.15 56.2698 745.413 Q52.5777 742.676 46.212 742.676 Q39.8781 742.676 36.186 745.413 Q32.4621 748.15 32.4621 752.829 M27.4968 752.829 Q27.4968 745.19 32.4621 740.83 Q37.4273 736.469 46.212 736.469 Q54.9649 736.469 59.9619 740.83 Q64.9272 745.19 64.9272 752.829 Q64.9272 760.5 59.9619 764.86 Q54.9649 769.189 46.212 769.189 Q37.4273 769.189 32.4621 764.86 Q27.4968 760.5 27.4968 752.829 Z\" fill=\"#000000\" fill-rule=\"evenodd\" fill-opacity=\"1\" /><path clip-path=\"url(#clip130)\" d=\"M 0 0 M14.479 708.715 L19.3487 708.715 L19.3487 714.317 Q19.3487 717.468 20.6219 718.709 Q21.895 719.918 25.2052 719.918 L28.3562 719.918 L28.3562 710.274 L32.9077 710.274 L32.9077 719.918 L64.0042 719.918 L64.0042 725.807 L32.9077 725.807 L32.9077 731.408 L28.3562 731.408 L28.3562 725.807 L25.8736 725.807 Q19.9216 725.807 17.2162 723.038 Q14.479 720.268 14.479 714.253 L14.479 708.715 Z\" fill=\"#000000\" fill-rule=\"evenodd\" fill-opacity=\"1\" /><path clip-path=\"url(#clip130)\" d=\"M 0 0 M29.4065 660.367 L34.9447 660.367 Q33.6716 662.85 33.035 665.523 Q32.3984 668.197 32.3984 671.062 Q32.3984 675.422 33.7352 677.618 Q35.072 679.783 37.7456 679.783 Q39.7826 679.783 40.9603 678.223 Q42.1061 676.663 43.1565 671.953 L43.6021 669.948 Q44.9389 663.709 47.3897 661.099 Q49.8086 658.457 54.1691 658.457 Q59.1344 658.457 62.0308 662.404 Q64.9272 666.319 64.9272 673.194 Q64.9272 676.059 64.3543 679.178 Q63.8132 682.265 62.6992 685.703 L56.6518 685.703 Q58.3387 682.456 59.198 679.305 Q60.0256 676.154 60.0256 673.067 Q60.0256 668.929 58.6251 666.701 Q57.1929 664.473 54.6147 664.473 Q52.2276 664.473 50.9545 666.096 Q49.6813 667.688 48.5037 673.13 L48.0262 675.167 Q46.8804 680.61 44.5251 683.029 Q42.138 685.448 38.0002 685.448 Q32.9713 685.448 30.2341 681.883 Q27.4968 678.318 27.4968 671.762 Q27.4968 668.515 27.9743 665.651 Q28.4517 662.786 29.4065 660.367 Z\" fill=\"#000000\" fill-rule=\"evenodd\" fill-opacity=\"1\" /><path clip-path=\"url(#clip130)\" d=\"M 0 0 M46.0847 632.931 Q46.0847 640.029 47.7079 642.766 Q49.3312 645.503 53.2461 645.503 Q56.3653 645.503 58.2114 643.466 Q60.0256 641.397 60.0256 637.864 Q60.0256 632.995 56.5881 630.066 Q53.1188 627.106 47.3897 627.106 L46.0847 627.106 L46.0847 632.931 M43.6657 621.25 L64.0042 621.25 L64.0042 627.106 L58.5933 627.106 Q61.8398 629.112 63.3994 632.103 Q64.9272 635.095 64.9272 639.424 Q64.9272 644.899 61.8716 648.145 Q58.7843 651.36 53.6281 651.36 Q47.6125 651.36 44.5569 647.349 Q41.5014 643.307 41.5014 635.318 L41.5014 627.106 L40.9285 627.106 Q36.8862 627.106 34.6901 629.78 Q32.4621 632.422 32.4621 637.228 Q32.4621 640.283 33.1941 643.18 Q33.9262 646.076 35.3903 648.75 L29.9795 648.75 Q28.7381 645.535 28.1334 642.511 Q27.4968 639.488 27.4968 636.623 Q27.4968 628.889 31.5072 625.069 Q35.5176 621.25 43.6657 621.25 Z\" fill=\"#000000\" fill-rule=\"evenodd\" fill-opacity=\"1\" /><path clip-path=\"url(#clip130)\" d=\"M 0 0 M35.1993 581.432 Q31.2526 579.236 29.3747 576.181 Q27.4968 573.125 27.4968 568.987 Q27.4968 563.417 31.4117 560.394 Q35.2948 557.37 42.4881 557.37 L64.0042 557.37 L64.0042 563.258 L42.679 563.258 Q37.5546 563.258 35.072 565.073 Q32.5894 566.887 32.5894 570.611 Q32.5894 575.162 35.6131 577.804 Q38.6368 580.446 43.8567 580.446 L64.0042 580.446 L64.0042 586.334 L42.679 586.334 Q37.5228 586.334 35.072 588.148 Q32.5894 589.962 32.5894 593.75 Q32.5894 598.238 35.6449 600.88 Q38.6686 603.521 43.8567 603.521 L64.0042 603.521 L64.0042 609.41 L28.3562 609.41 L28.3562 603.521 L33.8944 603.521 Q30.616 601.516 29.0564 598.715 Q27.4968 595.914 27.4968 592.063 Q27.4968 588.18 29.4702 585.475 Q31.4436 582.737 35.1993 581.432 Z\" fill=\"#000000\" fill-rule=\"evenodd\" fill-opacity=\"1\" /><path clip-path=\"url(#clip130)\" d=\"M 0 0 M58.657 540.023 L77.5631 540.023 L77.5631 545.912 L28.3562 545.912 L28.3562 540.023 L33.7671 540.023 Q30.5842 538.177 29.0564 535.377 Q27.4968 532.544 27.4968 528.629 Q27.4968 522.136 32.6531 518.094 Q37.8093 514.02 46.212 514.02 Q54.6147 514.02 59.771 518.094 Q64.9272 522.136 64.9272 528.629 Q64.9272 532.544 63.3994 535.377 Q61.8398 538.177 58.657 540.023 M46.212 520.099 Q39.7508 520.099 36.0905 522.772 Q32.3984 525.414 32.3984 530.061 Q32.3984 534.708 36.0905 537.382 Q39.7508 540.023 46.212 540.023 Q52.6732 540.023 56.3653 537.382 Q60.0256 534.708 60.0256 530.061 Q60.0256 525.414 56.3653 522.772 Q52.6732 520.099 46.212 520.099 Z\" fill=\"#000000\" fill-rule=\"evenodd\" fill-opacity=\"1\" /><path clip-path=\"url(#clip130)\" d=\"M 0 0 M14.479 504.312 L14.479 498.455 L64.0042 498.455 L64.0042 504.312 L14.479 504.312 Z\" fill=\"#000000\" fill-rule=\"evenodd\" fill-opacity=\"1\" /><path clip-path=\"url(#clip130)\" d=\"M 0 0 M44.7161 455.71 L47.5806 455.71 L47.5806 482.637 Q53.6281 482.255 56.8109 479.008 Q59.9619 475.73 59.9619 469.905 Q59.9619 466.531 59.1344 463.38 Q58.3069 460.198 56.6518 457.078 L62.1899 457.078 Q63.5267 460.229 64.227 463.54 Q64.9272 466.85 64.9272 470.255 Q64.9272 478.785 59.9619 483.782 Q54.9967 488.748 46.5303 488.748 Q37.7774 488.748 32.6531 484.037 Q27.4968 479.295 27.4968 471.274 Q27.4968 464.081 32.1438 459.911 Q36.7589 455.71 44.7161 455.71 M42.9973 461.566 Q38.1912 461.63 35.3266 464.272 Q32.4621 466.882 32.4621 471.21 Q32.4621 476.112 35.2312 479.072 Q38.0002 482 43.0292 482.446 L42.9973 461.566 Z\" fill=\"#000000\" fill-rule=\"evenodd\" fill-opacity=\"1\" /><path clip-path=\"url(#clip130)\" d=\"M 0 0 M29.4065 423.372 L34.9447 423.372 Q33.6716 425.855 33.035 428.528 Q32.3984 431.202 32.3984 434.066 Q32.3984 438.427 33.7352 440.623 Q35.072 442.787 37.7456 442.787 Q39.7826 442.787 40.9603 441.228 Q42.1061 439.668 43.1565 434.958 L43.6021 432.952 Q44.9389 426.714 47.3897 424.104 Q49.8086 421.462 54.1691 421.462 Q59.1344 421.462 62.0308 425.409 Q64.9272 429.324 64.9272 436.199 Q64.9272 439.063 64.3543 442.183 Q63.8132 445.27 62.6992 448.707 L56.6518 448.707 Q58.3387 445.461 59.198 442.31 Q60.0256 439.159 60.0256 436.071 Q60.0256 431.934 58.6251 429.706 Q57.1929 427.478 54.6147 427.478 Q52.2276 427.478 50.9545 429.101 Q49.6813 430.692 48.5037 436.135 L48.0262 438.172 Q46.8804 443.615 44.5251 446.034 Q42.138 448.453 38.0002 448.453 Q32.9713 448.453 30.2341 444.888 Q27.4968 441.323 27.4968 434.767 Q27.4968 431.52 27.9743 428.655 Q28.4517 425.791 29.4065 423.372 Z\" fill=\"#000000\" fill-rule=\"evenodd\" fill-opacity=\"1\" /><path clip-path=\"url(#clip132)\" d=\"\n",
       "M323.245 1350.95 L323.245 1384.24 L497.007 1384.24 L497.007 1350.95 L323.245 1350.95 L323.245 1350.95  Z\n",
       "  \" fill=\"#009af9\" fill-rule=\"evenodd\" fill-opacity=\"1\"/>\n",
       "<polyline clip-path=\"url(#clip132)\" style=\"stroke:#000000; stroke-width:4; stroke-opacity:1; fill:none\" points=\"\n",
       "  323.245,1350.95 323.245,1384.24 497.007,1384.24 497.007,1350.95 323.245,1350.95 \n",
       "  \"/>\n",
       "<path clip-path=\"url(#clip132)\" d=\"\n",
       "M497.007 1284.39 L497.007 1384.24 L670.77 1384.24 L670.77 1284.39 L497.007 1284.39 L497.007 1284.39  Z\n",
       "  \" fill=\"#009af9\" fill-rule=\"evenodd\" fill-opacity=\"1\"/>\n",
       "<polyline clip-path=\"url(#clip132)\" style=\"stroke:#000000; stroke-width:4; stroke-opacity:1; fill:none\" points=\"\n",
       "  497.007,1284.39 497.007,1384.24 670.77,1384.24 670.77,1284.39 497.007,1284.39 \n",
       "  \"/>\n",
       "<path clip-path=\"url(#clip132)\" d=\"\n",
       "M670.77 1384.24 L670.77 1384.24 L844.532 1384.24 L844.532 1384.24 L670.77 1384.24 L670.77 1384.24  Z\n",
       "  \" fill=\"#009af9\" fill-rule=\"evenodd\" fill-opacity=\"1\"/>\n",
       "<polyline clip-path=\"url(#clip132)\" style=\"stroke:#000000; stroke-width:4; stroke-opacity:1; fill:none\" points=\"\n",
       "  670.77,1384.24 670.77,1384.24 844.532,1384.24 670.77,1384.24 \n",
       "  \"/>\n",
       "<path clip-path=\"url(#clip132)\" d=\"\n",
       "M844.532 1350.95 L844.532 1384.24 L1018.29 1384.24 L1018.29 1350.95 L844.532 1350.95 L844.532 1350.95  Z\n",
       "  \" fill=\"#009af9\" fill-rule=\"evenodd\" fill-opacity=\"1\"/>\n",
       "<polyline clip-path=\"url(#clip132)\" style=\"stroke:#000000; stroke-width:4; stroke-opacity:1; fill:none\" points=\"\n",
       "  844.532,1350.95 844.532,1384.24 1018.29,1384.24 1018.29,1350.95 844.532,1350.95 \n",
       "  \"/>\n",
       "<path clip-path=\"url(#clip132)\" d=\"\n",
       "M1018.29 1317.67 L1018.29 1384.24 L1192.06 1384.24 L1192.06 1317.67 L1018.29 1317.67 L1018.29 1317.67  Z\n",
       "  \" fill=\"#009af9\" fill-rule=\"evenodd\" fill-opacity=\"1\"/>\n",
       "<polyline clip-path=\"url(#clip132)\" style=\"stroke:#000000; stroke-width:4; stroke-opacity:1; fill:none\" points=\"\n",
       "  1018.29,1317.67 1018.29,1384.24 1192.06,1384.24 1192.06,1317.67 1018.29,1317.67 \n",
       "  \"/>\n",
       "<path clip-path=\"url(#clip132)\" d=\"\n",
       "M1192.06 1184.54 L1192.06 1384.24 L1365.82 1384.24 L1365.82 1184.54 L1192.06 1184.54 L1192.06 1184.54  Z\n",
       "  \" fill=\"#009af9\" fill-rule=\"evenodd\" fill-opacity=\"1\"/>\n",
       "<polyline clip-path=\"url(#clip132)\" style=\"stroke:#000000; stroke-width:4; stroke-opacity:1; fill:none\" points=\"\n",
       "  1192.06,1184.54 1192.06,1384.24 1365.82,1384.24 1365.82,1184.54 1192.06,1184.54 \n",
       "  \"/>\n",
       "<path clip-path=\"url(#clip132)\" d=\"\n",
       "M1365.82 1151.25 L1365.82 1384.24 L1539.58 1384.24 L1539.58 1151.25 L1365.82 1151.25 L1365.82 1151.25  Z\n",
       "  \" fill=\"#009af9\" fill-rule=\"evenodd\" fill-opacity=\"1\"/>\n",
       "<polyline clip-path=\"url(#clip132)\" style=\"stroke:#000000; stroke-width:4; stroke-opacity:1; fill:none\" points=\"\n",
       "  1365.82,1151.25 1365.82,1384.24 1539.58,1384.24 1539.58,1151.25 1365.82,1151.25 \n",
       "  \"/>\n",
       "<path clip-path=\"url(#clip132)\" d=\"\n",
       "M1539.58 1117.97 L1539.58 1384.24 L1713.34 1384.24 L1713.34 1117.97 L1539.58 1117.97 L1539.58 1117.97  Z\n",
       "  \" fill=\"#009af9\" fill-rule=\"evenodd\" fill-opacity=\"1\"/>\n",
       "<polyline clip-path=\"url(#clip132)\" style=\"stroke:#000000; stroke-width:4; stroke-opacity:1; fill:none\" points=\"\n",
       "  1539.58,1117.97 1539.58,1384.24 1713.34,1384.24 1713.34,1117.97 1539.58,1117.97 \n",
       "  \"/>\n",
       "<path clip-path=\"url(#clip132)\" d=\"\n",
       "M1713.34 951.554 L1713.34 1384.24 L1887.11 1384.24 L1887.11 951.554 L1713.34 951.554 L1713.34 951.554  Z\n",
       "  \" fill=\"#009af9\" fill-rule=\"evenodd\" fill-opacity=\"1\"/>\n",
       "<polyline clip-path=\"url(#clip132)\" style=\"stroke:#000000; stroke-width:4; stroke-opacity:1; fill:none\" points=\"\n",
       "  1713.34,951.554 1713.34,1384.24 1887.11,1384.24 1887.11,951.554 1713.34,951.554 \n",
       "  \"/>\n",
       "<path clip-path=\"url(#clip132)\" d=\"\n",
       "M1887.11 86.1857 L1887.11 1384.24 L2060.87 1384.24 L2060.87 86.1857 L1887.11 86.1857 L1887.11 86.1857  Z\n",
       "  \" fill=\"#009af9\" fill-rule=\"evenodd\" fill-opacity=\"1\"/>\n",
       "<polyline clip-path=\"url(#clip132)\" style=\"stroke:#000000; stroke-width:4; stroke-opacity:1; fill:none\" points=\"\n",
       "  1887.11,86.1857 1887.11,1384.24 2060.87,1384.24 2060.87,86.1857 1887.11,86.1857 \n",
       "  \"/>\n",
       "<path clip-path=\"url(#clip132)\" d=\"\n",
       "M2060.87 718.57 L2060.87 1384.24 L2234.63 1384.24 L2234.63 718.57 L2060.87 718.57 L2060.87 718.57  Z\n",
       "  \" fill=\"#009af9\" fill-rule=\"evenodd\" fill-opacity=\"1\"/>\n",
       "<polyline clip-path=\"url(#clip132)\" style=\"stroke:#000000; stroke-width:4; stroke-opacity:1; fill:none\" points=\"\n",
       "  2060.87,718.57 2060.87,1384.24 2234.63,1384.24 2234.63,718.57 2060.87,718.57 \n",
       "  \"/>\n",
       "</svg>\n"
      ]
     },
     "execution_count": 7,
     "metadata": {},
     "output_type": "execute_result"
    }
   ],
   "source": [
    "using CSV, DataFrames\n",
    "quality = CSV.read(\"mendel.imputed.chr22.sample.error\", DataFrame) # import quality score \n",
    "\n",
    "# visualize error distribution\n",
    "histogram(quality[:error], label=:none, xlabel=\"per-sample quality score\",\n",
    "    ylabel=\"Number of samples\") "
   ]
  },
  {
   "cell_type": "markdown",
   "metadata": {},
   "source": [
    "**Conclusion:** Most samples are well imputed (e.g. score close to 1), but some samples are indeed poorly imputed. From the histogram, we can safely [filtered out](https://openmendel.github.io/VCFTools.jl/dev/man/filter/#Subsetting-VCF-files-using-array-masks) samples with score $< 0.999$ as that would remove poorly imputed individuals without reducing sample size too much."
   ]
  }
 ],
 "metadata": {
  "@webio": {
   "lastCommId": null,
   "lastKernelId": null
  },
  "kernelspec": {
   "display_name": "Julia 1.6.0",
   "language": "julia",
   "name": "julia-1.6"
  },
  "language_info": {
   "file_extension": ".jl",
   "mimetype": "application/julia",
   "name": "julia",
   "version": "1.6.0"
  }
 },
 "nbformat": 4,
 "nbformat_minor": 2
}
