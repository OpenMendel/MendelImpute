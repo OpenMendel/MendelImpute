{
 "cells": [
  {
   "cell_type": "markdown",
   "metadata": {},
   "source": [
    "# Run MendelImpute as script\n",
    "\n",
    "If you don't want to run `MendelImpute.jl` in a Julia session (e.g. you want to run batch jobs on a cluster), you can do so by putting the code below in a Julia file. For example, in order to run with 8 threads, create a file called `impute.jl` which contains:\n",
    "\n",
    "```julia\n",
    "# place these code in a file called impute.jl\n",
    "using MendelImpute, VCFTools, LinearAlgebra\n",
    "\n",
    "# setup code goes here\n",
    "reffile = ARGS[1]       # first command line argument\n",
    "tgtfile = ARGS[2]       # second command line argument\n",
    "outfile = ARGS[3]       # third command line argument\n",
    "BLAS.set_num_threads(1) # set BLAS threads to 1 (see performance gotchas)\n",
    "\n",
    "# run MendelImpute with default options\n",
    "phase(tgtfile, reffile, outfile)\n",
    "```\n",
    "\n",
    "Then in the terminal/command-prompt, you can do\n",
    "```\n",
    "julia --threads 8 impute.jl ref.jlso target.vcf.gz output.vcf.gz\n",
    "```"
   ]
  }
 ],
 "metadata": {
  "kernelspec": {
   "display_name": "Julia 1.5.0",
   "language": "julia",
   "name": "julia-1.5"
  },
  "language_info": {
   "file_extension": ".jl",
   "mimetype": "application/julia",
   "name": "julia",
   "version": "1.5.0"
  }
 },
 "nbformat": 4,
 "nbformat_minor": 2
}
